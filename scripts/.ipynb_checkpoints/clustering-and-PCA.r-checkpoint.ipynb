{
 "cells": [
  {
   "cell_type": "code",
   "execution_count": null,
   "id": "ddb5a7ce",
   "metadata": {},
   "outputs": [],
   "source": [
    "# conda activate RNASeqExampleKG3"
   ]
  },
  {
   "cell_type": "code",
   "execution_count": null,
   "id": "8b54ea57",
   "metadata": {},
   "outputs": [],
   "source": [
    "# \n",
    "# clustering and pca\n",
    "#\n",
    "# n.b.: when restricting the analysis to a set of favorite genes (EnsgID file parameter 6), \n",
    "#  use number of genes as parameter 7\n",
    "#  topExpressed genes heatmap file name will be replaced with geneHeatmap-23genes.pdf \n",
    "#  pca and sampleDist plots are also based on these genes only\n",
    "# \n",
    "# recipe stolen from http://www.sthda.com/english/wiki/rna-seq-differential-expression-work-flow-using-deseq2\n",
    "# "
   ]
  },
  {
   "cell_type": "code",
   "execution_count": null,
   "id": "13f45d71",
   "metadata": {},
   "outputs": [],
   "source": [
    "# installing/updating libraries:\n",
    "\n",
    "# install devtools (for installing ComplexHeatmap): conda install r-devtools\n",
    "# library(devtools)"
   ]
  },
  {
   "cell_type": "code",
   "execution_count": 1,
   "id": "116a7b4e",
   "metadata": {},
   "outputs": [],
   "source": [
    "rm(list=ls())\n",
    "\n",
    "drawScatterPlots <- F\n",
    "useRainbowColors <- T"
   ]
  },
  {
   "cell_type": "code",
   "execution_count": 2,
   "id": "0d72b60c",
   "metadata": {},
   "outputs": [],
   "source": [
    "setwd(\"/data/bcu_projects/MelBrainSys_PostdocProject_Gruetzmann/github/RNA-Seq-analysis-example/\")"
   ]
  },
  {
   "cell_type": "code",
   "execution_count": 3,
   "id": "0ebab46f",
   "metadata": {},
   "outputs": [],
   "source": [
    "args = c(\"clustering\", \n",
    "         \"annotation/GRCh37.p23-EnsgID-GeneSymbol.csv\",\n",
    "         \"annotation/annotation.csv\", \"featCount-noMultiMap.RData\", \n",
    "         \"all-genes.xlsx\", \"genetypes-remove.txt\", \"200\", \"group\", \"RNA_concentation\")"
   ]
  },
  {
   "cell_type": "code",
   "execution_count": 4,
   "id": "9696db00",
   "metadata": {},
   "outputs": [],
   "source": [
    "rlogFile <- \"rlog.RData\"\n",
    "reUseRlog <- \"n\""
   ]
  },
  {
   "cell_type": "code",
   "execution_count": 7,
   "id": "f1aad3a4",
   "metadata": {},
   "outputs": [],
   "source": [
    "if (file.exists(rlogFile)) {\n",
    "  cat(rlogFile,\"already exist in current dir., using this one and spare time for rlog operation\")\n",
    "    load(rlogFile)\n",
    "    reUseRlog=\"y\"\n",
    "}"
   ]
  },
  {
   "cell_type": "code",
   "execution_count": null,
   "id": "b64c0c00",
   "metadata": {},
   "outputs": [],
   "source": [
    "# library(\"ComplexHeatmap\") # -> is broken, can load but doesnt work\n",
    "# detach(\"package:ComplexHeatmap\", unload=TRUE)"
   ]
  },
  {
   "cell_type": "code",
   "execution_count": 9,
   "id": "99f1c4fa",
   "metadata": {
    "scrolled": true
   },
   "outputs": [],
   "source": [
    "library(pheatmap)\n",
    "library(\"ggplot2\")\n",
    "library(\"Rsubread\") # for featureCount"
   ]
  },
  {
   "cell_type": "code",
   "execution_count": 13,
   "id": "d99c1e24",
   "metadata": {
    "collapsed": true
   },
   "outputs": [
    {
     "name": "stderr",
     "output_type": "stream",
     "text": [
      "Warning message:\n",
      "“package ‘xlsx’ was built under R version 4.2.1”\n"
     ]
    },
    {
     "ename": "ERROR",
     "evalue": "Error: package or namespace load failed for ‘xlsx’:\n .onLoad failed in loadNamespace() for 'rJava', details:\n  call: dyn.load(file, DLLpath = DLLpath, ...)\n  error: unable to load shared object '/home/gruetzmko/miniconda3/envs/RNASeqExampleKG3/lib/R/library/rJava/libs/rJava.so':\n  libjvm.so: cannot open shared object file: No such file or directory\n",
     "output_type": "error",
     "traceback": [
      "Error: package or namespace load failed for ‘xlsx’:\n .onLoad failed in loadNamespace() for 'rJava', details:\n  call: dyn.load(file, DLLpath = DLLpath, ...)\n  error: unable to load shared object '/home/gruetzmko/miniconda3/envs/RNASeqExampleKG3/lib/R/library/rJava/libs/rJava.so':\n  libjvm.so: cannot open shared object file: No such file or directory\nTraceback:\n",
      "1. library(xlsx)",
      "2. tryCatch({\n .     attr(package, \"LibPath\") <- which.lib.loc\n .     ns <- loadNamespace(package, lib.loc)\n .     env <- attachNamespace(ns, pos = pos, deps, exclude, include.only)\n . }, error = function(e) {\n .     P <- if (!is.null(cc <- conditionCall(e))) \n .         paste(\" in\", deparse(cc)[1L])\n .     else \"\"\n .     msg <- gettextf(\"package or namespace load failed for %s%s:\\n %s\", \n .         sQuote(package), P, conditionMessage(e))\n .     if (logical.return && !quietly) \n .         message(paste(\"Error:\", msg), domain = NA)\n .     else stop(msg, call. = FALSE, domain = NA)\n . })",
      "3. tryCatchList(expr, classes, parentenv, handlers)",
      "4. tryCatchOne(expr, names, parentenv, handlers[[1L]])",
      "5. value[[3L]](cond)",
      "6. stop(msg, call. = FALSE, domain = NA)"
     ]
    }
   ],
   "source": [
    "library(xlsx) # broken"
   ]
  },
  {
   "cell_type": "code",
   "execution_count": 46,
   "id": "d706c7a2",
   "metadata": {
    "scrolled": true
   },
   "outputs": [],
   "source": [
    "library(\"stats\") # for PCA\n",
    "library(\"DESeq2\") # for rlog data\n",
    "library(\"scales\") # for semi-transparent (alpha) colors\n",
    "library(\"circlize\") # colorRamp2\n",
    "library(ggrepel) # plot labels that do not overlap\n",
    "library(gridExtra) # arrange several plots in one "
   ]
  },
  {
   "cell_type": "code",
   "execution_count": 15,
   "id": "11fc92bb",
   "metadata": {},
   "outputs": [],
   "source": [
    "padjCutoff <- 0.05\n",
    "pCutoff <- 0.05"
   ]
  },
  {
   "cell_type": "markdown",
   "id": "8fac1a07",
   "metadata": {},
   "source": [
    "#### check if enough parameters given\n",
    "and give warning and explanation\n",
    "when script is run from command line (Rscript), it can be started without paramters to get explanation"
   ]
  },
  {
   "cell_type": "code",
   "execution_count": 16,
   "id": "ca6ad500",
   "metadata": {},
   "outputs": [],
   "source": [
    "if(length(args) <8) {\n",
    "  cat(\"ERROR: at least 8 parameters needed: outDir, ensembl gene descr, sample annot,\n",
    "  featureCountFile, xls outfile for TPMs/counts, file with genetypes to include/exclude or ENSGID, number of genes for clustering (e.g. 50 or 500),\n",
    "      list of sample annotation column names to add to plots (e.g. Type, DV2000, gender, ..., use several by separating with space char) \\n\")\n",
    "  # q(\"no\")\n",
    "}"
   ]
  },
  {
   "cell_type": "markdown",
   "id": "64f4378f",
   "metadata": {},
   "source": [
    "#### convert command line parameters to parameters with good names"
   ]
  },
  {
   "cell_type": "code",
   "execution_count": 17,
   "id": "93fa15fb",
   "metadata": {},
   "outputs": [],
   "source": [
    "outDir <- args[1]\n",
    "outDir <- ifelse(length(grep(\"\\\\/$\",outDir))==0,paste(outDir,\"/\",sep=\"\"),outDir)\n",
    "geneDescrFile <- args[2]\n",
    "sampleAnnotFile <- args[3]\n",
    "featureCountFile <- args[4]\n",
    "rpkmOutfile <- args[5]\n",
    "genetypeRemoveFile <- args[6]\n",
    "nbGenesForClustering <- as.numeric(args[7])\n",
    "annotAttrib <- args[8:length(args)]\n",
    "nbGeneNameShowCutoff <- 190 # how many genes at most so that names are drawn in plots"
   ]
  },
  {
   "cell_type": "markdown",
   "id": "fc4e9c3f",
   "metadata": {},
   "source": [
    "#### load gene annotation, clean and inspect:"
   ]
  },
  {
   "cell_type": "code",
   "execution_count": 18,
   "id": "ddb067dc",
   "metadata": {},
   "outputs": [
    {
     "name": "stdout",
     "output_type": "stream",
     "text": [
      "loading gtf gene descr.\n",
      "done\n"
     ]
    },
    {
     "data": {
      "text/html": [
       "<table class=\"dataframe\">\n",
       "<caption>A data.frame: 6 × 4</caption>\n",
       "<thead>\n",
       "\t<tr><th></th><th scope=col>Ensembl.Gene.ID</th><th scope=col>Associated.Gene.Name</th><th scope=col>Description</th><th scope=col>Gene.type</th></tr>\n",
       "\t<tr><th></th><th scope=col>&lt;chr&gt;</th><th scope=col>&lt;chr&gt;</th><th scope=col>&lt;chr&gt;</th><th scope=col>&lt;chr&gt;</th></tr>\n",
       "</thead>\n",
       "<tbody>\n",
       "\t<tr><th scope=row>1</th><td>ENSG00000271782</td><td>RP5-850O15.4</td><td>                                                                     </td><td>lincRNA  </td></tr>\n",
       "\t<tr><th scope=row>2</th><td>ENSG00000232753</td><td>RP11-347K2.1</td><td>                                                                     </td><td>lincRNA  </td></tr>\n",
       "\t<tr><th scope=row>3</th><td>ENSG00000225767</td><td>RP5-850O15.3</td><td>                                                                     </td><td>antisense</td></tr>\n",
       "\t<tr><th scope=row>4</th><td>ENSG00000202140</td><td>Y_RNA       </td><td>Y RNA [Source:RFAM;Acc:RF00019]                                      </td><td>misc_RNA </td></tr>\n",
       "\t<tr><th scope=row>5</th><td>ENSG00000207194</td><td>RNU6-1026P  </td><td>RNA, U6 small nuclear 1026, pseudogene [Source:HGNC Symbol;Acc:47989]</td><td>snRNA    </td></tr>\n",
       "\t<tr><th scope=row>6</th><td>ENSG00000252825</td><td>RNU6-1253P  </td><td>RNA, U6 small nuclear 1253, pseudogene [Source:HGNC Symbol;Acc:48216]</td><td>snRNA    </td></tr>\n",
       "</tbody>\n",
       "</table>\n"
      ],
      "text/latex": [
       "A data.frame: 6 × 4\n",
       "\\begin{tabular}{r|llll}\n",
       "  & Ensembl.Gene.ID & Associated.Gene.Name & Description & Gene.type\\\\\n",
       "  & <chr> & <chr> & <chr> & <chr>\\\\\n",
       "\\hline\n",
       "\t1 & ENSG00000271782 & RP5-850O15.4 &                                                                       & lincRNA  \\\\\n",
       "\t2 & ENSG00000232753 & RP11-347K2.1 &                                                                       & lincRNA  \\\\\n",
       "\t3 & ENSG00000225767 & RP5-850O15.3 &                                                                       & antisense\\\\\n",
       "\t4 & ENSG00000202140 & Y\\_RNA        & Y RNA {[}Source:RFAM;Acc:RF00019{]}                                       & misc\\_RNA \\\\\n",
       "\t5 & ENSG00000207194 & RNU6-1026P   & RNA, U6 small nuclear 1026, pseudogene {[}Source:HGNC Symbol;Acc:47989{]} & snRNA    \\\\\n",
       "\t6 & ENSG00000252825 & RNU6-1253P   & RNA, U6 small nuclear 1253, pseudogene {[}Source:HGNC Symbol;Acc:48216{]} & snRNA    \\\\\n",
       "\\end{tabular}\n"
      ],
      "text/markdown": [
       "\n",
       "A data.frame: 6 × 4\n",
       "\n",
       "| <!--/--> | Ensembl.Gene.ID &lt;chr&gt; | Associated.Gene.Name &lt;chr&gt; | Description &lt;chr&gt; | Gene.type &lt;chr&gt; |\n",
       "|---|---|---|---|---|\n",
       "| 1 | ENSG00000271782 | RP5-850O15.4 | <!----> | lincRNA   |\n",
       "| 2 | ENSG00000232753 | RP11-347K2.1 | <!----> | lincRNA   |\n",
       "| 3 | ENSG00000225767 | RP5-850O15.3 | <!----> | antisense |\n",
       "| 4 | ENSG00000202140 | Y_RNA        | Y RNA [Source:RFAM;Acc:RF00019]                                       | misc_RNA  |\n",
       "| 5 | ENSG00000207194 | RNU6-1026P   | RNA, U6 small nuclear 1026, pseudogene [Source:HGNC Symbol;Acc:47989] | snRNA     |\n",
       "| 6 | ENSG00000252825 | RNU6-1253P   | RNA, U6 small nuclear 1253, pseudogene [Source:HGNC Symbol;Acc:48216] | snRNA     |\n",
       "\n"
      ],
      "text/plain": [
       "  Ensembl.Gene.ID Associated.Gene.Name\n",
       "1 ENSG00000271782 RP5-850O15.4        \n",
       "2 ENSG00000232753 RP11-347K2.1        \n",
       "3 ENSG00000225767 RP5-850O15.3        \n",
       "4 ENSG00000202140 Y_RNA               \n",
       "5 ENSG00000207194 RNU6-1026P          \n",
       "6 ENSG00000252825 RNU6-1253P          \n",
       "  Description                                                          \n",
       "1                                                                      \n",
       "2                                                                      \n",
       "3                                                                      \n",
       "4 Y RNA [Source:RFAM;Acc:RF00019]                                      \n",
       "5 RNA, U6 small nuclear 1026, pseudogene [Source:HGNC Symbol;Acc:47989]\n",
       "6 RNA, U6 small nuclear 1253, pseudogene [Source:HGNC Symbol;Acc:48216]\n",
       "  Gene.type\n",
       "1 lincRNA  \n",
       "2 lincRNA  \n",
       "3 antisense\n",
       "4 misc_RNA \n",
       "5 snRNA    \n",
       "6 snRNA    "
      ]
     },
     "metadata": {},
     "output_type": "display_data"
    }
   ],
   "source": [
    "# gene annotation:\n",
    "cat(\"loading gtf gene descr.\\n\")\n",
    "annot <- read.csv(gzfile(geneDescrFile),header = T, comment=\"#\",stringsAsFactors = F,sep=\"\\t\")\n",
    "head(annot)\n",
    "colnames(annot) <- c(\"ensgID\",\"symbol\",\"description\",\"geneType\")\n",
    "rownames(annot) <- annot$ensgID\n",
    "annot$description <- gsub(\"([^\\\\[]+).*\",\"\\\\1\",annot$description, perl=T)\n",
    "annot$description <- gsub(\"(.+) \",\"\\\\1\",annot$description,perl=T)"
   ]
  },
  {
   "cell_type": "markdown",
   "id": "9ecd6e39",
   "metadata": {},
   "source": [
    "#### load include / exclude list of gene biotypes "
   ]
  },
  {
   "cell_type": "code",
   "execution_count": 19,
   "id": "fab1ca6a",
   "metadata": {},
   "outputs": [
    {
     "name": "stdout",
     "output_type": "stream",
     "text": [
      "stop1\n",
      "excluding rRNA Mt_rRNA \n",
      "stop2\n"
     ]
    }
   ],
   "source": [
    "# gene type inclusion/exclusion :\n",
    "wishedGenetypes <- read.csv(genetypeRemoveFile,header=F,stringsAsFactors = F)\n",
    "wishedGenetypes <- wishedGenetypes$V1\n",
    "# is list of Ensg genes?\n",
    "haveReducedList <- F\n",
    "if (length(grep(\"^ENS\",wishedGenetypes))>1) {\n",
    "\tgeneIDincludeList <- wishedGenetypes\n",
    "\tgeneIDincludeList <- geneIDincludeList[grep(\"ENS\",geneIDincludeList)]\n",
    "\thaveReducedList <- T\n",
    "} else {\n",
    "  #  is list of gene types:\n",
    "  if (length(wishedGenetypes)>1) {cat(genetypeRemoveFile,\" must contain only 1 line with exclude or include list\\n\");q(\"no\")}\n",
    "  if(length(grep(\"include\\\\s*:|exclude\\\\s*:\",wishedGenetypes,perl=T))!=1) {cat(genetypeRemoveFile,\"must contain word include: or exclude:\\n\"); q(\"no\")}\n",
    "  if(length(grep(\"include\\\\s*:\",wishedGenetypes[1],perl=T))==1) {\n",
    "    geneTypeInclList <- gsub(\"include\\\\s*:\\\\s*(.+)\",\"\\\\1\",wishedGenetypes,perl=T)\n",
    "    geneTypeInclList <- unlist(strsplit(geneTypeInclList,\"\\\\s\"))\n",
    "    wh <- which(nchar(geneTypeInclList)>0)\n",
    "    geneTypeInclList <- geneTypeInclList[wh]\n",
    "    cat(\"including\",geneTypeInclList,\"\\n\")\n",
    "  }\n",
    "  if(length(grep(\"exclude\\\\s*:\",wishedGenetypes[1],perl=T))==1) {\n",
    "    geneTypeExclList <- gsub(\"exclude\\\\s*:\\\\s*(.+)\",\"\\\\1\",wishedGenetypes,perl=T)\n",
    "    geneTypeExclList <- unlist(strsplit(geneTypeExclList,\"\\\\s\"))\n",
    "    wh <- which(nchar(geneTypeExclList)>0)\n",
    "    geneTypeExclList <- geneTypeExclList[wh]\n",
    "    cat(\"excluding\",geneTypeExclList,\"\\n\")\n",
    "  }\n",
    "}"
   ]
  },
  {
   "cell_type": "markdown",
   "id": "766aa87f",
   "metadata": {},
   "source": [
    "#### load feature counts and inspect:"
   ]
  },
  {
   "cell_type": "code",
   "execution_count": 20,
   "id": "00be474d",
   "metadata": {},
   "outputs": [
    {
     "data": {
      "text/html": [
       "<table class=\"dataframe\">\n",
       "<caption>A matrix: 6 × 12 of type int</caption>\n",
       "<thead>\n",
       "\t<tr><th></th><th scope=col>R-1090</th><th scope=col>R-1091</th><th scope=col>R-1092</th><th scope=col>R-1093</th><th scope=col>R-1094</th><th scope=col>R-1095</th><th scope=col>R-1096</th><th scope=col>R-1097</th><th scope=col>R-1098</th><th scope=col>R-1099</th><th scope=col>R-1100</th><th scope=col>R-1101</th></tr>\n",
       "</thead>\n",
       "<tbody>\n",
       "\t<tr><th scope=row>ENSG00000223972</th><td> 0</td><td> 0</td><td> 0</td><td> 0</td><td> 0</td><td> 0</td><td> 0</td><td>0</td><td> 0</td><td> 0</td><td> 0</td><td> 0</td></tr>\n",
       "\t<tr><th scope=row>ENSG00000227232</th><td>14</td><td>15</td><td>20</td><td>13</td><td>32</td><td>11</td><td>12</td><td>8</td><td>11</td><td>16</td><td>16</td><td>73</td></tr>\n",
       "\t<tr><th scope=row>ENSG00000243485</th><td> 0</td><td> 0</td><td> 0</td><td> 0</td><td> 0</td><td> 0</td><td> 0</td><td>0</td><td> 0</td><td> 0</td><td> 0</td><td> 0</td></tr>\n",
       "\t<tr><th scope=row>ENSG00000237613</th><td> 0</td><td> 0</td><td> 0</td><td> 0</td><td> 0</td><td> 0</td><td> 0</td><td>0</td><td> 0</td><td> 0</td><td> 0</td><td> 0</td></tr>\n",
       "\t<tr><th scope=row>ENSG00000268020</th><td> 0</td><td> 0</td><td> 0</td><td> 0</td><td> 0</td><td> 0</td><td> 0</td><td>0</td><td> 0</td><td> 0</td><td> 0</td><td> 0</td></tr>\n",
       "\t<tr><th scope=row>ENSG00000240361</th><td> 0</td><td> 0</td><td> 0</td><td> 0</td><td> 0</td><td> 0</td><td> 0</td><td>0</td><td> 0</td><td> 0</td><td> 0</td><td> 0</td></tr>\n",
       "</tbody>\n",
       "</table>\n"
      ],
      "text/latex": [
       "A matrix: 6 × 12 of type int\n",
       "\\begin{tabular}{r|llllllllllll}\n",
       "  & R-1090 & R-1091 & R-1092 & R-1093 & R-1094 & R-1095 & R-1096 & R-1097 & R-1098 & R-1099 & R-1100 & R-1101\\\\\n",
       "\\hline\n",
       "\tENSG00000223972 &  0 &  0 &  0 &  0 &  0 &  0 &  0 & 0 &  0 &  0 &  0 &  0\\\\\n",
       "\tENSG00000227232 & 14 & 15 & 20 & 13 & 32 & 11 & 12 & 8 & 11 & 16 & 16 & 73\\\\\n",
       "\tENSG00000243485 &  0 &  0 &  0 &  0 &  0 &  0 &  0 & 0 &  0 &  0 &  0 &  0\\\\\n",
       "\tENSG00000237613 &  0 &  0 &  0 &  0 &  0 &  0 &  0 & 0 &  0 &  0 &  0 &  0\\\\\n",
       "\tENSG00000268020 &  0 &  0 &  0 &  0 &  0 &  0 &  0 & 0 &  0 &  0 &  0 &  0\\\\\n",
       "\tENSG00000240361 &  0 &  0 &  0 &  0 &  0 &  0 &  0 & 0 &  0 &  0 &  0 &  0\\\\\n",
       "\\end{tabular}\n"
      ],
      "text/markdown": [
       "\n",
       "A matrix: 6 × 12 of type int\n",
       "\n",
       "| <!--/--> | R-1090 | R-1091 | R-1092 | R-1093 | R-1094 | R-1095 | R-1096 | R-1097 | R-1098 | R-1099 | R-1100 | R-1101 |\n",
       "|---|---|---|---|---|---|---|---|---|---|---|---|---|\n",
       "| ENSG00000223972 |  0 |  0 |  0 |  0 |  0 |  0 |  0 | 0 |  0 |  0 |  0 |  0 |\n",
       "| ENSG00000227232 | 14 | 15 | 20 | 13 | 32 | 11 | 12 | 8 | 11 | 16 | 16 | 73 |\n",
       "| ENSG00000243485 |  0 |  0 |  0 |  0 |  0 |  0 |  0 | 0 |  0 |  0 |  0 |  0 |\n",
       "| ENSG00000237613 |  0 |  0 |  0 |  0 |  0 |  0 |  0 | 0 |  0 |  0 |  0 |  0 |\n",
       "| ENSG00000268020 |  0 |  0 |  0 |  0 |  0 |  0 |  0 | 0 |  0 |  0 |  0 |  0 |\n",
       "| ENSG00000240361 |  0 |  0 |  0 |  0 |  0 |  0 |  0 | 0 |  0 |  0 |  0 |  0 |\n",
       "\n"
      ],
      "text/plain": [
       "                R-1090 R-1091 R-1092 R-1093 R-1094 R-1095 R-1096 R-1097 R-1098\n",
       "ENSG00000223972  0      0      0      0      0      0      0     0       0    \n",
       "ENSG00000227232 14     15     20     13     32     11     12     8      11    \n",
       "ENSG00000243485  0      0      0      0      0      0      0     0       0    \n",
       "ENSG00000237613  0      0      0      0      0      0      0     0       0    \n",
       "ENSG00000268020  0      0      0      0      0      0      0     0       0    \n",
       "ENSG00000240361  0      0      0      0      0      0      0     0       0    \n",
       "                R-1099 R-1100 R-1101\n",
       "ENSG00000223972  0      0      0    \n",
       "ENSG00000227232 16     16     73    \n",
       "ENSG00000243485  0      0      0    \n",
       "ENSG00000237613  0      0      0    \n",
       "ENSG00000268020  0      0      0    \n",
       "ENSG00000240361  0      0      0    "
      ]
     },
     "metadata": {},
     "output_type": "display_data"
    },
    {
     "data": {
      "text/html": [
       "<style>\n",
       ".list-inline {list-style: none; margin:0; padding: 0}\n",
       ".list-inline>li {display: inline-block}\n",
       ".list-inline>li:not(:last-child)::after {content: \"\\00b7\"; padding: 0 .5ex}\n",
       "</style>\n",
       "<ol class=list-inline><li>57952</li><li>12</li></ol>\n"
      ],
      "text/latex": [
       "\\begin{enumerate*}\n",
       "\\item 57952\n",
       "\\item 12\n",
       "\\end{enumerate*}\n"
      ],
      "text/markdown": [
       "1. 57952\n",
       "2. 12\n",
       "\n",
       "\n"
      ],
      "text/plain": [
       "[1] 57952    12"
      ]
     },
     "metadata": {},
     "output_type": "display_data"
    }
   ],
   "source": [
    "load(file = featureCountFile)\n",
    "counts <- as.matrix(fcountGenes$counts)\n",
    "rownames(counts) <- gsub(\"([^\\\\.]+)\\\\.?.*\",\"\\\\1\",rownames(counts))\n",
    "head(counts)\n",
    "dim(counts)"
   ]
  },
  {
   "cell_type": "markdown",
   "id": "532d9eee",
   "metadata": {
    "scrolled": true
   },
   "source": [
    "#### load sample annotation:"
   ]
  },
  {
   "cell_type": "code",
   "execution_count": 21,
   "id": "f79b9c2b",
   "metadata": {
    "scrolled": true
   },
   "outputs": [
    {
     "data": {
      "text/html": [
       "<table class=\"dataframe\">\n",
       "<caption>A data.frame: 6 × 8</caption>\n",
       "<thead>\n",
       "\t<tr><th></th><th scope=col>ID</th><th scope=col>cell_line</th><th scope=col>group</th><th scope=col>name</th><th scope=col>group_full</th><th scope=col>RNA_concentation</th><th scope=col>ratio_260_280</th><th scope=col>ratio_260_230</th></tr>\n",
       "\t<tr><th></th><th scope=col>&lt;chr&gt;</th><th scope=col>&lt;chr&gt;</th><th scope=col>&lt;chr&gt;</th><th scope=col>&lt;chr&gt;</th><th scope=col>&lt;chr&gt;</th><th scope=col>&lt;dbl&gt;</th><th scope=col>&lt;dbl&gt;</th><th scope=col>&lt;dbl&gt;</th></tr>\n",
       "</thead>\n",
       "<tbody>\n",
       "\t<tr><th scope=row>1</th><td>R-1090</td><td>UWB1.289</td><td>0    </td><td>R-1090_ctr  </td><td>UWB1.289_ctr  </td><td>3804.7</td><td>1.96</td><td>2.36</td></tr>\n",
       "\t<tr><th scope=row>2</th><td>R-1091</td><td>UWB1.289</td><td>0    </td><td>R-1091_ctr  </td><td>UWB1.289_ctr  </td><td>3383.5</td><td>1.98</td><td>2.34</td></tr>\n",
       "\t<tr><th scope=row>3</th><td>R-1092</td><td>UWB1.289</td><td>CT913</td><td>R-1092_CT913</td><td>UWB1.289_CT913</td><td>2859.8</td><td>1.95</td><td>2.24</td></tr>\n",
       "\t<tr><th scope=row>4</th><td>R-1093</td><td>UWB1.289</td><td>CT913</td><td>R-1093_CT913</td><td>UWB1.289_CT913</td><td>3208.5</td><td>1.94</td><td>2.13</td></tr>\n",
       "\t<tr><th scope=row>5</th><td>R-1094</td><td>UWB1.289</td><td>CT_M1</td><td>R-1094_CT_M1</td><td>UWB1.289_CT_M1</td><td>2805.7</td><td>1.95</td><td>2.11</td></tr>\n",
       "\t<tr><th scope=row>6</th><td>R-1095</td><td>UWB1.289</td><td>CT_M1</td><td>R-1095_CT_M1</td><td>UWB1.289_CT_M1</td><td>2958.1</td><td>1.94</td><td>2.28</td></tr>\n",
       "</tbody>\n",
       "</table>\n"
      ],
      "text/latex": [
       "A data.frame: 6 × 8\n",
       "\\begin{tabular}{r|llllllll}\n",
       "  & ID & cell\\_line & group & name & group\\_full & RNA\\_concentation & ratio\\_260\\_280 & ratio\\_260\\_230\\\\\n",
       "  & <chr> & <chr> & <chr> & <chr> & <chr> & <dbl> & <dbl> & <dbl>\\\\\n",
       "\\hline\n",
       "\t1 & R-1090 & UWB1.289 & 0     & R-1090\\_ctr   & UWB1.289\\_ctr   & 3804.7 & 1.96 & 2.36\\\\\n",
       "\t2 & R-1091 & UWB1.289 & 0     & R-1091\\_ctr   & UWB1.289\\_ctr   & 3383.5 & 1.98 & 2.34\\\\\n",
       "\t3 & R-1092 & UWB1.289 & CT913 & R-1092\\_CT913 & UWB1.289\\_CT913 & 2859.8 & 1.95 & 2.24\\\\\n",
       "\t4 & R-1093 & UWB1.289 & CT913 & R-1093\\_CT913 & UWB1.289\\_CT913 & 3208.5 & 1.94 & 2.13\\\\\n",
       "\t5 & R-1094 & UWB1.289 & CT\\_M1 & R-1094\\_CT\\_M1 & UWB1.289\\_CT\\_M1 & 2805.7 & 1.95 & 2.11\\\\\n",
       "\t6 & R-1095 & UWB1.289 & CT\\_M1 & R-1095\\_CT\\_M1 & UWB1.289\\_CT\\_M1 & 2958.1 & 1.94 & 2.28\\\\\n",
       "\\end{tabular}\n"
      ],
      "text/markdown": [
       "\n",
       "A data.frame: 6 × 8\n",
       "\n",
       "| <!--/--> | ID &lt;chr&gt; | cell_line &lt;chr&gt; | group &lt;chr&gt; | name &lt;chr&gt; | group_full &lt;chr&gt; | RNA_concentation &lt;dbl&gt; | ratio_260_280 &lt;dbl&gt; | ratio_260_230 &lt;dbl&gt; |\n",
       "|---|---|---|---|---|---|---|---|---|\n",
       "| 1 | R-1090 | UWB1.289 | 0     | R-1090_ctr   | UWB1.289_ctr   | 3804.7 | 1.96 | 2.36 |\n",
       "| 2 | R-1091 | UWB1.289 | 0     | R-1091_ctr   | UWB1.289_ctr   | 3383.5 | 1.98 | 2.34 |\n",
       "| 3 | R-1092 | UWB1.289 | CT913 | R-1092_CT913 | UWB1.289_CT913 | 2859.8 | 1.95 | 2.24 |\n",
       "| 4 | R-1093 | UWB1.289 | CT913 | R-1093_CT913 | UWB1.289_CT913 | 3208.5 | 1.94 | 2.13 |\n",
       "| 5 | R-1094 | UWB1.289 | CT_M1 | R-1094_CT_M1 | UWB1.289_CT_M1 | 2805.7 | 1.95 | 2.11 |\n",
       "| 6 | R-1095 | UWB1.289 | CT_M1 | R-1095_CT_M1 | UWB1.289_CT_M1 | 2958.1 | 1.94 | 2.28 |\n",
       "\n"
      ],
      "text/plain": [
       "  ID     cell_line group name         group_full     RNA_concentation\n",
       "1 R-1090 UWB1.289  0     R-1090_ctr   UWB1.289_ctr   3804.7          \n",
       "2 R-1091 UWB1.289  0     R-1091_ctr   UWB1.289_ctr   3383.5          \n",
       "3 R-1092 UWB1.289  CT913 R-1092_CT913 UWB1.289_CT913 2859.8          \n",
       "4 R-1093 UWB1.289  CT913 R-1093_CT913 UWB1.289_CT913 3208.5          \n",
       "5 R-1094 UWB1.289  CT_M1 R-1094_CT_M1 UWB1.289_CT_M1 2805.7          \n",
       "6 R-1095 UWB1.289  CT_M1 R-1095_CT_M1 UWB1.289_CT_M1 2958.1          \n",
       "  ratio_260_280 ratio_260_230\n",
       "1 1.96          2.36         \n",
       "2 1.98          2.34         \n",
       "3 1.95          2.24         \n",
       "4 1.94          2.13         \n",
       "5 1.95          2.11         \n",
       "6 1.94          2.28         "
      ]
     },
     "metadata": {},
     "output_type": "display_data"
    },
    {
     "name": "stdout",
     "output_type": "stream",
     "text": [
      "stop3\n"
     ]
    }
   ],
   "source": [
    "sampleAnnot <- read.csv(file = sampleAnnotFile,sep = \"\\t\", dec=\".\", stringsAsFactors = F )\n",
    "\n",
    "head(sampleAnnot)\n",
    "wh <- which(duplicated(sampleAnnot$ID))\n",
    "if (length(wh)>0) {\n",
    "\tsampleAnnot <- sampleAnnot[-wh,]\n",
    "}\n",
    "sampleAnnot$ID <- as.character(sampleAnnot$ID)\n",
    "# check if all desired attributes are inside sample annotation:\n",
    "for (a in annotAttrib) {\n",
    "  if(! a %in% colnames(sampleAnnot)) {\n",
    "    cat(a , \"is not in sample annotation\\n\")\n",
    "    #q(\"no\")\n",
    "  }\n",
    "}"
   ]
  },
  {
   "cell_type": "markdown",
   "id": "4552beb3",
   "metadata": {},
   "source": [
    "#### only keep samples in annot where there are counts:"
   ]
  },
  {
   "cell_type": "code",
   "execution_count": 22,
   "id": "ae5fcf06",
   "metadata": {},
   "outputs": [
    {
     "data": {
      "text/html": [],
      "text/latex": [],
      "text/markdown": [],
      "text/plain": [
       "character(0)"
      ]
     },
     "metadata": {},
     "output_type": "display_data"
    },
    {
     "data": {
      "text/html": [
       "12"
      ],
      "text/latex": [
       "12"
      ],
      "text/markdown": [
       "12"
      ],
      "text/plain": [
       "[1] 12"
      ]
     },
     "metadata": {},
     "output_type": "display_data"
    },
    {
     "data": {
      "text/html": [
       "12"
      ],
      "text/latex": [
       "12"
      ],
      "text/markdown": [
       "12"
      ],
      "text/plain": [
       "[1] 12"
      ]
     },
     "metadata": {},
     "output_type": "display_data"
    }
   ],
   "source": [
    "wh <- which(!sampleAnnot$ID %in% colnames(counts)) \n",
    "sampleAnnot$ID[wh]\n",
    "if (length(wh) > 0) {\n",
    "  cat(\"removing samples from samples annotation where there are no counts:\", paste(sampleAnnot$ID[wh],collapse=\", \"),\"\\n\")\n",
    "}\n",
    "wh <- which(sampleAnnot$ID %in% colnames(counts)) \n",
    "length(wh); length(sampleAnnot$ID)\n",
    "sampleAnnot <- sampleAnnot[wh,]\n",
    "\n",
    "# only keep sample counts where there is annotation (e.g. when outlier removed from annotation):\n",
    "wh <- which(!colnames(counts) %in% sampleAnnot$ID )\n",
    "if (length(wh) >0) {\n",
    "  cat(\"removing samples from counts where there is no annotation:\",paste(colnames(counts)[wh],collapse=\", \"),\"\\n\")\n",
    "  counts <- counts[,-wh]\n",
    "  totalReads <- totalReads[-wh]\n",
    "}"
   ]
  },
  {
   "cell_type": "code",
   "execution_count": 23,
   "id": "f02b9b07",
   "metadata": {},
   "outputs": [
    {
     "name": "stdout",
     "output_type": "stream",
     "text": [
      "column group present in sample annot\n",
      "column RNA_concentation present in sample annot\n"
     ]
    }
   ],
   "source": [
    "rownames(sampleAnnot) <- sampleAnnot$ID\n",
    "dummy <- sapply(annotAttrib,function(x) if (x %in% \n",
    "                                   colnames(sampleAnnot)){cat(\"column\",x,\"present in sample annot\\n\")}else{\n",
    "                                     cat(\"there is not column \",x,\"in sample annotation\\n\");})\n",
    "if(!(\"group\" %in% colnames(sampleAnnot) | \"type\" %in% colnames(sampleAnnot))) {\n",
    "  cat(\"need group or type in sample anntation\\n\")\n",
    "  # q(\"no\")\n",
    "}\n",
    "# change count colnames with annotation names, if there are annot. names:\n",
    "idNameMap <- sampleAnnot$ID\n",
    "names(idNameMap) <- idNameMap\n",
    "if (\"name\" %in% colnames(sampleAnnot)) {\n",
    "  if(length(which(duplicated(sampleAnnot$name)))) {\n",
    "    cat(\"name column in sample annot. does not have unique names\\n\")\n",
    "    # q(\"no\")\n",
    "  }\n",
    "  idNameMap <- sampleAnnot$name\n",
    "  names(idNameMap) <- sampleAnnot$ID\n",
    "  sampleAnnot$ID <- sampleAnnot$name\n",
    "  wh <- which(colnames(counts) %in% names(idNameMap))\n",
    "  length(idNameMap)\n",
    "  head(counts)\n",
    "  colnames(counts)[wh] <- idNameMap[colnames(counts)[wh]]\n",
    "  names(totalReads) <-  colnames(counts)\n",
    "  rownames(sampleAnnot) <- sampleAnnot$ID\n",
    "} else {\n",
    "  if(length(which(duplicated(sampleAnnot$ID)))) {\n",
    "    cat(\"ID column in sample annot. does not have unique values\\n\")\n",
    "    # q(\"no\")\n",
    "  }\n",
    "}"
   ]
  },
  {
   "cell_type": "markdown",
   "id": "1fcf8f82",
   "metadata": {},
   "source": [
    "#### all count sample names in annotation ?:"
   ]
  },
  {
   "cell_type": "code",
   "execution_count": 24,
   "id": "94061a49",
   "metadata": {},
   "outputs": [],
   "source": [
    "if(!all(colnames(counts) %in% sampleAnnot$ID)) {\n",
    "  wh <- which(colnames(counts) %in% sampleAnnot$ID)\n",
    "  cat(paste(length(colnames(counts)[-wh]),\"IDs missing in annotation$ID:\\n\",\n",
    "            paste(colnames(counts)[-wh],collapse=\", \")))#,\n",
    "              #\"\\nnot found in sampleAnnot ID:\\n\",paste(sampleAnnot$ID,collapse=\", \"),\"\\n\"))\n",
    "  print(\"continuing without these ... \")\n",
    "  counts <- counts[,wh]\n",
    "  totalReads <- totalReads[wh]\n",
    "}"
   ]
  },
  {
   "cell_type": "markdown",
   "id": "dff50daf",
   "metadata": {},
   "source": [
    "#### create TPM from counts"
   ]
  },
  {
   "cell_type": "code",
   "execution_count": 25,
   "id": "22d4352a",
   "metadata": {
    "scrolled": true
   },
   "outputs": [
    {
     "data": {
      "text/html": [
       "<style>\n",
       ".dl-inline {width: auto; margin:0; padding: 0}\n",
       ".dl-inline>dt, .dl-inline>dd {float: none; width: auto; display: inline-block}\n",
       ".dl-inline>dt::after {content: \":\\0020\"; padding-right: .5ex}\n",
       ".dl-inline>dt:not(:first-of-type) {padding-left: .5ex}\n",
       "</style><dl class=dl-inline><dt>ENSG00000223972</dt><dd>1756</dd><dt>ENSG00000227232</dt><dd>2073</dd><dt>ENSG00000243485</dt><dd>1021</dd><dt>ENSG00000237613</dt><dd>1219</dd><dt>ENSG00000268020</dt><dd>947</dd><dt>ENSG00000240361</dt><dd>940</dd></dl>\n"
      ],
      "text/latex": [
       "\\begin{description*}\n",
       "\\item[ENSG00000223972] 1756\n",
       "\\item[ENSG00000227232] 2073\n",
       "\\item[ENSG00000243485] 1021\n",
       "\\item[ENSG00000237613] 1219\n",
       "\\item[ENSG00000268020] 947\n",
       "\\item[ENSG00000240361] 940\n",
       "\\end{description*}\n"
      ],
      "text/markdown": [
       "ENSG00000223972\n",
       ":   1756ENSG00000227232\n",
       ":   2073ENSG00000243485\n",
       ":   1021ENSG00000237613\n",
       ":   1219ENSG00000268020\n",
       ":   947ENSG00000240361\n",
       ":   940\n",
       "\n"
      ],
      "text/plain": [
       "ENSG00000223972 ENSG00000227232 ENSG00000243485 ENSG00000237613 ENSG00000268020 \n",
       "           1756            2073            1021            1219             947 \n",
       "ENSG00000240361 \n",
       "            940 "
      ]
     },
     "metadata": {},
     "output_type": "display_data"
    },
    {
     "data": {
      "text/html": [
       "<table class=\"dataframe\">\n",
       "<caption>A matrix: 6 × 12 of type int</caption>\n",
       "<thead>\n",
       "\t<tr><th></th><th scope=col>R-1090_ctr</th><th scope=col>R-1091_ctr</th><th scope=col>R-1092_CT913</th><th scope=col>R-1093_CT913</th><th scope=col>R-1094_CT_M1</th><th scope=col>R-1095_CT_M1</th><th scope=col>R-1096+BRCA1_ctr</th><th scope=col>R-1097+BRCA1_ctr</th><th scope=col>R-1098+BRCA1_CT913</th><th scope=col>R-1099+BRCA1_CT913</th><th scope=col>R-1100+BRCA1_CT_M1</th><th scope=col>R-1101+BRCA1_CT_M1</th></tr>\n",
       "</thead>\n",
       "<tbody>\n",
       "\t<tr><th scope=row>ENSG00000223972</th><td> 0</td><td> 0</td><td> 0</td><td> 0</td><td> 0</td><td> 0</td><td> 0</td><td>0</td><td> 0</td><td> 0</td><td> 0</td><td> 0</td></tr>\n",
       "\t<tr><th scope=row>ENSG00000227232</th><td>14</td><td>15</td><td>20</td><td>13</td><td>32</td><td>11</td><td>12</td><td>8</td><td>11</td><td>16</td><td>16</td><td>73</td></tr>\n",
       "\t<tr><th scope=row>ENSG00000243485</th><td> 0</td><td> 0</td><td> 0</td><td> 0</td><td> 0</td><td> 0</td><td> 0</td><td>0</td><td> 0</td><td> 0</td><td> 0</td><td> 0</td></tr>\n",
       "\t<tr><th scope=row>ENSG00000237613</th><td> 0</td><td> 0</td><td> 0</td><td> 0</td><td> 0</td><td> 0</td><td> 0</td><td>0</td><td> 0</td><td> 0</td><td> 0</td><td> 0</td></tr>\n",
       "\t<tr><th scope=row>ENSG00000268020</th><td> 0</td><td> 0</td><td> 0</td><td> 0</td><td> 0</td><td> 0</td><td> 0</td><td>0</td><td> 0</td><td> 0</td><td> 0</td><td> 0</td></tr>\n",
       "\t<tr><th scope=row>ENSG00000240361</th><td> 0</td><td> 0</td><td> 0</td><td> 0</td><td> 0</td><td> 0</td><td> 0</td><td>0</td><td> 0</td><td> 0</td><td> 0</td><td> 0</td></tr>\n",
       "</tbody>\n",
       "</table>\n"
      ],
      "text/latex": [
       "A matrix: 6 × 12 of type int\n",
       "\\begin{tabular}{r|llllllllllll}\n",
       "  & R-1090\\_ctr & R-1091\\_ctr & R-1092\\_CT913 & R-1093\\_CT913 & R-1094\\_CT\\_M1 & R-1095\\_CT\\_M1 & R-1096+BRCA1\\_ctr & R-1097+BRCA1\\_ctr & R-1098+BRCA1\\_CT913 & R-1099+BRCA1\\_CT913 & R-1100+BRCA1\\_CT\\_M1 & R-1101+BRCA1\\_CT\\_M1\\\\\n",
       "\\hline\n",
       "\tENSG00000223972 &  0 &  0 &  0 &  0 &  0 &  0 &  0 & 0 &  0 &  0 &  0 &  0\\\\\n",
       "\tENSG00000227232 & 14 & 15 & 20 & 13 & 32 & 11 & 12 & 8 & 11 & 16 & 16 & 73\\\\\n",
       "\tENSG00000243485 &  0 &  0 &  0 &  0 &  0 &  0 &  0 & 0 &  0 &  0 &  0 &  0\\\\\n",
       "\tENSG00000237613 &  0 &  0 &  0 &  0 &  0 &  0 &  0 & 0 &  0 &  0 &  0 &  0\\\\\n",
       "\tENSG00000268020 &  0 &  0 &  0 &  0 &  0 &  0 &  0 & 0 &  0 &  0 &  0 &  0\\\\\n",
       "\tENSG00000240361 &  0 &  0 &  0 &  0 &  0 &  0 &  0 & 0 &  0 &  0 &  0 &  0\\\\\n",
       "\\end{tabular}\n"
      ],
      "text/markdown": [
       "\n",
       "A matrix: 6 × 12 of type int\n",
       "\n",
       "| <!--/--> | R-1090_ctr | R-1091_ctr | R-1092_CT913 | R-1093_CT913 | R-1094_CT_M1 | R-1095_CT_M1 | R-1096+BRCA1_ctr | R-1097+BRCA1_ctr | R-1098+BRCA1_CT913 | R-1099+BRCA1_CT913 | R-1100+BRCA1_CT_M1 | R-1101+BRCA1_CT_M1 |\n",
       "|---|---|---|---|---|---|---|---|---|---|---|---|---|\n",
       "| ENSG00000223972 |  0 |  0 |  0 |  0 |  0 |  0 |  0 | 0 |  0 |  0 |  0 |  0 |\n",
       "| ENSG00000227232 | 14 | 15 | 20 | 13 | 32 | 11 | 12 | 8 | 11 | 16 | 16 | 73 |\n",
       "| ENSG00000243485 |  0 |  0 |  0 |  0 |  0 |  0 |  0 | 0 |  0 |  0 |  0 |  0 |\n",
       "| ENSG00000237613 |  0 |  0 |  0 |  0 |  0 |  0 |  0 | 0 |  0 |  0 |  0 |  0 |\n",
       "| ENSG00000268020 |  0 |  0 |  0 |  0 |  0 |  0 |  0 | 0 |  0 |  0 |  0 |  0 |\n",
       "| ENSG00000240361 |  0 |  0 |  0 |  0 |  0 |  0 |  0 | 0 |  0 |  0 |  0 |  0 |\n",
       "\n"
      ],
      "text/plain": [
       "                R-1090_ctr R-1091_ctr R-1092_CT913 R-1093_CT913 R-1094_CT_M1\n",
       "ENSG00000223972  0          0          0            0            0          \n",
       "ENSG00000227232 14         15         20           13           32          \n",
       "ENSG00000243485  0          0          0            0            0          \n",
       "ENSG00000237613  0          0          0            0            0          \n",
       "ENSG00000268020  0          0          0            0            0          \n",
       "ENSG00000240361  0          0          0            0            0          \n",
       "                R-1095_CT_M1 R-1096+BRCA1_ctr R-1097+BRCA1_ctr\n",
       "ENSG00000223972  0            0               0               \n",
       "ENSG00000227232 11           12               8               \n",
       "ENSG00000243485  0            0               0               \n",
       "ENSG00000237613  0            0               0               \n",
       "ENSG00000268020  0            0               0               \n",
       "ENSG00000240361  0            0               0               \n",
       "                R-1098+BRCA1_CT913 R-1099+BRCA1_CT913 R-1100+BRCA1_CT_M1\n",
       "ENSG00000223972  0                  0                  0                \n",
       "ENSG00000227232 11                 16                 16                \n",
       "ENSG00000243485  0                  0                  0                \n",
       "ENSG00000237613  0                  0                  0                \n",
       "ENSG00000268020  0                  0                  0                \n",
       "ENSG00000240361  0                  0                  0                \n",
       "                R-1101+BRCA1_CT_M1\n",
       "ENSG00000223972  0                \n",
       "ENSG00000227232 73                \n",
       "ENSG00000243485  0                \n",
       "ENSG00000237613  0                \n",
       "ENSG00000268020  0                \n",
       "ENSG00000240361  0                "
      ]
     },
     "metadata": {},
     "output_type": "display_data"
    },
    {
     "data": {
      "text/html": [
       "<table class=\"dataframe\">\n",
       "<caption>A matrix: 6 × 4 of type dbl</caption>\n",
       "<thead>\n",
       "\t<tr><th></th><th scope=col>R-1090_ctr</th><th scope=col>R-1091_ctr</th><th scope=col>R-1092_CT913</th><th scope=col>R-1093_CT913</th></tr>\n",
       "</thead>\n",
       "<tbody>\n",
       "\t<tr><th scope=row>ENSG00000223972</th><td>0.000000</td><td>0.00000</td><td>0.000000</td><td>0.000000</td></tr>\n",
       "\t<tr><th scope=row>ENSG00000227232</th><td>6.753497</td><td>7.23589</td><td>9.647853</td><td>6.271105</td></tr>\n",
       "\t<tr><th scope=row>ENSG00000243485</th><td>0.000000</td><td>0.00000</td><td>0.000000</td><td>0.000000</td></tr>\n",
       "\t<tr><th scope=row>ENSG00000237613</th><td>0.000000</td><td>0.00000</td><td>0.000000</td><td>0.000000</td></tr>\n",
       "\t<tr><th scope=row>ENSG00000268020</th><td>0.000000</td><td>0.00000</td><td>0.000000</td><td>0.000000</td></tr>\n",
       "\t<tr><th scope=row>ENSG00000240361</th><td>0.000000</td><td>0.00000</td><td>0.000000</td><td>0.000000</td></tr>\n",
       "</tbody>\n",
       "</table>\n"
      ],
      "text/latex": [
       "A matrix: 6 × 4 of type dbl\n",
       "\\begin{tabular}{r|llll}\n",
       "  & R-1090\\_ctr & R-1091\\_ctr & R-1092\\_CT913 & R-1093\\_CT913\\\\\n",
       "\\hline\n",
       "\tENSG00000223972 & 0.000000 & 0.00000 & 0.000000 & 0.000000\\\\\n",
       "\tENSG00000227232 & 6.753497 & 7.23589 & 9.647853 & 6.271105\\\\\n",
       "\tENSG00000243485 & 0.000000 & 0.00000 & 0.000000 & 0.000000\\\\\n",
       "\tENSG00000237613 & 0.000000 & 0.00000 & 0.000000 & 0.000000\\\\\n",
       "\tENSG00000268020 & 0.000000 & 0.00000 & 0.000000 & 0.000000\\\\\n",
       "\tENSG00000240361 & 0.000000 & 0.00000 & 0.000000 & 0.000000\\\\\n",
       "\\end{tabular}\n"
      ],
      "text/markdown": [
       "\n",
       "A matrix: 6 × 4 of type dbl\n",
       "\n",
       "| <!--/--> | R-1090_ctr | R-1091_ctr | R-1092_CT913 | R-1093_CT913 |\n",
       "|---|---|---|---|---|\n",
       "| ENSG00000223972 | 0.000000 | 0.00000 | 0.000000 | 0.000000 |\n",
       "| ENSG00000227232 | 6.753497 | 7.23589 | 9.647853 | 6.271105 |\n",
       "| ENSG00000243485 | 0.000000 | 0.00000 | 0.000000 | 0.000000 |\n",
       "| ENSG00000237613 | 0.000000 | 0.00000 | 0.000000 | 0.000000 |\n",
       "| ENSG00000268020 | 0.000000 | 0.00000 | 0.000000 | 0.000000 |\n",
       "| ENSG00000240361 | 0.000000 | 0.00000 | 0.000000 | 0.000000 |\n",
       "\n"
      ],
      "text/plain": [
       "                R-1090_ctr R-1091_ctr R-1092_CT913 R-1093_CT913\n",
       "ENSG00000223972 0.000000   0.00000    0.000000     0.000000    \n",
       "ENSG00000227232 6.753497   7.23589    9.647853     6.271105    \n",
       "ENSG00000243485 0.000000   0.00000    0.000000     0.000000    \n",
       "ENSG00000237613 0.000000   0.00000    0.000000     0.000000    \n",
       "ENSG00000268020 0.000000   0.00000    0.000000     0.000000    \n",
       "ENSG00000240361 0.000000   0.00000    0.000000     0.000000    "
      ]
     },
     "metadata": {},
     "output_type": "display_data"
    },
    {
     "name": "stdout",
     "output_type": "stream",
     "text": [
      "TPMs:\n"
     ]
    },
    {
     "data": {
      "text/html": [
       "<table class=\"dataframe\">\n",
       "<caption>A matrix: 6 × 4 of type int</caption>\n",
       "<thead>\n",
       "\t<tr><th></th><th scope=col>R-1090_ctr</th><th scope=col>R-1091_ctr</th><th scope=col>R-1092_CT913</th><th scope=col>R-1093_CT913</th></tr>\n",
       "</thead>\n",
       "<tbody>\n",
       "\t<tr><th scope=row>ENSG00000223972</th><td> 0</td><td> 0</td><td> 0</td><td> 0</td></tr>\n",
       "\t<tr><th scope=row>ENSG00000227232</th><td>14</td><td>15</td><td>20</td><td>13</td></tr>\n",
       "\t<tr><th scope=row>ENSG00000243485</th><td> 0</td><td> 0</td><td> 0</td><td> 0</td></tr>\n",
       "\t<tr><th scope=row>ENSG00000237613</th><td> 0</td><td> 0</td><td> 0</td><td> 0</td></tr>\n",
       "\t<tr><th scope=row>ENSG00000268020</th><td> 0</td><td> 0</td><td> 0</td><td> 0</td></tr>\n",
       "\t<tr><th scope=row>ENSG00000240361</th><td> 0</td><td> 0</td><td> 0</td><td> 0</td></tr>\n",
       "</tbody>\n",
       "</table>\n"
      ],
      "text/latex": [
       "A matrix: 6 × 4 of type int\n",
       "\\begin{tabular}{r|llll}\n",
       "  & R-1090\\_ctr & R-1091\\_ctr & R-1092\\_CT913 & R-1093\\_CT913\\\\\n",
       "\\hline\n",
       "\tENSG00000223972 &  0 &  0 &  0 &  0\\\\\n",
       "\tENSG00000227232 & 14 & 15 & 20 & 13\\\\\n",
       "\tENSG00000243485 &  0 &  0 &  0 &  0\\\\\n",
       "\tENSG00000237613 &  0 &  0 &  0 &  0\\\\\n",
       "\tENSG00000268020 &  0 &  0 &  0 &  0\\\\\n",
       "\tENSG00000240361 &  0 &  0 &  0 &  0\\\\\n",
       "\\end{tabular}\n"
      ],
      "text/markdown": [
       "\n",
       "A matrix: 6 × 4 of type int\n",
       "\n",
       "| <!--/--> | R-1090_ctr | R-1091_ctr | R-1092_CT913 | R-1093_CT913 |\n",
       "|---|---|---|---|---|\n",
       "| ENSG00000223972 |  0 |  0 |  0 |  0 |\n",
       "| ENSG00000227232 | 14 | 15 | 20 | 13 |\n",
       "| ENSG00000243485 |  0 |  0 |  0 |  0 |\n",
       "| ENSG00000237613 |  0 |  0 |  0 |  0 |\n",
       "| ENSG00000268020 |  0 |  0 |  0 |  0 |\n",
       "| ENSG00000240361 |  0 |  0 |  0 |  0 |\n",
       "\n"
      ],
      "text/plain": [
       "                R-1090_ctr R-1091_ctr R-1092_CT913 R-1093_CT913\n",
       "ENSG00000223972  0          0          0            0          \n",
       "ENSG00000227232 14         15         20           13          \n",
       "ENSG00000243485  0          0          0            0          \n",
       "ENSG00000237613  0          0          0            0          \n",
       "ENSG00000268020  0          0          0            0          \n",
       "ENSG00000240361  0          0          0            0          "
      ]
     },
     "metadata": {},
     "output_type": "display_data"
    },
    {
     "data": {
      "text/html": [
       "<table class=\"dataframe\">\n",
       "<caption>A matrix: 6 × 4 of type dbl</caption>\n",
       "<thead>\n",
       "\t<tr><th></th><th scope=col>R-1090_ctr</th><th scope=col>R-1091_ctr</th><th scope=col>R-1092_CT913</th><th scope=col>R-1093_CT913</th></tr>\n",
       "</thead>\n",
       "<tbody>\n",
       "\t<tr><th scope=row>ENSG00000223972</th><td>0.000000</td><td>0.000000</td><td>0.000000</td><td>0.00000</td></tr>\n",
       "\t<tr><th scope=row>ENSG00000227232</th><td>2.546357</td><td>2.929086</td><td>3.548594</td><td>3.32791</td></tr>\n",
       "\t<tr><th scope=row>ENSG00000243485</th><td>0.000000</td><td>0.000000</td><td>0.000000</td><td>0.00000</td></tr>\n",
       "\t<tr><th scope=row>ENSG00000237613</th><td>0.000000</td><td>0.000000</td><td>0.000000</td><td>0.00000</td></tr>\n",
       "\t<tr><th scope=row>ENSG00000268020</th><td>0.000000</td><td>0.000000</td><td>0.000000</td><td>0.00000</td></tr>\n",
       "\t<tr><th scope=row>ENSG00000240361</th><td>0.000000</td><td>0.000000</td><td>0.000000</td><td>0.00000</td></tr>\n",
       "</tbody>\n",
       "</table>\n"
      ],
      "text/latex": [
       "A matrix: 6 × 4 of type dbl\n",
       "\\begin{tabular}{r|llll}\n",
       "  & R-1090\\_ctr & R-1091\\_ctr & R-1092\\_CT913 & R-1093\\_CT913\\\\\n",
       "\\hline\n",
       "\tENSG00000223972 & 0.000000 & 0.000000 & 0.000000 & 0.00000\\\\\n",
       "\tENSG00000227232 & 2.546357 & 2.929086 & 3.548594 & 3.32791\\\\\n",
       "\tENSG00000243485 & 0.000000 & 0.000000 & 0.000000 & 0.00000\\\\\n",
       "\tENSG00000237613 & 0.000000 & 0.000000 & 0.000000 & 0.00000\\\\\n",
       "\tENSG00000268020 & 0.000000 & 0.000000 & 0.000000 & 0.00000\\\\\n",
       "\tENSG00000240361 & 0.000000 & 0.000000 & 0.000000 & 0.00000\\\\\n",
       "\\end{tabular}\n"
      ],
      "text/markdown": [
       "\n",
       "A matrix: 6 × 4 of type dbl\n",
       "\n",
       "| <!--/--> | R-1090_ctr | R-1091_ctr | R-1092_CT913 | R-1093_CT913 |\n",
       "|---|---|---|---|---|\n",
       "| ENSG00000223972 | 0.000000 | 0.000000 | 0.000000 | 0.00000 |\n",
       "| ENSG00000227232 | 2.546357 | 2.929086 | 3.548594 | 3.32791 |\n",
       "| ENSG00000243485 | 0.000000 | 0.000000 | 0.000000 | 0.00000 |\n",
       "| ENSG00000237613 | 0.000000 | 0.000000 | 0.000000 | 0.00000 |\n",
       "| ENSG00000268020 | 0.000000 | 0.000000 | 0.000000 | 0.00000 |\n",
       "| ENSG00000240361 | 0.000000 | 0.000000 | 0.000000 | 0.00000 |\n",
       "\n"
      ],
      "text/plain": [
       "                R-1090_ctr R-1091_ctr R-1092_CT913 R-1093_CT913\n",
       "ENSG00000223972 0.000000   0.000000   0.000000     0.00000     \n",
       "ENSG00000227232 2.546357   2.929086   3.548594     3.32791     \n",
       "ENSG00000243485 0.000000   0.000000   0.000000     0.00000     \n",
       "ENSG00000237613 0.000000   0.000000   0.000000     0.00000     \n",
       "ENSG00000268020 0.000000   0.000000   0.000000     0.00000     \n",
       "ENSG00000240361 0.000000   0.000000   0.000000     0.00000     "
      ]
     },
     "metadata": {},
     "output_type": "display_data"
    },
    {
     "name": "stdout",
     "output_type": "stream",
     "text": [
      "stop5\n"
     ]
    }
   ],
   "source": [
    "# TPM (transcripts per million mapped reads)\n",
    "# first normalize by gene length, then by sum of normalized expr per sample\n",
    "geneLengths <- fcountGenes$annotation[,\"Length\"]\n",
    "names(geneLengths) <- fcountGenes$annotation[,\"GeneID\"]\n",
    "names(geneLengths) <- gsub(\"([^\\\\.]+)\\\\.?.*\",\"\\\\1\",names(geneLengths))\n",
    "head(geneLengths)\n",
    "TPMs <- counts\n",
    "head(TPMs)\n",
    "TPMs[,names(totalReads)] <- sapply(names(totalReads),function(x) TPMs[,x]/(geneLengths/10^3) )\n",
    "head(TPMs[,1:4])\n",
    "TPMsums <- colSums(TPMs)\n",
    "TPMs[,names(totalReads)] <- sapply(names(TPMsums),function(x) TPMs[,x]/(TPMsums[x]/10^6))\n",
    "cat(\"TPMs:\\n\")\n",
    "head(counts[,1:4])\n",
    "head(TPMs[,1:4])"
   ]
  },
  {
   "cell_type": "code",
   "execution_count": 30,
   "id": "58c7bffc",
   "metadata": {
    "scrolled": true
   },
   "outputs": [
    {
     "data": {
      "text/html": [
       "<table class=\"dataframe\">\n",
       "<caption>A data.frame: 6 × 4</caption>\n",
       "<thead>\n",
       "\t<tr><th></th><th scope=col>ensgID</th><th scope=col>symbol</th><th scope=col>description</th><th scope=col>geneType</th></tr>\n",
       "\t<tr><th></th><th scope=col>&lt;chr&gt;</th><th scope=col>&lt;chr&gt;</th><th scope=col>&lt;chr&gt;</th><th scope=col>&lt;chr&gt;</th></tr>\n",
       "</thead>\n",
       "<tbody>\n",
       "\t<tr><th scope=row>ENSG00000271782</th><td>ENSG00000271782</td><td>RP5-850O15.4</td><td>                                      </td><td>lincRNA  </td></tr>\n",
       "\t<tr><th scope=row>ENSG00000232753</th><td>ENSG00000232753</td><td>RP11-347K2.1</td><td>                                      </td><td>lincRNA  </td></tr>\n",
       "\t<tr><th scope=row>ENSG00000225767</th><td>ENSG00000225767</td><td>RP5-850O15.3</td><td>                                      </td><td>antisense</td></tr>\n",
       "\t<tr><th scope=row>ENSG00000202140</th><td>ENSG00000202140</td><td>Y_RNA       </td><td>Y RNA                                 </td><td>misc_RNA </td></tr>\n",
       "\t<tr><th scope=row>ENSG00000207194</th><td>ENSG00000207194</td><td>RNU6-1026P  </td><td>RNA, U6 small nuclear 1026, pseudogene</td><td>snRNA    </td></tr>\n",
       "\t<tr><th scope=row>ENSG00000252825</th><td>ENSG00000252825</td><td>RNU6-1253P  </td><td>RNA, U6 small nuclear 1253, pseudogene</td><td>snRNA    </td></tr>\n",
       "</tbody>\n",
       "</table>\n"
      ],
      "text/latex": [
       "A data.frame: 6 × 4\n",
       "\\begin{tabular}{r|llll}\n",
       "  & ensgID & symbol & description & geneType\\\\\n",
       "  & <chr> & <chr> & <chr> & <chr>\\\\\n",
       "\\hline\n",
       "\tENSG00000271782 & ENSG00000271782 & RP5-850O15.4 &                                        & lincRNA  \\\\\n",
       "\tENSG00000232753 & ENSG00000232753 & RP11-347K2.1 &                                        & lincRNA  \\\\\n",
       "\tENSG00000225767 & ENSG00000225767 & RP5-850O15.3 &                                        & antisense\\\\\n",
       "\tENSG00000202140 & ENSG00000202140 & Y\\_RNA        & Y RNA                                  & misc\\_RNA \\\\\n",
       "\tENSG00000207194 & ENSG00000207194 & RNU6-1026P   & RNA, U6 small nuclear 1026, pseudogene & snRNA    \\\\\n",
       "\tENSG00000252825 & ENSG00000252825 & RNU6-1253P   & RNA, U6 small nuclear 1253, pseudogene & snRNA    \\\\\n",
       "\\end{tabular}\n"
      ],
      "text/markdown": [
       "\n",
       "A data.frame: 6 × 4\n",
       "\n",
       "| <!--/--> | ensgID &lt;chr&gt; | symbol &lt;chr&gt; | description &lt;chr&gt; | geneType &lt;chr&gt; |\n",
       "|---|---|---|---|---|\n",
       "| ENSG00000271782 | ENSG00000271782 | RP5-850O15.4 | <!----> | lincRNA   |\n",
       "| ENSG00000232753 | ENSG00000232753 | RP11-347K2.1 | <!----> | lincRNA   |\n",
       "| ENSG00000225767 | ENSG00000225767 | RP5-850O15.3 | <!----> | antisense |\n",
       "| ENSG00000202140 | ENSG00000202140 | Y_RNA        | Y RNA                                  | misc_RNA  |\n",
       "| ENSG00000207194 | ENSG00000207194 | RNU6-1026P   | RNA, U6 small nuclear 1026, pseudogene | snRNA     |\n",
       "| ENSG00000252825 | ENSG00000252825 | RNU6-1253P   | RNA, U6 small nuclear 1253, pseudogene | snRNA     |\n",
       "\n"
      ],
      "text/plain": [
       "                ensgID          symbol      \n",
       "ENSG00000271782 ENSG00000271782 RP5-850O15.4\n",
       "ENSG00000232753 ENSG00000232753 RP11-347K2.1\n",
       "ENSG00000225767 ENSG00000225767 RP5-850O15.3\n",
       "ENSG00000202140 ENSG00000202140 Y_RNA       \n",
       "ENSG00000207194 ENSG00000207194 RNU6-1026P  \n",
       "ENSG00000252825 ENSG00000252825 RNU6-1253P  \n",
       "                description                            geneType \n",
       "ENSG00000271782                                        lincRNA  \n",
       "ENSG00000232753                                        lincRNA  \n",
       "ENSG00000225767                                        antisense\n",
       "ENSG00000202140 Y RNA                                  misc_RNA \n",
       "ENSG00000207194 RNA, U6 small nuclear 1026, pseudogene snRNA    \n",
       "ENSG00000252825 RNA, U6 small nuclear 1253, pseudogene snRNA    "
      ]
     },
     "metadata": {},
     "output_type": "display_data"
    },
    {
     "data": {
      "text/html": [
       "<style>\n",
       ".dl-inline {width: auto; margin:0; padding: 0}\n",
       ".dl-inline>dt, .dl-inline>dd {float: none; width: auto; display: inline-block}\n",
       ".dl-inline>dt::after {content: \":\\0020\"; padding-right: .5ex}\n",
       ".dl-inline>dt:not(:first-of-type) {padding-left: .5ex}\n",
       "</style><dl class=dl-inline><dt>ENSG00000271782</dt><dd>'RP5-850O15.4'</dd><dt>ENSG00000232753</dt><dd>'RP11-347K2.1'</dd><dt>ENSG00000225767</dt><dd>'RP5-850O15.3'</dd><dt>ENSG00000202140</dt><dd>'Y_RNA'</dd><dt>ENSG00000207194</dt><dd>'RNU6-1026P'</dd><dt>ENSG00000252825</dt><dd>'RNU6-1253P'</dd></dl>\n"
      ],
      "text/latex": [
       "\\begin{description*}\n",
       "\\item[ENSG00000271782] 'RP5-850O15.4'\n",
       "\\item[ENSG00000232753] 'RP11-347K2.1'\n",
       "\\item[ENSG00000225767] 'RP5-850O15.3'\n",
       "\\item[ENSG00000202140] 'Y\\_RNA'\n",
       "\\item[ENSG00000207194] 'RNU6-1026P'\n",
       "\\item[ENSG00000252825] 'RNU6-1253P'\n",
       "\\end{description*}\n"
      ],
      "text/markdown": [
       "ENSG00000271782\n",
       ":   'RP5-850O15.4'ENSG00000232753\n",
       ":   'RP11-347K2.1'ENSG00000225767\n",
       ":   'RP5-850O15.3'ENSG00000202140\n",
       ":   'Y_RNA'ENSG00000207194\n",
       ":   'RNU6-1026P'ENSG00000252825\n",
       ":   'RNU6-1253P'\n",
       "\n"
      ],
      "text/plain": [
       "ENSG00000271782 ENSG00000232753 ENSG00000225767 ENSG00000202140 ENSG00000207194 \n",
       " \"RP5-850O15.4\"  \"RP11-347K2.1\"  \"RP5-850O15.3\"         \"Y_RNA\"    \"RNU6-1026P\" \n",
       "ENSG00000252825 \n",
       "   \"RNU6-1253P\" "
      ]
     },
     "metadata": {},
     "output_type": "display_data"
    },
    {
     "data": {
      "text/html": [
       "<table class=\"dataframe\">\n",
       "<caption>A data.frame: 6 × 12</caption>\n",
       "<thead>\n",
       "\t<tr><th></th><th scope=col>R-1090_ctr</th><th scope=col>R-1091_ctr</th><th scope=col>R-1092_CT913</th><th scope=col>R-1093_CT913</th><th scope=col>R-1094_CT_M1</th><th scope=col>R-1095_CT_M1</th><th scope=col>R-1096+BRCA1_ctr</th><th scope=col>R-1097+BRCA1_ctr</th><th scope=col>R-1098+BRCA1_CT913</th><th scope=col>R-1099+BRCA1_CT913</th><th scope=col>R-1100+BRCA1_CT_M1</th><th scope=col>R-1101+BRCA1_CT_M1</th></tr>\n",
       "\t<tr><th></th><th scope=col>&lt;int&gt;</th><th scope=col>&lt;int&gt;</th><th scope=col>&lt;int&gt;</th><th scope=col>&lt;int&gt;</th><th scope=col>&lt;int&gt;</th><th scope=col>&lt;int&gt;</th><th scope=col>&lt;int&gt;</th><th scope=col>&lt;int&gt;</th><th scope=col>&lt;int&gt;</th><th scope=col>&lt;int&gt;</th><th scope=col>&lt;int&gt;</th><th scope=col>&lt;int&gt;</th></tr>\n",
       "</thead>\n",
       "<tbody>\n",
       "\t<tr><th scope=row>ENSG00000223972</th><td> 0</td><td> 0</td><td> 0</td><td> 0</td><td> 0</td><td> 0</td><td> 0</td><td>0</td><td> 0</td><td> 0</td><td> 0</td><td> 0</td></tr>\n",
       "\t<tr><th scope=row>ENSG00000227232</th><td>14</td><td>15</td><td>20</td><td>13</td><td>32</td><td>11</td><td>12</td><td>8</td><td>11</td><td>16</td><td>16</td><td>73</td></tr>\n",
       "\t<tr><th scope=row>ENSG00000243485</th><td> 0</td><td> 0</td><td> 0</td><td> 0</td><td> 0</td><td> 0</td><td> 0</td><td>0</td><td> 0</td><td> 0</td><td> 0</td><td> 0</td></tr>\n",
       "\t<tr><th scope=row>ENSG00000237613</th><td> 0</td><td> 0</td><td> 0</td><td> 0</td><td> 0</td><td> 0</td><td> 0</td><td>0</td><td> 0</td><td> 0</td><td> 0</td><td> 0</td></tr>\n",
       "\t<tr><th scope=row>ENSG00000268020</th><td> 0</td><td> 0</td><td> 0</td><td> 0</td><td> 0</td><td> 0</td><td> 0</td><td>0</td><td> 0</td><td> 0</td><td> 0</td><td> 0</td></tr>\n",
       "\t<tr><th scope=row>ENSG00000240361</th><td> 0</td><td> 0</td><td> 0</td><td> 0</td><td> 0</td><td> 0</td><td> 0</td><td>0</td><td> 0</td><td> 0</td><td> 0</td><td> 0</td></tr>\n",
       "</tbody>\n",
       "</table>\n"
      ],
      "text/latex": [
       "A data.frame: 6 × 12\n",
       "\\begin{tabular}{r|llllllllllll}\n",
       "  & R-1090\\_ctr & R-1091\\_ctr & R-1092\\_CT913 & R-1093\\_CT913 & R-1094\\_CT\\_M1 & R-1095\\_CT\\_M1 & R-1096+BRCA1\\_ctr & R-1097+BRCA1\\_ctr & R-1098+BRCA1\\_CT913 & R-1099+BRCA1\\_CT913 & R-1100+BRCA1\\_CT\\_M1 & R-1101+BRCA1\\_CT\\_M1\\\\\n",
       "  & <int> & <int> & <int> & <int> & <int> & <int> & <int> & <int> & <int> & <int> & <int> & <int>\\\\\n",
       "\\hline\n",
       "\tENSG00000223972 &  0 &  0 &  0 &  0 &  0 &  0 &  0 & 0 &  0 &  0 &  0 &  0\\\\\n",
       "\tENSG00000227232 & 14 & 15 & 20 & 13 & 32 & 11 & 12 & 8 & 11 & 16 & 16 & 73\\\\\n",
       "\tENSG00000243485 &  0 &  0 &  0 &  0 &  0 &  0 &  0 & 0 &  0 &  0 &  0 &  0\\\\\n",
       "\tENSG00000237613 &  0 &  0 &  0 &  0 &  0 &  0 &  0 & 0 &  0 &  0 &  0 &  0\\\\\n",
       "\tENSG00000268020 &  0 &  0 &  0 &  0 &  0 &  0 &  0 & 0 &  0 &  0 &  0 &  0\\\\\n",
       "\tENSG00000240361 &  0 &  0 &  0 &  0 &  0 &  0 &  0 & 0 &  0 &  0 &  0 &  0\\\\\n",
       "\\end{tabular}\n"
      ],
      "text/markdown": [
       "\n",
       "A data.frame: 6 × 12\n",
       "\n",
       "| <!--/--> | R-1090_ctr &lt;int&gt; | R-1091_ctr &lt;int&gt; | R-1092_CT913 &lt;int&gt; | R-1093_CT913 &lt;int&gt; | R-1094_CT_M1 &lt;int&gt; | R-1095_CT_M1 &lt;int&gt; | R-1096+BRCA1_ctr &lt;int&gt; | R-1097+BRCA1_ctr &lt;int&gt; | R-1098+BRCA1_CT913 &lt;int&gt; | R-1099+BRCA1_CT913 &lt;int&gt; | R-1100+BRCA1_CT_M1 &lt;int&gt; | R-1101+BRCA1_CT_M1 &lt;int&gt; |\n",
       "|---|---|---|---|---|---|---|---|---|---|---|---|---|\n",
       "| ENSG00000223972 |  0 |  0 |  0 |  0 |  0 |  0 |  0 | 0 |  0 |  0 |  0 |  0 |\n",
       "| ENSG00000227232 | 14 | 15 | 20 | 13 | 32 | 11 | 12 | 8 | 11 | 16 | 16 | 73 |\n",
       "| ENSG00000243485 |  0 |  0 |  0 |  0 |  0 |  0 |  0 | 0 |  0 |  0 |  0 |  0 |\n",
       "| ENSG00000237613 |  0 |  0 |  0 |  0 |  0 |  0 |  0 | 0 |  0 |  0 |  0 |  0 |\n",
       "| ENSG00000268020 |  0 |  0 |  0 |  0 |  0 |  0 |  0 | 0 |  0 |  0 |  0 |  0 |\n",
       "| ENSG00000240361 |  0 |  0 |  0 |  0 |  0 |  0 |  0 | 0 |  0 |  0 |  0 |  0 |\n",
       "\n"
      ],
      "text/plain": [
       "                R-1090_ctr R-1091_ctr R-1092_CT913 R-1093_CT913 R-1094_CT_M1\n",
       "ENSG00000223972  0          0          0            0            0          \n",
       "ENSG00000227232 14         15         20           13           32          \n",
       "ENSG00000243485  0          0          0            0            0          \n",
       "ENSG00000237613  0          0          0            0            0          \n",
       "ENSG00000268020  0          0          0            0            0          \n",
       "ENSG00000240361  0          0          0            0            0          \n",
       "                R-1095_CT_M1 R-1096+BRCA1_ctr R-1097+BRCA1_ctr\n",
       "ENSG00000223972  0            0               0               \n",
       "ENSG00000227232 11           12               8               \n",
       "ENSG00000243485  0            0               0               \n",
       "ENSG00000237613  0            0               0               \n",
       "ENSG00000268020  0            0               0               \n",
       "ENSG00000240361  0            0               0               \n",
       "                R-1098+BRCA1_CT913 R-1099+BRCA1_CT913 R-1100+BRCA1_CT_M1\n",
       "ENSG00000223972  0                  0                  0                \n",
       "ENSG00000227232 11                 16                 16                \n",
       "ENSG00000243485  0                  0                  0                \n",
       "ENSG00000237613  0                  0                  0                \n",
       "ENSG00000268020  0                  0                  0                \n",
       "ENSG00000240361  0                  0                  0                \n",
       "                R-1101+BRCA1_CT_M1\n",
       "ENSG00000223972  0                \n",
       "ENSG00000227232 73                \n",
       "ENSG00000243485  0                \n",
       "ENSG00000237613  0                \n",
       "ENSG00000268020  0                \n",
       "ENSG00000240361  0                "
      ]
     },
     "metadata": {},
     "output_type": "display_data"
    },
    {
     "data": {
      "text/html": [
       "<table class=\"dataframe\">\n",
       "<caption>A data.frame: 6 × 4</caption>\n",
       "<thead>\n",
       "\t<tr><th></th><th scope=col>ensgID</th><th scope=col>symbol</th><th scope=col>description</th><th scope=col>geneType</th></tr>\n",
       "\t<tr><th></th><th scope=col>&lt;chr&gt;</th><th scope=col>&lt;chr&gt;</th><th scope=col>&lt;chr&gt;</th><th scope=col>&lt;chr&gt;</th></tr>\n",
       "</thead>\n",
       "<tbody>\n",
       "\t<tr><th scope=row>ENSG00000271782</th><td>ENSG00000271782</td><td>RP5-850O15.4</td><td>                                      </td><td>lincRNA  </td></tr>\n",
       "\t<tr><th scope=row>ENSG00000232753</th><td>ENSG00000232753</td><td>RP11-347K2.1</td><td>                                      </td><td>lincRNA  </td></tr>\n",
       "\t<tr><th scope=row>ENSG00000225767</th><td>ENSG00000225767</td><td>RP5-850O15.3</td><td>                                      </td><td>antisense</td></tr>\n",
       "\t<tr><th scope=row>ENSG00000202140</th><td>ENSG00000202140</td><td>Y_RNA       </td><td>Y RNA                                 </td><td>misc_RNA </td></tr>\n",
       "\t<tr><th scope=row>ENSG00000207194</th><td>ENSG00000207194</td><td>RNU6-1026P  </td><td>RNA, U6 small nuclear 1026, pseudogene</td><td>snRNA    </td></tr>\n",
       "\t<tr><th scope=row>ENSG00000252825</th><td>ENSG00000252825</td><td>RNU6-1253P  </td><td>RNA, U6 small nuclear 1253, pseudogene</td><td>snRNA    </td></tr>\n",
       "</tbody>\n",
       "</table>\n"
      ],
      "text/latex": [
       "A data.frame: 6 × 4\n",
       "\\begin{tabular}{r|llll}\n",
       "  & ensgID & symbol & description & geneType\\\\\n",
       "  & <chr> & <chr> & <chr> & <chr>\\\\\n",
       "\\hline\n",
       "\tENSG00000271782 & ENSG00000271782 & RP5-850O15.4 &                                        & lincRNA  \\\\\n",
       "\tENSG00000232753 & ENSG00000232753 & RP11-347K2.1 &                                        & lincRNA  \\\\\n",
       "\tENSG00000225767 & ENSG00000225767 & RP5-850O15.3 &                                        & antisense\\\\\n",
       "\tENSG00000202140 & ENSG00000202140 & Y\\_RNA        & Y RNA                                  & misc\\_RNA \\\\\n",
       "\tENSG00000207194 & ENSG00000207194 & RNU6-1026P   & RNA, U6 small nuclear 1026, pseudogene & snRNA    \\\\\n",
       "\tENSG00000252825 & ENSG00000252825 & RNU6-1253P   & RNA, U6 small nuclear 1253, pseudogene & snRNA    \\\\\n",
       "\\end{tabular}\n"
      ],
      "text/markdown": [
       "\n",
       "A data.frame: 6 × 4\n",
       "\n",
       "| <!--/--> | ensgID &lt;chr&gt; | symbol &lt;chr&gt; | description &lt;chr&gt; | geneType &lt;chr&gt; |\n",
       "|---|---|---|---|---|\n",
       "| ENSG00000271782 | ENSG00000271782 | RP5-850O15.4 | <!----> | lincRNA   |\n",
       "| ENSG00000232753 | ENSG00000232753 | RP11-347K2.1 | <!----> | lincRNA   |\n",
       "| ENSG00000225767 | ENSG00000225767 | RP5-850O15.3 | <!----> | antisense |\n",
       "| ENSG00000202140 | ENSG00000202140 | Y_RNA        | Y RNA                                  | misc_RNA  |\n",
       "| ENSG00000207194 | ENSG00000207194 | RNU6-1026P   | RNA, U6 small nuclear 1026, pseudogene | snRNA     |\n",
       "| ENSG00000252825 | ENSG00000252825 | RNU6-1253P   | RNA, U6 small nuclear 1253, pseudogene | snRNA     |\n",
       "\n"
      ],
      "text/plain": [
       "                ensgID          symbol      \n",
       "ENSG00000271782 ENSG00000271782 RP5-850O15.4\n",
       "ENSG00000232753 ENSG00000232753 RP11-347K2.1\n",
       "ENSG00000225767 ENSG00000225767 RP5-850O15.3\n",
       "ENSG00000202140 ENSG00000202140 Y_RNA       \n",
       "ENSG00000207194 ENSG00000207194 RNU6-1026P  \n",
       "ENSG00000252825 ENSG00000252825 RNU6-1253P  \n",
       "                description                            geneType \n",
       "ENSG00000271782                                        lincRNA  \n",
       "ENSG00000232753                                        lincRNA  \n",
       "ENSG00000225767                                        antisense\n",
       "ENSG00000202140 Y RNA                                  misc_RNA \n",
       "ENSG00000207194 RNA, U6 small nuclear 1026, pseudogene snRNA    \n",
       "ENSG00000252825 RNA, U6 small nuclear 1253, pseudogene snRNA    "
      ]
     },
     "metadata": {},
     "output_type": "display_data"
    },
    {
     "name": "stdout",
     "output_type": "stream",
     "text": [
      "[1] \"counts:\"\n"
     ]
    },
    {
     "data": {
      "text/html": [
       "<style>\n",
       ".list-inline {list-style: none; margin:0; padding: 0}\n",
       ".list-inline>li {display: inline-block}\n",
       ".list-inline>li:not(:last-child)::after {content: \"\\00b7\"; padding: 0 .5ex}\n",
       "</style>\n",
       "<ol class=list-inline><li>57952</li><li>16</li></ol>\n"
      ],
      "text/latex": [
       "\\begin{enumerate*}\n",
       "\\item 57952\n",
       "\\item 16\n",
       "\\end{enumerate*}\n"
      ],
      "text/markdown": [
       "1. 57952\n",
       "2. 16\n",
       "\n",
       "\n"
      ],
      "text/plain": [
       "[1] 57952    16"
      ]
     },
     "metadata": {},
     "output_type": "display_data"
    },
    {
     "data": {
      "text/html": [
       "<table class=\"dataframe\">\n",
       "<caption>A data.frame: 6 × 16</caption>\n",
       "<thead>\n",
       "\t<tr><th></th><th scope=col>EnsgID</th><th scope=col>symbol</th><th scope=col>geneType</th><th scope=col>descr</th><th scope=col>R-1090_ctr</th><th scope=col>R-1091_ctr</th><th scope=col>R-1092_CT913</th><th scope=col>R-1093_CT913</th><th scope=col>R-1094_CT_M1</th><th scope=col>R-1095_CT_M1</th><th scope=col>R-1096+BRCA1_ctr</th><th scope=col>R-1097+BRCA1_ctr</th><th scope=col>R-1098+BRCA1_CT913</th><th scope=col>R-1099+BRCA1_CT913</th><th scope=col>R-1100+BRCA1_CT_M1</th><th scope=col>R-1101+BRCA1_CT_M1</th></tr>\n",
       "\t<tr><th></th><th scope=col>&lt;chr&gt;</th><th scope=col>&lt;chr&gt;</th><th scope=col>&lt;chr&gt;</th><th scope=col>&lt;chr&gt;</th><th scope=col>&lt;int&gt;</th><th scope=col>&lt;int&gt;</th><th scope=col>&lt;int&gt;</th><th scope=col>&lt;int&gt;</th><th scope=col>&lt;int&gt;</th><th scope=col>&lt;int&gt;</th><th scope=col>&lt;int&gt;</th><th scope=col>&lt;int&gt;</th><th scope=col>&lt;int&gt;</th><th scope=col>&lt;int&gt;</th><th scope=col>&lt;int&gt;</th><th scope=col>&lt;int&gt;</th></tr>\n",
       "</thead>\n",
       "<tbody>\n",
       "\t<tr><th scope=row>ENSG00000223972</th><td>ENSG00000223972</td><td>DDX11L1   </td><td>pseudogene</td><td>DEAD/H (Asp-Glu-Ala-Asp/His) box helicase 11 like 1            </td><td> 0</td><td> 0</td><td> 0</td><td> 0</td><td> 0</td><td> 0</td><td> 0</td><td>0</td><td> 0</td><td> 0</td><td> 0</td><td> 0</td></tr>\n",
       "\t<tr><th scope=row>ENSG00000227232</th><td>ENSG00000227232</td><td>WASH7P    </td><td>pseudogene</td><td>WAS protein family homolog 7 pseudogene                        </td><td>14</td><td>15</td><td>20</td><td>13</td><td>32</td><td>11</td><td>12</td><td>8</td><td>11</td><td>16</td><td>16</td><td>73</td></tr>\n",
       "\t<tr><th scope=row>ENSG00000243485</th><td>ENSG00000243485</td><td>MIR1302-10</td><td>lincRNA   </td><td>microRNA 1302-10                                               </td><td> 0</td><td> 0</td><td> 0</td><td> 0</td><td> 0</td><td> 0</td><td> 0</td><td>0</td><td> 0</td><td> 0</td><td> 0</td><td> 0</td></tr>\n",
       "\t<tr><th scope=row>ENSG00000237613</th><td>ENSG00000237613</td><td>FAM138A   </td><td>lincRNA   </td><td>family with sequence similarity 138, member A                  </td><td> 0</td><td> 0</td><td> 0</td><td> 0</td><td> 0</td><td> 0</td><td> 0</td><td>0</td><td> 0</td><td> 0</td><td> 0</td><td> 0</td></tr>\n",
       "\t<tr><th scope=row>ENSG00000268020</th><td>ENSG00000268020</td><td>OR4G4P    </td><td>pseudogene</td><td>olfactory receptor, family 4, subfamily G, member 4 pseudogene </td><td> 0</td><td> 0</td><td> 0</td><td> 0</td><td> 0</td><td> 0</td><td> 0</td><td>0</td><td> 0</td><td> 0</td><td> 0</td><td> 0</td></tr>\n",
       "\t<tr><th scope=row>ENSG00000240361</th><td>ENSG00000240361</td><td>OR4G11P   </td><td>pseudogene</td><td>olfactory receptor, family 4, subfamily G, member 11 pseudogene</td><td> 0</td><td> 0</td><td> 0</td><td> 0</td><td> 0</td><td> 0</td><td> 0</td><td>0</td><td> 0</td><td> 0</td><td> 0</td><td> 0</td></tr>\n",
       "</tbody>\n",
       "</table>\n"
      ],
      "text/latex": [
       "A data.frame: 6 × 16\n",
       "\\begin{tabular}{r|llllllllllllllll}\n",
       "  & EnsgID & symbol & geneType & descr & R-1090\\_ctr & R-1091\\_ctr & R-1092\\_CT913 & R-1093\\_CT913 & R-1094\\_CT\\_M1 & R-1095\\_CT\\_M1 & R-1096+BRCA1\\_ctr & R-1097+BRCA1\\_ctr & R-1098+BRCA1\\_CT913 & R-1099+BRCA1\\_CT913 & R-1100+BRCA1\\_CT\\_M1 & R-1101+BRCA1\\_CT\\_M1\\\\\n",
       "  & <chr> & <chr> & <chr> & <chr> & <int> & <int> & <int> & <int> & <int> & <int> & <int> & <int> & <int> & <int> & <int> & <int>\\\\\n",
       "\\hline\n",
       "\tENSG00000223972 & ENSG00000223972 & DDX11L1    & pseudogene & DEAD/H (Asp-Glu-Ala-Asp/His) box helicase 11 like 1             &  0 &  0 &  0 &  0 &  0 &  0 &  0 & 0 &  0 &  0 &  0 &  0\\\\\n",
       "\tENSG00000227232 & ENSG00000227232 & WASH7P     & pseudogene & WAS protein family homolog 7 pseudogene                         & 14 & 15 & 20 & 13 & 32 & 11 & 12 & 8 & 11 & 16 & 16 & 73\\\\\n",
       "\tENSG00000243485 & ENSG00000243485 & MIR1302-10 & lincRNA    & microRNA 1302-10                                                &  0 &  0 &  0 &  0 &  0 &  0 &  0 & 0 &  0 &  0 &  0 &  0\\\\\n",
       "\tENSG00000237613 & ENSG00000237613 & FAM138A    & lincRNA    & family with sequence similarity 138, member A                   &  0 &  0 &  0 &  0 &  0 &  0 &  0 & 0 &  0 &  0 &  0 &  0\\\\\n",
       "\tENSG00000268020 & ENSG00000268020 & OR4G4P     & pseudogene & olfactory receptor, family 4, subfamily G, member 4 pseudogene  &  0 &  0 &  0 &  0 &  0 &  0 &  0 & 0 &  0 &  0 &  0 &  0\\\\\n",
       "\tENSG00000240361 & ENSG00000240361 & OR4G11P    & pseudogene & olfactory receptor, family 4, subfamily G, member 11 pseudogene &  0 &  0 &  0 &  0 &  0 &  0 &  0 & 0 &  0 &  0 &  0 &  0\\\\\n",
       "\\end{tabular}\n"
      ],
      "text/markdown": [
       "\n",
       "A data.frame: 6 × 16\n",
       "\n",
       "| <!--/--> | EnsgID &lt;chr&gt; | symbol &lt;chr&gt; | geneType &lt;chr&gt; | descr &lt;chr&gt; | R-1090_ctr &lt;int&gt; | R-1091_ctr &lt;int&gt; | R-1092_CT913 &lt;int&gt; | R-1093_CT913 &lt;int&gt; | R-1094_CT_M1 &lt;int&gt; | R-1095_CT_M1 &lt;int&gt; | R-1096+BRCA1_ctr &lt;int&gt; | R-1097+BRCA1_ctr &lt;int&gt; | R-1098+BRCA1_CT913 &lt;int&gt; | R-1099+BRCA1_CT913 &lt;int&gt; | R-1100+BRCA1_CT_M1 &lt;int&gt; | R-1101+BRCA1_CT_M1 &lt;int&gt; |\n",
       "|---|---|---|---|---|---|---|---|---|---|---|---|---|---|---|---|---|\n",
       "| ENSG00000223972 | ENSG00000223972 | DDX11L1    | pseudogene | DEAD/H (Asp-Glu-Ala-Asp/His) box helicase 11 like 1             |  0 |  0 |  0 |  0 |  0 |  0 |  0 | 0 |  0 |  0 |  0 |  0 |\n",
       "| ENSG00000227232 | ENSG00000227232 | WASH7P     | pseudogene | WAS protein family homolog 7 pseudogene                         | 14 | 15 | 20 | 13 | 32 | 11 | 12 | 8 | 11 | 16 | 16 | 73 |\n",
       "| ENSG00000243485 | ENSG00000243485 | MIR1302-10 | lincRNA    | microRNA 1302-10                                                |  0 |  0 |  0 |  0 |  0 |  0 |  0 | 0 |  0 |  0 |  0 |  0 |\n",
       "| ENSG00000237613 | ENSG00000237613 | FAM138A    | lincRNA    | family with sequence similarity 138, member A                   |  0 |  0 |  0 |  0 |  0 |  0 |  0 | 0 |  0 |  0 |  0 |  0 |\n",
       "| ENSG00000268020 | ENSG00000268020 | OR4G4P     | pseudogene | olfactory receptor, family 4, subfamily G, member 4 pseudogene  |  0 |  0 |  0 |  0 |  0 |  0 |  0 | 0 |  0 |  0 |  0 |  0 |\n",
       "| ENSG00000240361 | ENSG00000240361 | OR4G11P    | pseudogene | olfactory receptor, family 4, subfamily G, member 11 pseudogene |  0 |  0 |  0 |  0 |  0 |  0 |  0 | 0 |  0 |  0 |  0 |  0 |\n",
       "\n"
      ],
      "text/plain": [
       "                EnsgID          symbol     geneType  \n",
       "ENSG00000223972 ENSG00000223972 DDX11L1    pseudogene\n",
       "ENSG00000227232 ENSG00000227232 WASH7P     pseudogene\n",
       "ENSG00000243485 ENSG00000243485 MIR1302-10 lincRNA   \n",
       "ENSG00000237613 ENSG00000237613 FAM138A    lincRNA   \n",
       "ENSG00000268020 ENSG00000268020 OR4G4P     pseudogene\n",
       "ENSG00000240361 ENSG00000240361 OR4G11P    pseudogene\n",
       "                descr                                                          \n",
       "ENSG00000223972 DEAD/H (Asp-Glu-Ala-Asp/His) box helicase 11 like 1            \n",
       "ENSG00000227232 WAS protein family homolog 7 pseudogene                        \n",
       "ENSG00000243485 microRNA 1302-10                                               \n",
       "ENSG00000237613 family with sequence similarity 138, member A                  \n",
       "ENSG00000268020 olfactory receptor, family 4, subfamily G, member 4 pseudogene \n",
       "ENSG00000240361 olfactory receptor, family 4, subfamily G, member 11 pseudogene\n",
       "                R-1090_ctr R-1091_ctr R-1092_CT913 R-1093_CT913 R-1094_CT_M1\n",
       "ENSG00000223972  0          0          0            0            0          \n",
       "ENSG00000227232 14         15         20           13           32          \n",
       "ENSG00000243485  0          0          0            0            0          \n",
       "ENSG00000237613  0          0          0            0            0          \n",
       "ENSG00000268020  0          0          0            0            0          \n",
       "ENSG00000240361  0          0          0            0            0          \n",
       "                R-1095_CT_M1 R-1096+BRCA1_ctr R-1097+BRCA1_ctr\n",
       "ENSG00000223972  0            0               0               \n",
       "ENSG00000227232 11           12               8               \n",
       "ENSG00000243485  0            0               0               \n",
       "ENSG00000237613  0            0               0               \n",
       "ENSG00000268020  0            0               0               \n",
       "ENSG00000240361  0            0               0               \n",
       "                R-1098+BRCA1_CT913 R-1099+BRCA1_CT913 R-1100+BRCA1_CT_M1\n",
       "ENSG00000223972  0                  0                  0                \n",
       "ENSG00000227232 11                 16                 16                \n",
       "ENSG00000243485  0                  0                  0                \n",
       "ENSG00000237613  0                  0                  0                \n",
       "ENSG00000268020  0                  0                  0                \n",
       "ENSG00000240361  0                  0                  0                \n",
       "                R-1101+BRCA1_CT_M1\n",
       "ENSG00000223972  0                \n",
       "ENSG00000227232 73                \n",
       "ENSG00000243485  0                \n",
       "ENSG00000237613  0                \n",
       "ENSG00000268020  0                \n",
       "ENSG00000240361  0                "
      ]
     },
     "metadata": {},
     "output_type": "display_data"
    },
    {
     "data": {
      "text/html": [
       "<style>\n",
       ".list-inline {list-style: none; margin:0; padding: 0}\n",
       ".list-inline>li {display: inline-block}\n",
       ".list-inline>li:not(:last-child)::after {content: \"\\00b7\"; padding: 0 .5ex}\n",
       "</style>\n",
       "<ol class=list-inline><li>1</li><li>2</li><li>3</li><li>4</li><li>5</li><li>6</li><li>7</li><li>8</li><li>9</li><li>10</li><li>11</li><li>12</li></ol>\n"
      ],
      "text/latex": [
       "\\begin{enumerate*}\n",
       "\\item 1\n",
       "\\item 2\n",
       "\\item 3\n",
       "\\item 4\n",
       "\\item 5\n",
       "\\item 6\n",
       "\\item 7\n",
       "\\item 8\n",
       "\\item 9\n",
       "\\item 10\n",
       "\\item 11\n",
       "\\item 12\n",
       "\\end{enumerate*}\n"
      ],
      "text/markdown": [
       "1. 1\n",
       "2. 2\n",
       "3. 3\n",
       "4. 4\n",
       "5. 5\n",
       "6. 6\n",
       "7. 7\n",
       "8. 8\n",
       "9. 9\n",
       "10. 10\n",
       "11. 11\n",
       "12. 12\n",
       "\n",
       "\n"
      ],
      "text/plain": [
       " [1]  1  2  3  4  5  6  7  8  9 10 11 12"
      ]
     },
     "metadata": {},
     "output_type": "display_data"
    },
    {
     "name": "stdout",
     "output_type": "stream",
     "text": [
      "stop8\n"
     ]
    }
   ],
   "source": [
    "head(annot)\n",
    "geneSymb <- annot$symbol\n",
    "names(geneSymb) <- annot$ensgID\n",
    "head(geneSymb)\n",
    "\n",
    "# save total all reads/TPMs values:\n",
    "# add annotation:\n",
    "countsDF <- as.data.frame(counts)\n",
    "head(countsDF)\n",
    "countsDF$EnsgID <- rownames(countsDF)\n",
    "head(annot)\n",
    "countsDF$symbol <- annot[ rownames(countsDF) ,]$symbol\n",
    "countsDF$geneType <- annot[ rownames(countsDF) ,]$geneType\n",
    "countsDF$descr <- annot[ rownames(countsDF) ,]$description\n",
    "countsDF <- countsDF[,c((ncol(counts)+1):ncol(countsDF),1:ncol(counts))]\n",
    "print(\"counts:\")\n",
    "dim(countsDF)\n",
    "head(countsDF)\n",
    "which(sampleAnnot$ID %in% colnames(countsDF))"
   ]
  },
  {
   "cell_type": "code",
   "execution_count": 31,
   "id": "5f73c2cc",
   "metadata": {
    "scrolled": true
   },
   "outputs": [
    {
     "data": {
      "text/html": [
       "<table class=\"dataframe\">\n",
       "<caption>A data.frame: 6 × 12</caption>\n",
       "<thead>\n",
       "\t<tr><th></th><th scope=col>R-1090_ctr</th><th scope=col>R-1091_ctr</th><th scope=col>R-1092_CT913</th><th scope=col>R-1093_CT913</th><th scope=col>R-1094_CT_M1</th><th scope=col>R-1095_CT_M1</th><th scope=col>R-1096+BRCA1_ctr</th><th scope=col>R-1097+BRCA1_ctr</th><th scope=col>R-1098+BRCA1_CT913</th><th scope=col>R-1099+BRCA1_CT913</th><th scope=col>R-1100+BRCA1_CT_M1</th><th scope=col>R-1101+BRCA1_CT_M1</th></tr>\n",
       "\t<tr><th></th><th scope=col>&lt;int&gt;</th><th scope=col>&lt;int&gt;</th><th scope=col>&lt;int&gt;</th><th scope=col>&lt;int&gt;</th><th scope=col>&lt;int&gt;</th><th scope=col>&lt;int&gt;</th><th scope=col>&lt;int&gt;</th><th scope=col>&lt;int&gt;</th><th scope=col>&lt;int&gt;</th><th scope=col>&lt;int&gt;</th><th scope=col>&lt;int&gt;</th><th scope=col>&lt;int&gt;</th></tr>\n",
       "</thead>\n",
       "<tbody>\n",
       "\t<tr><th scope=row>ENSG00000223972</th><td> 0</td><td> 0</td><td> 0</td><td> 0</td><td> 0</td><td> 0</td><td> 0</td><td>0</td><td> 0</td><td> 0</td><td> 0</td><td> 0</td></tr>\n",
       "\t<tr><th scope=row>ENSG00000227232</th><td>14</td><td>15</td><td>20</td><td>13</td><td>32</td><td>11</td><td>12</td><td>8</td><td>11</td><td>16</td><td>16</td><td>73</td></tr>\n",
       "\t<tr><th scope=row>ENSG00000243485</th><td> 0</td><td> 0</td><td> 0</td><td> 0</td><td> 0</td><td> 0</td><td> 0</td><td>0</td><td> 0</td><td> 0</td><td> 0</td><td> 0</td></tr>\n",
       "\t<tr><th scope=row>ENSG00000237613</th><td> 0</td><td> 0</td><td> 0</td><td> 0</td><td> 0</td><td> 0</td><td> 0</td><td>0</td><td> 0</td><td> 0</td><td> 0</td><td> 0</td></tr>\n",
       "\t<tr><th scope=row>ENSG00000268020</th><td> 0</td><td> 0</td><td> 0</td><td> 0</td><td> 0</td><td> 0</td><td> 0</td><td>0</td><td> 0</td><td> 0</td><td> 0</td><td> 0</td></tr>\n",
       "\t<tr><th scope=row>ENSG00000240361</th><td> 0</td><td> 0</td><td> 0</td><td> 0</td><td> 0</td><td> 0</td><td> 0</td><td>0</td><td> 0</td><td> 0</td><td> 0</td><td> 0</td></tr>\n",
       "</tbody>\n",
       "</table>\n"
      ],
      "text/latex": [
       "A data.frame: 6 × 12\n",
       "\\begin{tabular}{r|llllllllllll}\n",
       "  & R-1090\\_ctr & R-1091\\_ctr & R-1092\\_CT913 & R-1093\\_CT913 & R-1094\\_CT\\_M1 & R-1095\\_CT\\_M1 & R-1096+BRCA1\\_ctr & R-1097+BRCA1\\_ctr & R-1098+BRCA1\\_CT913 & R-1099+BRCA1\\_CT913 & R-1100+BRCA1\\_CT\\_M1 & R-1101+BRCA1\\_CT\\_M1\\\\\n",
       "  & <int> & <int> & <int> & <int> & <int> & <int> & <int> & <int> & <int> & <int> & <int> & <int>\\\\\n",
       "\\hline\n",
       "\tENSG00000223972 &  0 &  0 &  0 &  0 &  0 &  0 &  0 & 0 &  0 &  0 &  0 &  0\\\\\n",
       "\tENSG00000227232 & 14 & 15 & 20 & 13 & 32 & 11 & 12 & 8 & 11 & 16 & 16 & 73\\\\\n",
       "\tENSG00000243485 &  0 &  0 &  0 &  0 &  0 &  0 &  0 & 0 &  0 &  0 &  0 &  0\\\\\n",
       "\tENSG00000237613 &  0 &  0 &  0 &  0 &  0 &  0 &  0 & 0 &  0 &  0 &  0 &  0\\\\\n",
       "\tENSG00000268020 &  0 &  0 &  0 &  0 &  0 &  0 &  0 & 0 &  0 &  0 &  0 &  0\\\\\n",
       "\tENSG00000240361 &  0 &  0 &  0 &  0 &  0 &  0 &  0 & 0 &  0 &  0 &  0 &  0\\\\\n",
       "\\end{tabular}\n"
      ],
      "text/markdown": [
       "\n",
       "A data.frame: 6 × 12\n",
       "\n",
       "| <!--/--> | R-1090_ctr &lt;int&gt; | R-1091_ctr &lt;int&gt; | R-1092_CT913 &lt;int&gt; | R-1093_CT913 &lt;int&gt; | R-1094_CT_M1 &lt;int&gt; | R-1095_CT_M1 &lt;int&gt; | R-1096+BRCA1_ctr &lt;int&gt; | R-1097+BRCA1_ctr &lt;int&gt; | R-1098+BRCA1_CT913 &lt;int&gt; | R-1099+BRCA1_CT913 &lt;int&gt; | R-1100+BRCA1_CT_M1 &lt;int&gt; | R-1101+BRCA1_CT_M1 &lt;int&gt; |\n",
       "|---|---|---|---|---|---|---|---|---|---|---|---|---|\n",
       "| ENSG00000223972 |  0 |  0 |  0 |  0 |  0 |  0 |  0 | 0 |  0 |  0 |  0 |  0 |\n",
       "| ENSG00000227232 | 14 | 15 | 20 | 13 | 32 | 11 | 12 | 8 | 11 | 16 | 16 | 73 |\n",
       "| ENSG00000243485 |  0 |  0 |  0 |  0 |  0 |  0 |  0 | 0 |  0 |  0 |  0 |  0 |\n",
       "| ENSG00000237613 |  0 |  0 |  0 |  0 |  0 |  0 |  0 | 0 |  0 |  0 |  0 |  0 |\n",
       "| ENSG00000268020 |  0 |  0 |  0 |  0 |  0 |  0 |  0 | 0 |  0 |  0 |  0 |  0 |\n",
       "| ENSG00000240361 |  0 |  0 |  0 |  0 |  0 |  0 |  0 | 0 |  0 |  0 |  0 |  0 |\n",
       "\n"
      ],
      "text/plain": [
       "                R-1090_ctr R-1091_ctr R-1092_CT913 R-1093_CT913 R-1094_CT_M1\n",
       "ENSG00000223972  0          0          0            0            0          \n",
       "ENSG00000227232 14         15         20           13           32          \n",
       "ENSG00000243485  0          0          0            0            0          \n",
       "ENSG00000237613  0          0          0            0            0          \n",
       "ENSG00000268020  0          0          0            0            0          \n",
       "ENSG00000240361  0          0          0            0            0          \n",
       "                R-1095_CT_M1 R-1096+BRCA1_ctr R-1097+BRCA1_ctr\n",
       "ENSG00000223972  0            0               0               \n",
       "ENSG00000227232 11           12               8               \n",
       "ENSG00000243485  0            0               0               \n",
       "ENSG00000237613  0            0               0               \n",
       "ENSG00000268020  0            0               0               \n",
       "ENSG00000240361  0            0               0               \n",
       "                R-1098+BRCA1_CT913 R-1099+BRCA1_CT913 R-1100+BRCA1_CT_M1\n",
       "ENSG00000223972  0                  0                  0                \n",
       "ENSG00000227232 11                 16                 16                \n",
       "ENSG00000243485  0                  0                  0                \n",
       "ENSG00000237613  0                  0                  0                \n",
       "ENSG00000268020  0                  0                  0                \n",
       "ENSG00000240361  0                  0                  0                \n",
       "                R-1101+BRCA1_CT_M1\n",
       "ENSG00000223972  0                \n",
       "ENSG00000227232 73                \n",
       "ENSG00000243485  0                \n",
       "ENSG00000237613  0                \n",
       "ENSG00000268020  0                \n",
       "ENSG00000240361  0                "
      ]
     },
     "metadata": {},
     "output_type": "display_data"
    },
    {
     "data": {
      "text/html": [
       "<style>\n",
       ".list-inline {list-style: none; margin:0; padding: 0}\n",
       ".list-inline>li {display: inline-block}\n",
       ".list-inline>li:not(:last-child)::after {content: \"\\00b7\"; padding: 0 .5ex}\n",
       "</style>\n",
       "<ol class=list-inline><li>0.96</li><li>0.9</li><li>0.35</li><li>0.32</li><li>0.28</li><li>0.28</li></ol>\n"
      ],
      "text/latex": [
       "\\begin{enumerate*}\n",
       "\\item 0.96\n",
       "\\item 0.9\n",
       "\\item 0.35\n",
       "\\item 0.32\n",
       "\\item 0.28\n",
       "\\item 0.28\n",
       "\\end{enumerate*}\n"
      ],
      "text/markdown": [
       "1. 0.96\n",
       "2. 0.9\n",
       "3. 0.35\n",
       "4. 0.32\n",
       "5. 0.28\n",
       "6. 0.28\n",
       "\n",
       "\n"
      ],
      "text/plain": [
       "[1] 0.96 0.90 0.35 0.32 0.28 0.28"
      ]
     },
     "metadata": {},
     "output_type": "display_data"
    },
    {
     "data": {
      "text/html": [
       "<table class=\"dataframe\">\n",
       "<caption>A data.frame: 6 × 12</caption>\n",
       "<thead>\n",
       "\t<tr><th></th><th scope=col>R-1090_ctr</th><th scope=col>R-1091_ctr</th><th scope=col>R-1092_CT913</th><th scope=col>R-1093_CT913</th><th scope=col>R-1094_CT_M1</th><th scope=col>R-1095_CT_M1</th><th scope=col>R-1096+BRCA1_ctr</th><th scope=col>R-1097+BRCA1_ctr</th><th scope=col>R-1098+BRCA1_CT913</th><th scope=col>R-1099+BRCA1_CT913</th><th scope=col>R-1100+BRCA1_CT_M1</th><th scope=col>R-1101+BRCA1_CT_M1</th></tr>\n",
       "\t<tr><th></th><th scope=col>&lt;dbl&gt;</th><th scope=col>&lt;dbl&gt;</th><th scope=col>&lt;dbl&gt;</th><th scope=col>&lt;dbl&gt;</th><th scope=col>&lt;dbl&gt;</th><th scope=col>&lt;dbl&gt;</th><th scope=col>&lt;dbl&gt;</th><th scope=col>&lt;dbl&gt;</th><th scope=col>&lt;dbl&gt;</th><th scope=col>&lt;dbl&gt;</th><th scope=col>&lt;dbl&gt;</th><th scope=col>&lt;dbl&gt;</th></tr>\n",
       "</thead>\n",
       "<tbody>\n",
       "\t<tr><th scope=row>ENSG00000223972</th><td>0.000000</td><td>0.000000</td><td>0.000000</td><td>0.00000</td><td>0.000000</td><td>0.000000</td><td>0.000000</td><td>0.000000</td><td>0.000000</td><td>0.000000</td><td>0.000000</td><td>0.000000</td></tr>\n",
       "\t<tr><th scope=row>ENSG00000227232</th><td>2.546357</td><td>2.929086</td><td>3.548594</td><td>3.32791</td><td>4.164342</td><td>2.654741</td><td>2.248305</td><td>1.767533</td><td>2.173754</td><td>3.787985</td><td>3.437256</td><td>7.169821</td></tr>\n",
       "\t<tr><th scope=row>ENSG00000243485</th><td>0.000000</td><td>0.000000</td><td>0.000000</td><td>0.00000</td><td>0.000000</td><td>0.000000</td><td>0.000000</td><td>0.000000</td><td>0.000000</td><td>0.000000</td><td>0.000000</td><td>0.000000</td></tr>\n",
       "\t<tr><th scope=row>ENSG00000237613</th><td>0.000000</td><td>0.000000</td><td>0.000000</td><td>0.00000</td><td>0.000000</td><td>0.000000</td><td>0.000000</td><td>0.000000</td><td>0.000000</td><td>0.000000</td><td>0.000000</td><td>0.000000</td></tr>\n",
       "\t<tr><th scope=row>ENSG00000268020</th><td>0.000000</td><td>0.000000</td><td>0.000000</td><td>0.00000</td><td>0.000000</td><td>0.000000</td><td>0.000000</td><td>0.000000</td><td>0.000000</td><td>0.000000</td><td>0.000000</td><td>0.000000</td></tr>\n",
       "\t<tr><th scope=row>ENSG00000240361</th><td>0.000000</td><td>0.000000</td><td>0.000000</td><td>0.00000</td><td>0.000000</td><td>0.000000</td><td>0.000000</td><td>0.000000</td><td>0.000000</td><td>0.000000</td><td>0.000000</td><td>0.000000</td></tr>\n",
       "</tbody>\n",
       "</table>\n"
      ],
      "text/latex": [
       "A data.frame: 6 × 12\n",
       "\\begin{tabular}{r|llllllllllll}\n",
       "  & R-1090\\_ctr & R-1091\\_ctr & R-1092\\_CT913 & R-1093\\_CT913 & R-1094\\_CT\\_M1 & R-1095\\_CT\\_M1 & R-1096+BRCA1\\_ctr & R-1097+BRCA1\\_ctr & R-1098+BRCA1\\_CT913 & R-1099+BRCA1\\_CT913 & R-1100+BRCA1\\_CT\\_M1 & R-1101+BRCA1\\_CT\\_M1\\\\\n",
       "  & <dbl> & <dbl> & <dbl> & <dbl> & <dbl> & <dbl> & <dbl> & <dbl> & <dbl> & <dbl> & <dbl> & <dbl>\\\\\n",
       "\\hline\n",
       "\tENSG00000223972 & 0.000000 & 0.000000 & 0.000000 & 0.00000 & 0.000000 & 0.000000 & 0.000000 & 0.000000 & 0.000000 & 0.000000 & 0.000000 & 0.000000\\\\\n",
       "\tENSG00000227232 & 2.546357 & 2.929086 & 3.548594 & 3.32791 & 4.164342 & 2.654741 & 2.248305 & 1.767533 & 2.173754 & 3.787985 & 3.437256 & 7.169821\\\\\n",
       "\tENSG00000243485 & 0.000000 & 0.000000 & 0.000000 & 0.00000 & 0.000000 & 0.000000 & 0.000000 & 0.000000 & 0.000000 & 0.000000 & 0.000000 & 0.000000\\\\\n",
       "\tENSG00000237613 & 0.000000 & 0.000000 & 0.000000 & 0.00000 & 0.000000 & 0.000000 & 0.000000 & 0.000000 & 0.000000 & 0.000000 & 0.000000 & 0.000000\\\\\n",
       "\tENSG00000268020 & 0.000000 & 0.000000 & 0.000000 & 0.00000 & 0.000000 & 0.000000 & 0.000000 & 0.000000 & 0.000000 & 0.000000 & 0.000000 & 0.000000\\\\\n",
       "\tENSG00000240361 & 0.000000 & 0.000000 & 0.000000 & 0.00000 & 0.000000 & 0.000000 & 0.000000 & 0.000000 & 0.000000 & 0.000000 & 0.000000 & 0.000000\\\\\n",
       "\\end{tabular}\n"
      ],
      "text/markdown": [
       "\n",
       "A data.frame: 6 × 12\n",
       "\n",
       "| <!--/--> | R-1090_ctr &lt;dbl&gt; | R-1091_ctr &lt;dbl&gt; | R-1092_CT913 &lt;dbl&gt; | R-1093_CT913 &lt;dbl&gt; | R-1094_CT_M1 &lt;dbl&gt; | R-1095_CT_M1 &lt;dbl&gt; | R-1096+BRCA1_ctr &lt;dbl&gt; | R-1097+BRCA1_ctr &lt;dbl&gt; | R-1098+BRCA1_CT913 &lt;dbl&gt; | R-1099+BRCA1_CT913 &lt;dbl&gt; | R-1100+BRCA1_CT_M1 &lt;dbl&gt; | R-1101+BRCA1_CT_M1 &lt;dbl&gt; |\n",
       "|---|---|---|---|---|---|---|---|---|---|---|---|---|\n",
       "| ENSG00000223972 | 0.000000 | 0.000000 | 0.000000 | 0.00000 | 0.000000 | 0.000000 | 0.000000 | 0.000000 | 0.000000 | 0.000000 | 0.000000 | 0.000000 |\n",
       "| ENSG00000227232 | 2.546357 | 2.929086 | 3.548594 | 3.32791 | 4.164342 | 2.654741 | 2.248305 | 1.767533 | 2.173754 | 3.787985 | 3.437256 | 7.169821 |\n",
       "| ENSG00000243485 | 0.000000 | 0.000000 | 0.000000 | 0.00000 | 0.000000 | 0.000000 | 0.000000 | 0.000000 | 0.000000 | 0.000000 | 0.000000 | 0.000000 |\n",
       "| ENSG00000237613 | 0.000000 | 0.000000 | 0.000000 | 0.00000 | 0.000000 | 0.000000 | 0.000000 | 0.000000 | 0.000000 | 0.000000 | 0.000000 | 0.000000 |\n",
       "| ENSG00000268020 | 0.000000 | 0.000000 | 0.000000 | 0.00000 | 0.000000 | 0.000000 | 0.000000 | 0.000000 | 0.000000 | 0.000000 | 0.000000 | 0.000000 |\n",
       "| ENSG00000240361 | 0.000000 | 0.000000 | 0.000000 | 0.00000 | 0.000000 | 0.000000 | 0.000000 | 0.000000 | 0.000000 | 0.000000 | 0.000000 | 0.000000 |\n",
       "\n"
      ],
      "text/plain": [
       "                R-1090_ctr R-1091_ctr R-1092_CT913 R-1093_CT913 R-1094_CT_M1\n",
       "ENSG00000223972 0.000000   0.000000   0.000000     0.00000      0.000000    \n",
       "ENSG00000227232 2.546357   2.929086   3.548594     3.32791      4.164342    \n",
       "ENSG00000243485 0.000000   0.000000   0.000000     0.00000      0.000000    \n",
       "ENSG00000237613 0.000000   0.000000   0.000000     0.00000      0.000000    \n",
       "ENSG00000268020 0.000000   0.000000   0.000000     0.00000      0.000000    \n",
       "ENSG00000240361 0.000000   0.000000   0.000000     0.00000      0.000000    \n",
       "                R-1095_CT_M1 R-1096+BRCA1_ctr R-1097+BRCA1_ctr\n",
       "ENSG00000223972 0.000000     0.000000         0.000000        \n",
       "ENSG00000227232 2.654741     2.248305         1.767533        \n",
       "ENSG00000243485 0.000000     0.000000         0.000000        \n",
       "ENSG00000237613 0.000000     0.000000         0.000000        \n",
       "ENSG00000268020 0.000000     0.000000         0.000000        \n",
       "ENSG00000240361 0.000000     0.000000         0.000000        \n",
       "                R-1098+BRCA1_CT913 R-1099+BRCA1_CT913 R-1100+BRCA1_CT_M1\n",
       "ENSG00000223972 0.000000           0.000000           0.000000          \n",
       "ENSG00000227232 2.173754           3.787985           3.437256          \n",
       "ENSG00000243485 0.000000           0.000000           0.000000          \n",
       "ENSG00000237613 0.000000           0.000000           0.000000          \n",
       "ENSG00000268020 0.000000           0.000000           0.000000          \n",
       "ENSG00000240361 0.000000           0.000000           0.000000          \n",
       "                R-1101+BRCA1_CT_M1\n",
       "ENSG00000223972 0.000000          \n",
       "ENSG00000227232 7.169821          \n",
       "ENSG00000243485 0.000000          \n",
       "ENSG00000237613 0.000000          \n",
       "ENSG00000268020 0.000000          \n",
       "ENSG00000240361 0.000000          "
      ]
     },
     "metadata": {},
     "output_type": "display_data"
    },
    {
     "data": {
      "text/html": [
       "<table class=\"dataframe\">\n",
       "<caption>A data.frame: 6 × 4</caption>\n",
       "<thead>\n",
       "\t<tr><th></th><th scope=col>ensgID</th><th scope=col>symbol</th><th scope=col>description</th><th scope=col>geneType</th></tr>\n",
       "\t<tr><th></th><th scope=col>&lt;chr&gt;</th><th scope=col>&lt;chr&gt;</th><th scope=col>&lt;chr&gt;</th><th scope=col>&lt;chr&gt;</th></tr>\n",
       "</thead>\n",
       "<tbody>\n",
       "\t<tr><th scope=row>ENSG00000271782</th><td>ENSG00000271782</td><td>RP5-850O15.4</td><td>                                      </td><td>lincRNA  </td></tr>\n",
       "\t<tr><th scope=row>ENSG00000232753</th><td>ENSG00000232753</td><td>RP11-347K2.1</td><td>                                      </td><td>lincRNA  </td></tr>\n",
       "\t<tr><th scope=row>ENSG00000225767</th><td>ENSG00000225767</td><td>RP5-850O15.3</td><td>                                      </td><td>antisense</td></tr>\n",
       "\t<tr><th scope=row>ENSG00000202140</th><td>ENSG00000202140</td><td>Y_RNA       </td><td>Y RNA                                 </td><td>misc_RNA </td></tr>\n",
       "\t<tr><th scope=row>ENSG00000207194</th><td>ENSG00000207194</td><td>RNU6-1026P  </td><td>RNA, U6 small nuclear 1026, pseudogene</td><td>snRNA    </td></tr>\n",
       "\t<tr><th scope=row>ENSG00000252825</th><td>ENSG00000252825</td><td>RNU6-1253P  </td><td>RNA, U6 small nuclear 1253, pseudogene</td><td>snRNA    </td></tr>\n",
       "</tbody>\n",
       "</table>\n"
      ],
      "text/latex": [
       "A data.frame: 6 × 4\n",
       "\\begin{tabular}{r|llll}\n",
       "  & ensgID & symbol & description & geneType\\\\\n",
       "  & <chr> & <chr> & <chr> & <chr>\\\\\n",
       "\\hline\n",
       "\tENSG00000271782 & ENSG00000271782 & RP5-850O15.4 &                                        & lincRNA  \\\\\n",
       "\tENSG00000232753 & ENSG00000232753 & RP11-347K2.1 &                                        & lincRNA  \\\\\n",
       "\tENSG00000225767 & ENSG00000225767 & RP5-850O15.3 &                                        & antisense\\\\\n",
       "\tENSG00000202140 & ENSG00000202140 & Y\\_RNA        & Y RNA                                  & misc\\_RNA \\\\\n",
       "\tENSG00000207194 & ENSG00000207194 & RNU6-1026P   & RNA, U6 small nuclear 1026, pseudogene & snRNA    \\\\\n",
       "\tENSG00000252825 & ENSG00000252825 & RNU6-1253P   & RNA, U6 small nuclear 1253, pseudogene & snRNA    \\\\\n",
       "\\end{tabular}\n"
      ],
      "text/markdown": [
       "\n",
       "A data.frame: 6 × 4\n",
       "\n",
       "| <!--/--> | ensgID &lt;chr&gt; | symbol &lt;chr&gt; | description &lt;chr&gt; | geneType &lt;chr&gt; |\n",
       "|---|---|---|---|---|\n",
       "| ENSG00000271782 | ENSG00000271782 | RP5-850O15.4 | <!----> | lincRNA   |\n",
       "| ENSG00000232753 | ENSG00000232753 | RP11-347K2.1 | <!----> | lincRNA   |\n",
       "| ENSG00000225767 | ENSG00000225767 | RP5-850O15.3 | <!----> | antisense |\n",
       "| ENSG00000202140 | ENSG00000202140 | Y_RNA        | Y RNA                                  | misc_RNA  |\n",
       "| ENSG00000207194 | ENSG00000207194 | RNU6-1026P   | RNA, U6 small nuclear 1026, pseudogene | snRNA     |\n",
       "| ENSG00000252825 | ENSG00000252825 | RNU6-1253P   | RNA, U6 small nuclear 1253, pseudogene | snRNA     |\n",
       "\n"
      ],
      "text/plain": [
       "                ensgID          symbol      \n",
       "ENSG00000271782 ENSG00000271782 RP5-850O15.4\n",
       "ENSG00000232753 ENSG00000232753 RP11-347K2.1\n",
       "ENSG00000225767 ENSG00000225767 RP5-850O15.3\n",
       "ENSG00000202140 ENSG00000202140 Y_RNA       \n",
       "ENSG00000207194 ENSG00000207194 RNU6-1026P  \n",
       "ENSG00000252825 ENSG00000252825 RNU6-1253P  \n",
       "                description                            geneType \n",
       "ENSG00000271782                                        lincRNA  \n",
       "ENSG00000232753                                        lincRNA  \n",
       "ENSG00000225767                                        antisense\n",
       "ENSG00000202140 Y RNA                                  misc_RNA \n",
       "ENSG00000207194 RNA, U6 small nuclear 1026, pseudogene snRNA    \n",
       "ENSG00000252825 RNA, U6 small nuclear 1253, pseudogene snRNA    "
      ]
     },
     "metadata": {},
     "output_type": "display_data"
    },
    {
     "name": "stdout",
     "output_type": "stream",
     "text": [
      "[1] \"tpms:\"\n"
     ]
    },
    {
     "data": {
      "text/html": [
       "<style>\n",
       ".list-inline {list-style: none; margin:0; padding: 0}\n",
       ".list-inline>li {display: inline-block}\n",
       ".list-inline>li:not(:last-child)::after {content: \"\\00b7\"; padding: 0 .5ex}\n",
       "</style>\n",
       "<ol class=list-inline><li>57952</li><li>16</li></ol>\n"
      ],
      "text/latex": [
       "\\begin{enumerate*}\n",
       "\\item 57952\n",
       "\\item 16\n",
       "\\end{enumerate*}\n"
      ],
      "text/markdown": [
       "1. 57952\n",
       "2. 16\n",
       "\n",
       "\n"
      ],
      "text/plain": [
       "[1] 57952    16"
      ]
     },
     "metadata": {},
     "output_type": "display_data"
    },
    {
     "data": {
      "text/html": [
       "<table class=\"dataframe\">\n",
       "<caption>A data.frame: 6 × 16</caption>\n",
       "<thead>\n",
       "\t<tr><th></th><th scope=col>EnsgID</th><th scope=col>symbol</th><th scope=col>geneType</th><th scope=col>descr</th><th scope=col>R-1090_ctr</th><th scope=col>R-1091_ctr</th><th scope=col>R-1092_CT913</th><th scope=col>R-1093_CT913</th><th scope=col>R-1094_CT_M1</th><th scope=col>R-1095_CT_M1</th><th scope=col>R-1096+BRCA1_ctr</th><th scope=col>R-1097+BRCA1_ctr</th><th scope=col>R-1098+BRCA1_CT913</th><th scope=col>R-1099+BRCA1_CT913</th><th scope=col>R-1100+BRCA1_CT_M1</th><th scope=col>R-1101+BRCA1_CT_M1</th></tr>\n",
       "\t<tr><th></th><th scope=col>&lt;chr&gt;</th><th scope=col>&lt;chr&gt;</th><th scope=col>&lt;chr&gt;</th><th scope=col>&lt;chr&gt;</th><th scope=col>&lt;dbl&gt;</th><th scope=col>&lt;dbl&gt;</th><th scope=col>&lt;dbl&gt;</th><th scope=col>&lt;dbl&gt;</th><th scope=col>&lt;dbl&gt;</th><th scope=col>&lt;dbl&gt;</th><th scope=col>&lt;dbl&gt;</th><th scope=col>&lt;dbl&gt;</th><th scope=col>&lt;dbl&gt;</th><th scope=col>&lt;dbl&gt;</th><th scope=col>&lt;dbl&gt;</th><th scope=col>&lt;dbl&gt;</th></tr>\n",
       "</thead>\n",
       "<tbody>\n",
       "\t<tr><th scope=row>ENSG00000223972</th><td>ENSG00000223972</td><td>DDX11L1   </td><td>pseudogene</td><td>DEAD/H (Asp-Glu-Ala-Asp/His) box helicase 11 like 1            </td><td>0.000000</td><td>0.000000</td><td>0.000000</td><td>0.00000</td><td>0.000000</td><td>0.000000</td><td>0.000000</td><td>0.000000</td><td>0.000000</td><td>0.000000</td><td>0.000000</td><td>0.000000</td></tr>\n",
       "\t<tr><th scope=row>ENSG00000227232</th><td>ENSG00000227232</td><td>WASH7P    </td><td>pseudogene</td><td>WAS protein family homolog 7 pseudogene                        </td><td>2.546357</td><td>2.929086</td><td>3.548594</td><td>3.32791</td><td>4.164342</td><td>2.654741</td><td>2.248305</td><td>1.767533</td><td>2.173754</td><td>3.787985</td><td>3.437256</td><td>7.169821</td></tr>\n",
       "\t<tr><th scope=row>ENSG00000243485</th><td>ENSG00000243485</td><td>MIR1302-10</td><td>lincRNA   </td><td>microRNA 1302-10                                               </td><td>0.000000</td><td>0.000000</td><td>0.000000</td><td>0.00000</td><td>0.000000</td><td>0.000000</td><td>0.000000</td><td>0.000000</td><td>0.000000</td><td>0.000000</td><td>0.000000</td><td>0.000000</td></tr>\n",
       "\t<tr><th scope=row>ENSG00000237613</th><td>ENSG00000237613</td><td>FAM138A   </td><td>lincRNA   </td><td>family with sequence similarity 138, member A                  </td><td>0.000000</td><td>0.000000</td><td>0.000000</td><td>0.00000</td><td>0.000000</td><td>0.000000</td><td>0.000000</td><td>0.000000</td><td>0.000000</td><td>0.000000</td><td>0.000000</td><td>0.000000</td></tr>\n",
       "\t<tr><th scope=row>ENSG00000268020</th><td>ENSG00000268020</td><td>OR4G4P    </td><td>pseudogene</td><td>olfactory receptor, family 4, subfamily G, member 4 pseudogene </td><td>0.000000</td><td>0.000000</td><td>0.000000</td><td>0.00000</td><td>0.000000</td><td>0.000000</td><td>0.000000</td><td>0.000000</td><td>0.000000</td><td>0.000000</td><td>0.000000</td><td>0.000000</td></tr>\n",
       "\t<tr><th scope=row>ENSG00000240361</th><td>ENSG00000240361</td><td>OR4G11P   </td><td>pseudogene</td><td>olfactory receptor, family 4, subfamily G, member 11 pseudogene</td><td>0.000000</td><td>0.000000</td><td>0.000000</td><td>0.00000</td><td>0.000000</td><td>0.000000</td><td>0.000000</td><td>0.000000</td><td>0.000000</td><td>0.000000</td><td>0.000000</td><td>0.000000</td></tr>\n",
       "</tbody>\n",
       "</table>\n"
      ],
      "text/latex": [
       "A data.frame: 6 × 16\n",
       "\\begin{tabular}{r|llllllllllllllll}\n",
       "  & EnsgID & symbol & geneType & descr & R-1090\\_ctr & R-1091\\_ctr & R-1092\\_CT913 & R-1093\\_CT913 & R-1094\\_CT\\_M1 & R-1095\\_CT\\_M1 & R-1096+BRCA1\\_ctr & R-1097+BRCA1\\_ctr & R-1098+BRCA1\\_CT913 & R-1099+BRCA1\\_CT913 & R-1100+BRCA1\\_CT\\_M1 & R-1101+BRCA1\\_CT\\_M1\\\\\n",
       "  & <chr> & <chr> & <chr> & <chr> & <dbl> & <dbl> & <dbl> & <dbl> & <dbl> & <dbl> & <dbl> & <dbl> & <dbl> & <dbl> & <dbl> & <dbl>\\\\\n",
       "\\hline\n",
       "\tENSG00000223972 & ENSG00000223972 & DDX11L1    & pseudogene & DEAD/H (Asp-Glu-Ala-Asp/His) box helicase 11 like 1             & 0.000000 & 0.000000 & 0.000000 & 0.00000 & 0.000000 & 0.000000 & 0.000000 & 0.000000 & 0.000000 & 0.000000 & 0.000000 & 0.000000\\\\\n",
       "\tENSG00000227232 & ENSG00000227232 & WASH7P     & pseudogene & WAS protein family homolog 7 pseudogene                         & 2.546357 & 2.929086 & 3.548594 & 3.32791 & 4.164342 & 2.654741 & 2.248305 & 1.767533 & 2.173754 & 3.787985 & 3.437256 & 7.169821\\\\\n",
       "\tENSG00000243485 & ENSG00000243485 & MIR1302-10 & lincRNA    & microRNA 1302-10                                                & 0.000000 & 0.000000 & 0.000000 & 0.00000 & 0.000000 & 0.000000 & 0.000000 & 0.000000 & 0.000000 & 0.000000 & 0.000000 & 0.000000\\\\\n",
       "\tENSG00000237613 & ENSG00000237613 & FAM138A    & lincRNA    & family with sequence similarity 138, member A                   & 0.000000 & 0.000000 & 0.000000 & 0.00000 & 0.000000 & 0.000000 & 0.000000 & 0.000000 & 0.000000 & 0.000000 & 0.000000 & 0.000000\\\\\n",
       "\tENSG00000268020 & ENSG00000268020 & OR4G4P     & pseudogene & olfactory receptor, family 4, subfamily G, member 4 pseudogene  & 0.000000 & 0.000000 & 0.000000 & 0.00000 & 0.000000 & 0.000000 & 0.000000 & 0.000000 & 0.000000 & 0.000000 & 0.000000 & 0.000000\\\\\n",
       "\tENSG00000240361 & ENSG00000240361 & OR4G11P    & pseudogene & olfactory receptor, family 4, subfamily G, member 11 pseudogene & 0.000000 & 0.000000 & 0.000000 & 0.00000 & 0.000000 & 0.000000 & 0.000000 & 0.000000 & 0.000000 & 0.000000 & 0.000000 & 0.000000\\\\\n",
       "\\end{tabular}\n"
      ],
      "text/markdown": [
       "\n",
       "A data.frame: 6 × 16\n",
       "\n",
       "| <!--/--> | EnsgID &lt;chr&gt; | symbol &lt;chr&gt; | geneType &lt;chr&gt; | descr &lt;chr&gt; | R-1090_ctr &lt;dbl&gt; | R-1091_ctr &lt;dbl&gt; | R-1092_CT913 &lt;dbl&gt; | R-1093_CT913 &lt;dbl&gt; | R-1094_CT_M1 &lt;dbl&gt; | R-1095_CT_M1 &lt;dbl&gt; | R-1096+BRCA1_ctr &lt;dbl&gt; | R-1097+BRCA1_ctr &lt;dbl&gt; | R-1098+BRCA1_CT913 &lt;dbl&gt; | R-1099+BRCA1_CT913 &lt;dbl&gt; | R-1100+BRCA1_CT_M1 &lt;dbl&gt; | R-1101+BRCA1_CT_M1 &lt;dbl&gt; |\n",
       "|---|---|---|---|---|---|---|---|---|---|---|---|---|---|---|---|---|\n",
       "| ENSG00000223972 | ENSG00000223972 | DDX11L1    | pseudogene | DEAD/H (Asp-Glu-Ala-Asp/His) box helicase 11 like 1             | 0.000000 | 0.000000 | 0.000000 | 0.00000 | 0.000000 | 0.000000 | 0.000000 | 0.000000 | 0.000000 | 0.000000 | 0.000000 | 0.000000 |\n",
       "| ENSG00000227232 | ENSG00000227232 | WASH7P     | pseudogene | WAS protein family homolog 7 pseudogene                         | 2.546357 | 2.929086 | 3.548594 | 3.32791 | 4.164342 | 2.654741 | 2.248305 | 1.767533 | 2.173754 | 3.787985 | 3.437256 | 7.169821 |\n",
       "| ENSG00000243485 | ENSG00000243485 | MIR1302-10 | lincRNA    | microRNA 1302-10                                                | 0.000000 | 0.000000 | 0.000000 | 0.00000 | 0.000000 | 0.000000 | 0.000000 | 0.000000 | 0.000000 | 0.000000 | 0.000000 | 0.000000 |\n",
       "| ENSG00000237613 | ENSG00000237613 | FAM138A    | lincRNA    | family with sequence similarity 138, member A                   | 0.000000 | 0.000000 | 0.000000 | 0.00000 | 0.000000 | 0.000000 | 0.000000 | 0.000000 | 0.000000 | 0.000000 | 0.000000 | 0.000000 |\n",
       "| ENSG00000268020 | ENSG00000268020 | OR4G4P     | pseudogene | olfactory receptor, family 4, subfamily G, member 4 pseudogene  | 0.000000 | 0.000000 | 0.000000 | 0.00000 | 0.000000 | 0.000000 | 0.000000 | 0.000000 | 0.000000 | 0.000000 | 0.000000 | 0.000000 |\n",
       "| ENSG00000240361 | ENSG00000240361 | OR4G11P    | pseudogene | olfactory receptor, family 4, subfamily G, member 11 pseudogene | 0.000000 | 0.000000 | 0.000000 | 0.00000 | 0.000000 | 0.000000 | 0.000000 | 0.000000 | 0.000000 | 0.000000 | 0.000000 | 0.000000 |\n",
       "\n"
      ],
      "text/plain": [
       "                EnsgID          symbol     geneType  \n",
       "ENSG00000223972 ENSG00000223972 DDX11L1    pseudogene\n",
       "ENSG00000227232 ENSG00000227232 WASH7P     pseudogene\n",
       "ENSG00000243485 ENSG00000243485 MIR1302-10 lincRNA   \n",
       "ENSG00000237613 ENSG00000237613 FAM138A    lincRNA   \n",
       "ENSG00000268020 ENSG00000268020 OR4G4P     pseudogene\n",
       "ENSG00000240361 ENSG00000240361 OR4G11P    pseudogene\n",
       "                descr                                                          \n",
       "ENSG00000223972 DEAD/H (Asp-Glu-Ala-Asp/His) box helicase 11 like 1            \n",
       "ENSG00000227232 WAS protein family homolog 7 pseudogene                        \n",
       "ENSG00000243485 microRNA 1302-10                                               \n",
       "ENSG00000237613 family with sequence similarity 138, member A                  \n",
       "ENSG00000268020 olfactory receptor, family 4, subfamily G, member 4 pseudogene \n",
       "ENSG00000240361 olfactory receptor, family 4, subfamily G, member 11 pseudogene\n",
       "                R-1090_ctr R-1091_ctr R-1092_CT913 R-1093_CT913 R-1094_CT_M1\n",
       "ENSG00000223972 0.000000   0.000000   0.000000     0.00000      0.000000    \n",
       "ENSG00000227232 2.546357   2.929086   3.548594     3.32791      4.164342    \n",
       "ENSG00000243485 0.000000   0.000000   0.000000     0.00000      0.000000    \n",
       "ENSG00000237613 0.000000   0.000000   0.000000     0.00000      0.000000    \n",
       "ENSG00000268020 0.000000   0.000000   0.000000     0.00000      0.000000    \n",
       "ENSG00000240361 0.000000   0.000000   0.000000     0.00000      0.000000    \n",
       "                R-1095_CT_M1 R-1096+BRCA1_ctr R-1097+BRCA1_ctr\n",
       "ENSG00000223972 0.000000     0.000000         0.000000        \n",
       "ENSG00000227232 2.654741     2.248305         1.767533        \n",
       "ENSG00000243485 0.000000     0.000000         0.000000        \n",
       "ENSG00000237613 0.000000     0.000000         0.000000        \n",
       "ENSG00000268020 0.000000     0.000000         0.000000        \n",
       "ENSG00000240361 0.000000     0.000000         0.000000        \n",
       "                R-1098+BRCA1_CT913 R-1099+BRCA1_CT913 R-1100+BRCA1_CT_M1\n",
       "ENSG00000223972 0.000000           0.000000           0.000000          \n",
       "ENSG00000227232 2.173754           3.787985           3.437256          \n",
       "ENSG00000243485 0.000000           0.000000           0.000000          \n",
       "ENSG00000237613 0.000000           0.000000           0.000000          \n",
       "ENSG00000268020 0.000000           0.000000           0.000000          \n",
       "ENSG00000240361 0.000000           0.000000           0.000000          \n",
       "                R-1101+BRCA1_CT_M1\n",
       "ENSG00000223972 0.000000          \n",
       "ENSG00000227232 7.169821          \n",
       "ENSG00000243485 0.000000          \n",
       "ENSG00000237613 0.000000          \n",
       "ENSG00000268020 0.000000          \n",
       "ENSG00000240361 0.000000          "
      ]
     },
     "metadata": {},
     "output_type": "display_data"
    },
    {
     "data": {
      "text/html": [
       "<style>\n",
       ".list-inline {list-style: none; margin:0; padding: 0}\n",
       ".list-inline>li {display: inline-block}\n",
       ".list-inline>li:not(:last-child)::after {content: \"\\00b7\"; padding: 0 .5ex}\n",
       "</style>\n",
       "<ol class=list-inline><li>2.04</li><li>1.88</li><li>0.85</li><li>0.77</li><li>0.56</li><li>0.46</li></ol>\n"
      ],
      "text/latex": [
       "\\begin{enumerate*}\n",
       "\\item 2.04\n",
       "\\item 1.88\n",
       "\\item 0.85\n",
       "\\item 0.77\n",
       "\\item 0.56\n",
       "\\item 0.46\n",
       "\\end{enumerate*}\n"
      ],
      "text/markdown": [
       "1. 2.04\n",
       "2. 1.88\n",
       "3. 0.85\n",
       "4. 0.77\n",
       "5. 0.56\n",
       "6. 0.46\n",
       "\n",
       "\n"
      ],
      "text/plain": [
       "[1] 2.04 1.88 0.85 0.77 0.56 0.46"
      ]
     },
     "metadata": {},
     "output_type": "display_data"
    },
    {
     "name": "stdout",
     "output_type": "stream",
     "text": [
      "stop9\n"
     ]
    }
   ],
   "source": [
    "head(countsDF[,sampleAnnot$ID])\n",
    "countsDF$sum <- rowSums(countsDF[,sampleAnnot$ID],na.rm = T)\n",
    "countsDF$sd <- round(apply(X = countsDF[,sampleAnnot$ID],MARGIN = 1, FUN= function(x) sd(x,na.rm = T)),1)\n",
    "countsDF <- countsDF[order(countsDF$sum,decreasing = T),]\n",
    "total <- sum(countsDF$sum)\n",
    "countsDF$percentOfTotal <- round(countsDF$sum/total*100,2)\n",
    "head(countsDF$percentOfTotal)\n",
    "colnames(countsDF)[which(colnames(countsDF)==\"percentOfTotal\")] <- \"% of total\"\n",
    "\n",
    "TPMsDF <- as.data.frame(TPMs)\n",
    "head(TPMsDF)\n",
    "TPMsDF$EnsgID <- rownames(TPMsDF)\n",
    "head(annot)\n",
    "TPMsDF$symbol <- annot[ rownames(TPMsDF) ,]$symbol\n",
    "TPMsDF$geneType <- annot[ rownames(TPMsDF) ,]$geneType\n",
    "TPMsDF$descr <- annot[ rownames(TPMsDF) ,]$description\n",
    "TPMsDF <- TPMsDF[,c((ncol(TPMs)+1):ncol(TPMsDF),1:ncol(TPMs))]\n",
    "print(\"tpms:\")\n",
    "dim(TPMsDF)\n",
    "head(TPMsDF)\n",
    "TPMsDF$sum <- rowSums(TPMsDF[,sampleAnnot$ID],na.rm = T)\n",
    "TPMsDF$sd <- round(apply(X = TPMsDF[,sampleAnnot$ID],MARGIN = 1, FUN= function(x) sd(x,na.rm = T)),1)\n",
    "TPMsDF <- TPMsDF[order(TPMsDF$sum,decreasing = T),]\n",
    "total <- sum(TPMsDF$sum)\n",
    "TPMsDF$percentOfTotal <- round(TPMsDF$sum/total*100,2)\n",
    "head(TPMsDF$percentOfTotal)\n",
    "colnames(TPMsDF)[which(colnames(TPMsDF)==\"percentOfTotal\")] <- \"% of total\"\n",
    "\n",
    "totalReadsDF <- data.frame(sample=names(totalReads),non_unique_counts=totalReads)"
   ]
  },
  {
   "cell_type": "markdown",
   "id": "e30dedc9",
   "metadata": {},
   "source": [
    "#### regularized logarithmic transformation, or VST:"
   ]
  },
  {
   "cell_type": "code",
   "execution_count": 32,
   "id": "dec15522",
   "metadata": {
    "scrolled": true
   },
   "outputs": [
    {
     "data": {
      "text/html": [
       "<table class=\"dataframe\">\n",
       "<caption>A matrix: 6 × 12 of type dbl</caption>\n",
       "<thead>\n",
       "\t<tr><th></th><th scope=col>R-1090_ctr</th><th scope=col>R-1091_ctr</th><th scope=col>R-1092_CT913</th><th scope=col>R-1093_CT913</th><th scope=col>R-1094_CT_M1</th><th scope=col>R-1095_CT_M1</th><th scope=col>R-1096+BRCA1_ctr</th><th scope=col>R-1097+BRCA1_ctr</th><th scope=col>R-1098+BRCA1_CT913</th><th scope=col>R-1099+BRCA1_CT913</th><th scope=col>R-1100+BRCA1_CT_M1</th><th scope=col>R-1101+BRCA1_CT_M1</th></tr>\n",
       "</thead>\n",
       "<tbody>\n",
       "\t<tr><th scope=row>ENSG00000223972</th><td>0.000000</td><td>0.000000</td><td>0.000000</td><td>0.00000</td><td>0.000000</td><td>0.000000</td><td>0.000000</td><td>0.000000</td><td>0.000000</td><td>0.000000</td><td>0.000000</td><td>0.000000</td></tr>\n",
       "\t<tr><th scope=row>ENSG00000227232</th><td>2.546357</td><td>2.929086</td><td>3.548594</td><td>3.32791</td><td>4.164342</td><td>2.654741</td><td>2.248305</td><td>1.767533</td><td>2.173754</td><td>3.787985</td><td>3.437256</td><td>7.169821</td></tr>\n",
       "\t<tr><th scope=row>ENSG00000243485</th><td>0.000000</td><td>0.000000</td><td>0.000000</td><td>0.00000</td><td>0.000000</td><td>0.000000</td><td>0.000000</td><td>0.000000</td><td>0.000000</td><td>0.000000</td><td>0.000000</td><td>0.000000</td></tr>\n",
       "\t<tr><th scope=row>ENSG00000237613</th><td>0.000000</td><td>0.000000</td><td>0.000000</td><td>0.00000</td><td>0.000000</td><td>0.000000</td><td>0.000000</td><td>0.000000</td><td>0.000000</td><td>0.000000</td><td>0.000000</td><td>0.000000</td></tr>\n",
       "\t<tr><th scope=row>ENSG00000268020</th><td>0.000000</td><td>0.000000</td><td>0.000000</td><td>0.00000</td><td>0.000000</td><td>0.000000</td><td>0.000000</td><td>0.000000</td><td>0.000000</td><td>0.000000</td><td>0.000000</td><td>0.000000</td></tr>\n",
       "\t<tr><th scope=row>ENSG00000240361</th><td>0.000000</td><td>0.000000</td><td>0.000000</td><td>0.00000</td><td>0.000000</td><td>0.000000</td><td>0.000000</td><td>0.000000</td><td>0.000000</td><td>0.000000</td><td>0.000000</td><td>0.000000</td></tr>\n",
       "</tbody>\n",
       "</table>\n"
      ],
      "text/latex": [
       "A matrix: 6 × 12 of type dbl\n",
       "\\begin{tabular}{r|llllllllllll}\n",
       "  & R-1090\\_ctr & R-1091\\_ctr & R-1092\\_CT913 & R-1093\\_CT913 & R-1094\\_CT\\_M1 & R-1095\\_CT\\_M1 & R-1096+BRCA1\\_ctr & R-1097+BRCA1\\_ctr & R-1098+BRCA1\\_CT913 & R-1099+BRCA1\\_CT913 & R-1100+BRCA1\\_CT\\_M1 & R-1101+BRCA1\\_CT\\_M1\\\\\n",
       "\\hline\n",
       "\tENSG00000223972 & 0.000000 & 0.000000 & 0.000000 & 0.00000 & 0.000000 & 0.000000 & 0.000000 & 0.000000 & 0.000000 & 0.000000 & 0.000000 & 0.000000\\\\\n",
       "\tENSG00000227232 & 2.546357 & 2.929086 & 3.548594 & 3.32791 & 4.164342 & 2.654741 & 2.248305 & 1.767533 & 2.173754 & 3.787985 & 3.437256 & 7.169821\\\\\n",
       "\tENSG00000243485 & 0.000000 & 0.000000 & 0.000000 & 0.00000 & 0.000000 & 0.000000 & 0.000000 & 0.000000 & 0.000000 & 0.000000 & 0.000000 & 0.000000\\\\\n",
       "\tENSG00000237613 & 0.000000 & 0.000000 & 0.000000 & 0.00000 & 0.000000 & 0.000000 & 0.000000 & 0.000000 & 0.000000 & 0.000000 & 0.000000 & 0.000000\\\\\n",
       "\tENSG00000268020 & 0.000000 & 0.000000 & 0.000000 & 0.00000 & 0.000000 & 0.000000 & 0.000000 & 0.000000 & 0.000000 & 0.000000 & 0.000000 & 0.000000\\\\\n",
       "\tENSG00000240361 & 0.000000 & 0.000000 & 0.000000 & 0.00000 & 0.000000 & 0.000000 & 0.000000 & 0.000000 & 0.000000 & 0.000000 & 0.000000 & 0.000000\\\\\n",
       "\\end{tabular}\n"
      ],
      "text/markdown": [
       "\n",
       "A matrix: 6 × 12 of type dbl\n",
       "\n",
       "| <!--/--> | R-1090_ctr | R-1091_ctr | R-1092_CT913 | R-1093_CT913 | R-1094_CT_M1 | R-1095_CT_M1 | R-1096+BRCA1_ctr | R-1097+BRCA1_ctr | R-1098+BRCA1_CT913 | R-1099+BRCA1_CT913 | R-1100+BRCA1_CT_M1 | R-1101+BRCA1_CT_M1 |\n",
       "|---|---|---|---|---|---|---|---|---|---|---|---|---|\n",
       "| ENSG00000223972 | 0.000000 | 0.000000 | 0.000000 | 0.00000 | 0.000000 | 0.000000 | 0.000000 | 0.000000 | 0.000000 | 0.000000 | 0.000000 | 0.000000 |\n",
       "| ENSG00000227232 | 2.546357 | 2.929086 | 3.548594 | 3.32791 | 4.164342 | 2.654741 | 2.248305 | 1.767533 | 2.173754 | 3.787985 | 3.437256 | 7.169821 |\n",
       "| ENSG00000243485 | 0.000000 | 0.000000 | 0.000000 | 0.00000 | 0.000000 | 0.000000 | 0.000000 | 0.000000 | 0.000000 | 0.000000 | 0.000000 | 0.000000 |\n",
       "| ENSG00000237613 | 0.000000 | 0.000000 | 0.000000 | 0.00000 | 0.000000 | 0.000000 | 0.000000 | 0.000000 | 0.000000 | 0.000000 | 0.000000 | 0.000000 |\n",
       "| ENSG00000268020 | 0.000000 | 0.000000 | 0.000000 | 0.00000 | 0.000000 | 0.000000 | 0.000000 | 0.000000 | 0.000000 | 0.000000 | 0.000000 | 0.000000 |\n",
       "| ENSG00000240361 | 0.000000 | 0.000000 | 0.000000 | 0.00000 | 0.000000 | 0.000000 | 0.000000 | 0.000000 | 0.000000 | 0.000000 | 0.000000 | 0.000000 |\n",
       "\n"
      ],
      "text/plain": [
       "                R-1090_ctr R-1091_ctr R-1092_CT913 R-1093_CT913 R-1094_CT_M1\n",
       "ENSG00000223972 0.000000   0.000000   0.000000     0.00000      0.000000    \n",
       "ENSG00000227232 2.546357   2.929086   3.548594     3.32791      4.164342    \n",
       "ENSG00000243485 0.000000   0.000000   0.000000     0.00000      0.000000    \n",
       "ENSG00000237613 0.000000   0.000000   0.000000     0.00000      0.000000    \n",
       "ENSG00000268020 0.000000   0.000000   0.000000     0.00000      0.000000    \n",
       "ENSG00000240361 0.000000   0.000000   0.000000     0.00000      0.000000    \n",
       "                R-1095_CT_M1 R-1096+BRCA1_ctr R-1097+BRCA1_ctr\n",
       "ENSG00000223972 0.000000     0.000000         0.000000        \n",
       "ENSG00000227232 2.654741     2.248305         1.767533        \n",
       "ENSG00000243485 0.000000     0.000000         0.000000        \n",
       "ENSG00000237613 0.000000     0.000000         0.000000        \n",
       "ENSG00000268020 0.000000     0.000000         0.000000        \n",
       "ENSG00000240361 0.000000     0.000000         0.000000        \n",
       "                R-1098+BRCA1_CT913 R-1099+BRCA1_CT913 R-1100+BRCA1_CT_M1\n",
       "ENSG00000223972 0.000000           0.000000           0.000000          \n",
       "ENSG00000227232 2.173754           3.787985           3.437256          \n",
       "ENSG00000243485 0.000000           0.000000           0.000000          \n",
       "ENSG00000237613 0.000000           0.000000           0.000000          \n",
       "ENSG00000268020 0.000000           0.000000           0.000000          \n",
       "ENSG00000240361 0.000000           0.000000           0.000000          \n",
       "                R-1101+BRCA1_CT_M1\n",
       "ENSG00000223972 0.000000          \n",
       "ENSG00000227232 7.169821          \n",
       "ENSG00000243485 0.000000          \n",
       "ENSG00000237613 0.000000          \n",
       "ENSG00000268020 0.000000          \n",
       "ENSG00000240361 0.000000          "
      ]
     },
     "metadata": {},
     "output_type": "display_data"
    },
    {
     "name": "stdout",
     "output_type": "stream",
     "text": [
      "[1] \"rlog data...\"\n",
      "[1] \"done\"\n"
     ]
    },
    {
     "data": {
      "text/html": [
       "<table class=\"dataframe\">\n",
       "<caption>A matrix: 6 × 12 of type dbl</caption>\n",
       "<thead>\n",
       "\t<tr><th></th><th scope=col>R-1090_ctr</th><th scope=col>R-1091_ctr</th><th scope=col>R-1092_CT913</th><th scope=col>R-1093_CT913</th><th scope=col>R-1094_CT_M1</th><th scope=col>R-1095_CT_M1</th><th scope=col>R-1096+BRCA1_ctr</th><th scope=col>R-1097+BRCA1_ctr</th><th scope=col>R-1098+BRCA1_CT913</th><th scope=col>R-1099+BRCA1_CT913</th><th scope=col>R-1100+BRCA1_CT_M1</th><th scope=col>R-1101+BRCA1_CT_M1</th></tr>\n",
       "</thead>\n",
       "<tbody>\n",
       "\t<tr><th scope=row>ENSG00000223972</th><td>1.107309</td><td>1.107309</td><td>1.107309</td><td>1.107309</td><td>1.107309</td><td>1.107309</td><td>1.107309</td><td>1.107309</td><td>1.107309</td><td>1.107309</td><td>1.107309</td><td>1.107309</td></tr>\n",
       "\t<tr><th scope=row>ENSG00000227232</th><td>1.765705</td><td>1.784488</td><td>1.810820</td><td>1.802271</td><td>1.839136</td><td>1.775229</td><td>1.750889</td><td>1.730048</td><td>1.750889</td><td>1.823249</td><td>1.806573</td><td>1.939195</td></tr>\n",
       "\t<tr><th scope=row>ENSG00000243485</th><td>1.107309</td><td>1.107309</td><td>1.107309</td><td>1.107309</td><td>1.107309</td><td>1.107309</td><td>1.107309</td><td>1.107309</td><td>1.107309</td><td>1.107309</td><td>1.107309</td><td>1.107309</td></tr>\n",
       "\t<tr><th scope=row>ENSG00000237613</th><td>1.107309</td><td>1.107309</td><td>1.107309</td><td>1.107309</td><td>1.107309</td><td>1.107309</td><td>1.107309</td><td>1.107309</td><td>1.107309</td><td>1.107309</td><td>1.107309</td><td>1.107309</td></tr>\n",
       "\t<tr><th scope=row>ENSG00000268020</th><td>1.107309</td><td>1.107309</td><td>1.107309</td><td>1.107309</td><td>1.107309</td><td>1.107309</td><td>1.107309</td><td>1.107309</td><td>1.107309</td><td>1.107309</td><td>1.107309</td><td>1.107309</td></tr>\n",
       "\t<tr><th scope=row>ENSG00000240361</th><td>1.107309</td><td>1.107309</td><td>1.107309</td><td>1.107309</td><td>1.107309</td><td>1.107309</td><td>1.107309</td><td>1.107309</td><td>1.107309</td><td>1.107309</td><td>1.107309</td><td>1.107309</td></tr>\n",
       "</tbody>\n",
       "</table>\n"
      ],
      "text/latex": [
       "A matrix: 6 × 12 of type dbl\n",
       "\\begin{tabular}{r|llllllllllll}\n",
       "  & R-1090\\_ctr & R-1091\\_ctr & R-1092\\_CT913 & R-1093\\_CT913 & R-1094\\_CT\\_M1 & R-1095\\_CT\\_M1 & R-1096+BRCA1\\_ctr & R-1097+BRCA1\\_ctr & R-1098+BRCA1\\_CT913 & R-1099+BRCA1\\_CT913 & R-1100+BRCA1\\_CT\\_M1 & R-1101+BRCA1\\_CT\\_M1\\\\\n",
       "\\hline\n",
       "\tENSG00000223972 & 1.107309 & 1.107309 & 1.107309 & 1.107309 & 1.107309 & 1.107309 & 1.107309 & 1.107309 & 1.107309 & 1.107309 & 1.107309 & 1.107309\\\\\n",
       "\tENSG00000227232 & 1.765705 & 1.784488 & 1.810820 & 1.802271 & 1.839136 & 1.775229 & 1.750889 & 1.730048 & 1.750889 & 1.823249 & 1.806573 & 1.939195\\\\\n",
       "\tENSG00000243485 & 1.107309 & 1.107309 & 1.107309 & 1.107309 & 1.107309 & 1.107309 & 1.107309 & 1.107309 & 1.107309 & 1.107309 & 1.107309 & 1.107309\\\\\n",
       "\tENSG00000237613 & 1.107309 & 1.107309 & 1.107309 & 1.107309 & 1.107309 & 1.107309 & 1.107309 & 1.107309 & 1.107309 & 1.107309 & 1.107309 & 1.107309\\\\\n",
       "\tENSG00000268020 & 1.107309 & 1.107309 & 1.107309 & 1.107309 & 1.107309 & 1.107309 & 1.107309 & 1.107309 & 1.107309 & 1.107309 & 1.107309 & 1.107309\\\\\n",
       "\tENSG00000240361 & 1.107309 & 1.107309 & 1.107309 & 1.107309 & 1.107309 & 1.107309 & 1.107309 & 1.107309 & 1.107309 & 1.107309 & 1.107309 & 1.107309\\\\\n",
       "\\end{tabular}\n"
      ],
      "text/markdown": [
       "\n",
       "A matrix: 6 × 12 of type dbl\n",
       "\n",
       "| <!--/--> | R-1090_ctr | R-1091_ctr | R-1092_CT913 | R-1093_CT913 | R-1094_CT_M1 | R-1095_CT_M1 | R-1096+BRCA1_ctr | R-1097+BRCA1_ctr | R-1098+BRCA1_CT913 | R-1099+BRCA1_CT913 | R-1100+BRCA1_CT_M1 | R-1101+BRCA1_CT_M1 |\n",
       "|---|---|---|---|---|---|---|---|---|---|---|---|---|\n",
       "| ENSG00000223972 | 1.107309 | 1.107309 | 1.107309 | 1.107309 | 1.107309 | 1.107309 | 1.107309 | 1.107309 | 1.107309 | 1.107309 | 1.107309 | 1.107309 |\n",
       "| ENSG00000227232 | 1.765705 | 1.784488 | 1.810820 | 1.802271 | 1.839136 | 1.775229 | 1.750889 | 1.730048 | 1.750889 | 1.823249 | 1.806573 | 1.939195 |\n",
       "| ENSG00000243485 | 1.107309 | 1.107309 | 1.107309 | 1.107309 | 1.107309 | 1.107309 | 1.107309 | 1.107309 | 1.107309 | 1.107309 | 1.107309 | 1.107309 |\n",
       "| ENSG00000237613 | 1.107309 | 1.107309 | 1.107309 | 1.107309 | 1.107309 | 1.107309 | 1.107309 | 1.107309 | 1.107309 | 1.107309 | 1.107309 | 1.107309 |\n",
       "| ENSG00000268020 | 1.107309 | 1.107309 | 1.107309 | 1.107309 | 1.107309 | 1.107309 | 1.107309 | 1.107309 | 1.107309 | 1.107309 | 1.107309 | 1.107309 |\n",
       "| ENSG00000240361 | 1.107309 | 1.107309 | 1.107309 | 1.107309 | 1.107309 | 1.107309 | 1.107309 | 1.107309 | 1.107309 | 1.107309 | 1.107309 | 1.107309 |\n",
       "\n"
      ],
      "text/plain": [
       "                R-1090_ctr R-1091_ctr R-1092_CT913 R-1093_CT913 R-1094_CT_M1\n",
       "ENSG00000223972 1.107309   1.107309   1.107309     1.107309     1.107309    \n",
       "ENSG00000227232 1.765705   1.784488   1.810820     1.802271     1.839136    \n",
       "ENSG00000243485 1.107309   1.107309   1.107309     1.107309     1.107309    \n",
       "ENSG00000237613 1.107309   1.107309   1.107309     1.107309     1.107309    \n",
       "ENSG00000268020 1.107309   1.107309   1.107309     1.107309     1.107309    \n",
       "ENSG00000240361 1.107309   1.107309   1.107309     1.107309     1.107309    \n",
       "                R-1095_CT_M1 R-1096+BRCA1_ctr R-1097+BRCA1_ctr\n",
       "ENSG00000223972 1.107309     1.107309         1.107309        \n",
       "ENSG00000227232 1.775229     1.750889         1.730048        \n",
       "ENSG00000243485 1.107309     1.107309         1.107309        \n",
       "ENSG00000237613 1.107309     1.107309         1.107309        \n",
       "ENSG00000268020 1.107309     1.107309         1.107309        \n",
       "ENSG00000240361 1.107309     1.107309         1.107309        \n",
       "                R-1098+BRCA1_CT913 R-1099+BRCA1_CT913 R-1100+BRCA1_CT_M1\n",
       "ENSG00000223972 1.107309           1.107309           1.107309          \n",
       "ENSG00000227232 1.750889           1.823249           1.806573          \n",
       "ENSG00000243485 1.107309           1.107309           1.107309          \n",
       "ENSG00000237613 1.107309           1.107309           1.107309          \n",
       "ENSG00000268020 1.107309           1.107309           1.107309          \n",
       "ENSG00000240361 1.107309           1.107309           1.107309          \n",
       "                R-1101+BRCA1_CT_M1\n",
       "ENSG00000223972 1.107309          \n",
       "ENSG00000227232 1.939195          \n",
       "ENSG00000243485 1.107309          \n",
       "ENSG00000237613 1.107309          \n",
       "ENSG00000268020 1.107309          \n",
       "ENSG00000240361 1.107309          "
      ]
     },
     "metadata": {},
     "output_type": "display_data"
    },
    {
     "data": {
      "text/html": [
       "<table class=\"dataframe\">\n",
       "<caption>A matrix: 6 × 12 of type dbl</caption>\n",
       "<thead>\n",
       "\t<tr><th></th><th scope=col>R-1090_ctr</th><th scope=col>R-1091_ctr</th><th scope=col>R-1092_CT913</th><th scope=col>R-1093_CT913</th><th scope=col>R-1094_CT_M1</th><th scope=col>R-1095_CT_M1</th><th scope=col>R-1096+BRCA1_ctr</th><th scope=col>R-1097+BRCA1_ctr</th><th scope=col>R-1098+BRCA1_CT913</th><th scope=col>R-1099+BRCA1_CT913</th><th scope=col>R-1100+BRCA1_CT_M1</th><th scope=col>R-1101+BRCA1_CT_M1</th></tr>\n",
       "</thead>\n",
       "<tbody>\n",
       "\t<tr><th scope=row>ENSG00000223972</th><td>1.000000</td><td>1.000000</td><td>1.000000</td><td>1.00000</td><td>1.000000</td><td>1.000000</td><td>1.000000</td><td>1.000000</td><td>1.000000</td><td>1.000000</td><td>1.000000</td><td>1.000000</td></tr>\n",
       "\t<tr><th scope=row>ENSG00000227232</th><td>3.546357</td><td>3.929086</td><td>4.548594</td><td>4.32791</td><td>5.164342</td><td>3.654741</td><td>3.248305</td><td>2.767533</td><td>3.173754</td><td>4.787985</td><td>4.437256</td><td>8.169821</td></tr>\n",
       "\t<tr><th scope=row>ENSG00000243485</th><td>1.000000</td><td>1.000000</td><td>1.000000</td><td>1.00000</td><td>1.000000</td><td>1.000000</td><td>1.000000</td><td>1.000000</td><td>1.000000</td><td>1.000000</td><td>1.000000</td><td>1.000000</td></tr>\n",
       "\t<tr><th scope=row>ENSG00000237613</th><td>1.000000</td><td>1.000000</td><td>1.000000</td><td>1.00000</td><td>1.000000</td><td>1.000000</td><td>1.000000</td><td>1.000000</td><td>1.000000</td><td>1.000000</td><td>1.000000</td><td>1.000000</td></tr>\n",
       "\t<tr><th scope=row>ENSG00000268020</th><td>1.000000</td><td>1.000000</td><td>1.000000</td><td>1.00000</td><td>1.000000</td><td>1.000000</td><td>1.000000</td><td>1.000000</td><td>1.000000</td><td>1.000000</td><td>1.000000</td><td>1.000000</td></tr>\n",
       "\t<tr><th scope=row>ENSG00000240361</th><td>1.000000</td><td>1.000000</td><td>1.000000</td><td>1.00000</td><td>1.000000</td><td>1.000000</td><td>1.000000</td><td>1.000000</td><td>1.000000</td><td>1.000000</td><td>1.000000</td><td>1.000000</td></tr>\n",
       "</tbody>\n",
       "</table>\n"
      ],
      "text/latex": [
       "A matrix: 6 × 12 of type dbl\n",
       "\\begin{tabular}{r|llllllllllll}\n",
       "  & R-1090\\_ctr & R-1091\\_ctr & R-1092\\_CT913 & R-1093\\_CT913 & R-1094\\_CT\\_M1 & R-1095\\_CT\\_M1 & R-1096+BRCA1\\_ctr & R-1097+BRCA1\\_ctr & R-1098+BRCA1\\_CT913 & R-1099+BRCA1\\_CT913 & R-1100+BRCA1\\_CT\\_M1 & R-1101+BRCA1\\_CT\\_M1\\\\\n",
       "\\hline\n",
       "\tENSG00000223972 & 1.000000 & 1.000000 & 1.000000 & 1.00000 & 1.000000 & 1.000000 & 1.000000 & 1.000000 & 1.000000 & 1.000000 & 1.000000 & 1.000000\\\\\n",
       "\tENSG00000227232 & 3.546357 & 3.929086 & 4.548594 & 4.32791 & 5.164342 & 3.654741 & 3.248305 & 2.767533 & 3.173754 & 4.787985 & 4.437256 & 8.169821\\\\\n",
       "\tENSG00000243485 & 1.000000 & 1.000000 & 1.000000 & 1.00000 & 1.000000 & 1.000000 & 1.000000 & 1.000000 & 1.000000 & 1.000000 & 1.000000 & 1.000000\\\\\n",
       "\tENSG00000237613 & 1.000000 & 1.000000 & 1.000000 & 1.00000 & 1.000000 & 1.000000 & 1.000000 & 1.000000 & 1.000000 & 1.000000 & 1.000000 & 1.000000\\\\\n",
       "\tENSG00000268020 & 1.000000 & 1.000000 & 1.000000 & 1.00000 & 1.000000 & 1.000000 & 1.000000 & 1.000000 & 1.000000 & 1.000000 & 1.000000 & 1.000000\\\\\n",
       "\tENSG00000240361 & 1.000000 & 1.000000 & 1.000000 & 1.00000 & 1.000000 & 1.000000 & 1.000000 & 1.000000 & 1.000000 & 1.000000 & 1.000000 & 1.000000\\\\\n",
       "\\end{tabular}\n"
      ],
      "text/markdown": [
       "\n",
       "A matrix: 6 × 12 of type dbl\n",
       "\n",
       "| <!--/--> | R-1090_ctr | R-1091_ctr | R-1092_CT913 | R-1093_CT913 | R-1094_CT_M1 | R-1095_CT_M1 | R-1096+BRCA1_ctr | R-1097+BRCA1_ctr | R-1098+BRCA1_CT913 | R-1099+BRCA1_CT913 | R-1100+BRCA1_CT_M1 | R-1101+BRCA1_CT_M1 |\n",
       "|---|---|---|---|---|---|---|---|---|---|---|---|---|\n",
       "| ENSG00000223972 | 1.000000 | 1.000000 | 1.000000 | 1.00000 | 1.000000 | 1.000000 | 1.000000 | 1.000000 | 1.000000 | 1.000000 | 1.000000 | 1.000000 |\n",
       "| ENSG00000227232 | 3.546357 | 3.929086 | 4.548594 | 4.32791 | 5.164342 | 3.654741 | 3.248305 | 2.767533 | 3.173754 | 4.787985 | 4.437256 | 8.169821 |\n",
       "| ENSG00000243485 | 1.000000 | 1.000000 | 1.000000 | 1.00000 | 1.000000 | 1.000000 | 1.000000 | 1.000000 | 1.000000 | 1.000000 | 1.000000 | 1.000000 |\n",
       "| ENSG00000237613 | 1.000000 | 1.000000 | 1.000000 | 1.00000 | 1.000000 | 1.000000 | 1.000000 | 1.000000 | 1.000000 | 1.000000 | 1.000000 | 1.000000 |\n",
       "| ENSG00000268020 | 1.000000 | 1.000000 | 1.000000 | 1.00000 | 1.000000 | 1.000000 | 1.000000 | 1.000000 | 1.000000 | 1.000000 | 1.000000 | 1.000000 |\n",
       "| ENSG00000240361 | 1.000000 | 1.000000 | 1.000000 | 1.00000 | 1.000000 | 1.000000 | 1.000000 | 1.000000 | 1.000000 | 1.000000 | 1.000000 | 1.000000 |\n",
       "\n"
      ],
      "text/plain": [
       "                R-1090_ctr R-1091_ctr R-1092_CT913 R-1093_CT913 R-1094_CT_M1\n",
       "ENSG00000223972 1.000000   1.000000   1.000000     1.00000      1.000000    \n",
       "ENSG00000227232 3.546357   3.929086   4.548594     4.32791      5.164342    \n",
       "ENSG00000243485 1.000000   1.000000   1.000000     1.00000      1.000000    \n",
       "ENSG00000237613 1.000000   1.000000   1.000000     1.00000      1.000000    \n",
       "ENSG00000268020 1.000000   1.000000   1.000000     1.00000      1.000000    \n",
       "ENSG00000240361 1.000000   1.000000   1.000000     1.00000      1.000000    \n",
       "                R-1095_CT_M1 R-1096+BRCA1_ctr R-1097+BRCA1_ctr\n",
       "ENSG00000223972 1.000000     1.000000         1.000000        \n",
       "ENSG00000227232 3.654741     3.248305         2.767533        \n",
       "ENSG00000243485 1.000000     1.000000         1.000000        \n",
       "ENSG00000237613 1.000000     1.000000         1.000000        \n",
       "ENSG00000268020 1.000000     1.000000         1.000000        \n",
       "ENSG00000240361 1.000000     1.000000         1.000000        \n",
       "                R-1098+BRCA1_CT913 R-1099+BRCA1_CT913 R-1100+BRCA1_CT_M1\n",
       "ENSG00000223972 1.000000           1.000000           1.000000          \n",
       "ENSG00000227232 3.173754           4.787985           4.437256          \n",
       "ENSG00000243485 1.000000           1.000000           1.000000          \n",
       "ENSG00000237613 1.000000           1.000000           1.000000          \n",
       "ENSG00000268020 1.000000           1.000000           1.000000          \n",
       "ENSG00000240361 1.000000           1.000000           1.000000          \n",
       "                R-1101+BRCA1_CT_M1\n",
       "ENSG00000223972 1.000000          \n",
       "ENSG00000227232 8.169821          \n",
       "ENSG00000243485 1.000000          \n",
       "ENSG00000237613 1.000000          \n",
       "ENSG00000268020 1.000000          \n",
       "ENSG00000240361 1.000000          "
      ]
     },
     "metadata": {},
     "output_type": "display_data"
    },
    {
     "data": {
      "text/html": [
       "<style>\n",
       ".list-inline {list-style: none; margin:0; padding: 0}\n",
       ".list-inline>li {display: inline-block}\n",
       ".list-inline>li:not(:last-child)::after {content: \"\\00b7\"; padding: 0 .5ex}\n",
       "</style>\n",
       "<ol class=list-inline><li>57952</li><li>12</li></ol>\n"
      ],
      "text/latex": [
       "\\begin{enumerate*}\n",
       "\\item 57952\n",
       "\\item 12\n",
       "\\end{enumerate*}\n"
      ],
      "text/markdown": [
       "1. 57952\n",
       "2. 12\n",
       "\n",
       "\n"
      ],
      "text/plain": [
       "[1] 57952    12"
      ]
     },
     "metadata": {},
     "output_type": "display_data"
    },
    {
     "data": {
      "text/html": [
       "<style>\n",
       ".list-inline {list-style: none; margin:0; padding: 0}\n",
       ".list-inline>li {display: inline-block}\n",
       ".list-inline>li:not(:last-child)::after {content: \"\\00b7\"; padding: 0 .5ex}\n",
       "</style>\n",
       "<ol class=list-inline><li>57952</li><li>12</li></ol>\n"
      ],
      "text/latex": [
       "\\begin{enumerate*}\n",
       "\\item 57952\n",
       "\\item 12\n",
       "\\end{enumerate*}\n"
      ],
      "text/markdown": [
       "1. 57952\n",
       "2. 12\n",
       "\n",
       "\n"
      ],
      "text/plain": [
       "[1] 57952    12"
      ]
     },
     "metadata": {},
     "output_type": "display_data"
    },
    {
     "name": "stdout",
     "output_type": "stream",
     "text": [
      "stop10\n"
     ]
    },
    {
     "data": {
      "text/html": [
       "<table class=\"dataframe\">\n",
       "<caption>A matrix: 6 × 12 of type int</caption>\n",
       "<thead>\n",
       "\t<tr><th></th><th scope=col>R-1090_ctr</th><th scope=col>R-1091_ctr</th><th scope=col>R-1092_CT913</th><th scope=col>R-1093_CT913</th><th scope=col>R-1094_CT_M1</th><th scope=col>R-1095_CT_M1</th><th scope=col>R-1096+BRCA1_ctr</th><th scope=col>R-1097+BRCA1_ctr</th><th scope=col>R-1098+BRCA1_CT913</th><th scope=col>R-1099+BRCA1_CT913</th><th scope=col>R-1100+BRCA1_CT_M1</th><th scope=col>R-1101+BRCA1_CT_M1</th></tr>\n",
       "</thead>\n",
       "<tbody>\n",
       "\t<tr><th scope=row>ENSG00000223972</th><td> 0</td><td> 0</td><td> 0</td><td> 0</td><td> 0</td><td> 0</td><td> 0</td><td>0</td><td> 0</td><td> 0</td><td> 0</td><td> 0</td></tr>\n",
       "\t<tr><th scope=row>ENSG00000227232</th><td>14</td><td>15</td><td>20</td><td>13</td><td>32</td><td>11</td><td>12</td><td>8</td><td>11</td><td>16</td><td>16</td><td>73</td></tr>\n",
       "\t<tr><th scope=row>ENSG00000243485</th><td> 0</td><td> 0</td><td> 0</td><td> 0</td><td> 0</td><td> 0</td><td> 0</td><td>0</td><td> 0</td><td> 0</td><td> 0</td><td> 0</td></tr>\n",
       "\t<tr><th scope=row>ENSG00000237613</th><td> 0</td><td> 0</td><td> 0</td><td> 0</td><td> 0</td><td> 0</td><td> 0</td><td>0</td><td> 0</td><td> 0</td><td> 0</td><td> 0</td></tr>\n",
       "\t<tr><th scope=row>ENSG00000268020</th><td> 0</td><td> 0</td><td> 0</td><td> 0</td><td> 0</td><td> 0</td><td> 0</td><td>0</td><td> 0</td><td> 0</td><td> 0</td><td> 0</td></tr>\n",
       "\t<tr><th scope=row>ENSG00000240361</th><td> 0</td><td> 0</td><td> 0</td><td> 0</td><td> 0</td><td> 0</td><td> 0</td><td>0</td><td> 0</td><td> 0</td><td> 0</td><td> 0</td></tr>\n",
       "</tbody>\n",
       "</table>\n"
      ],
      "text/latex": [
       "A matrix: 6 × 12 of type int\n",
       "\\begin{tabular}{r|llllllllllll}\n",
       "  & R-1090\\_ctr & R-1091\\_ctr & R-1092\\_CT913 & R-1093\\_CT913 & R-1094\\_CT\\_M1 & R-1095\\_CT\\_M1 & R-1096+BRCA1\\_ctr & R-1097+BRCA1\\_ctr & R-1098+BRCA1\\_CT913 & R-1099+BRCA1\\_CT913 & R-1100+BRCA1\\_CT\\_M1 & R-1101+BRCA1\\_CT\\_M1\\\\\n",
       "\\hline\n",
       "\tENSG00000223972 &  0 &  0 &  0 &  0 &  0 &  0 &  0 & 0 &  0 &  0 &  0 &  0\\\\\n",
       "\tENSG00000227232 & 14 & 15 & 20 & 13 & 32 & 11 & 12 & 8 & 11 & 16 & 16 & 73\\\\\n",
       "\tENSG00000243485 &  0 &  0 &  0 &  0 &  0 &  0 &  0 & 0 &  0 &  0 &  0 &  0\\\\\n",
       "\tENSG00000237613 &  0 &  0 &  0 &  0 &  0 &  0 &  0 & 0 &  0 &  0 &  0 &  0\\\\\n",
       "\tENSG00000268020 &  0 &  0 &  0 &  0 &  0 &  0 &  0 & 0 &  0 &  0 &  0 &  0\\\\\n",
       "\tENSG00000240361 &  0 &  0 &  0 &  0 &  0 &  0 &  0 & 0 &  0 &  0 &  0 &  0\\\\\n",
       "\\end{tabular}\n"
      ],
      "text/markdown": [
       "\n",
       "A matrix: 6 × 12 of type int\n",
       "\n",
       "| <!--/--> | R-1090_ctr | R-1091_ctr | R-1092_CT913 | R-1093_CT913 | R-1094_CT_M1 | R-1095_CT_M1 | R-1096+BRCA1_ctr | R-1097+BRCA1_ctr | R-1098+BRCA1_CT913 | R-1099+BRCA1_CT913 | R-1100+BRCA1_CT_M1 | R-1101+BRCA1_CT_M1 |\n",
       "|---|---|---|---|---|---|---|---|---|---|---|---|---|\n",
       "| ENSG00000223972 |  0 |  0 |  0 |  0 |  0 |  0 |  0 | 0 |  0 |  0 |  0 |  0 |\n",
       "| ENSG00000227232 | 14 | 15 | 20 | 13 | 32 | 11 | 12 | 8 | 11 | 16 | 16 | 73 |\n",
       "| ENSG00000243485 |  0 |  0 |  0 |  0 |  0 |  0 |  0 | 0 |  0 |  0 |  0 |  0 |\n",
       "| ENSG00000237613 |  0 |  0 |  0 |  0 |  0 |  0 |  0 | 0 |  0 |  0 |  0 |  0 |\n",
       "| ENSG00000268020 |  0 |  0 |  0 |  0 |  0 |  0 |  0 | 0 |  0 |  0 |  0 |  0 |\n",
       "| ENSG00000240361 |  0 |  0 |  0 |  0 |  0 |  0 |  0 | 0 |  0 |  0 |  0 |  0 |\n",
       "\n"
      ],
      "text/plain": [
       "                R-1090_ctr R-1091_ctr R-1092_CT913 R-1093_CT913 R-1094_CT_M1\n",
       "ENSG00000223972  0          0          0            0            0          \n",
       "ENSG00000227232 14         15         20           13           32          \n",
       "ENSG00000243485  0          0          0            0            0          \n",
       "ENSG00000237613  0          0          0            0            0          \n",
       "ENSG00000268020  0          0          0            0            0          \n",
       "ENSG00000240361  0          0          0            0            0          \n",
       "                R-1095_CT_M1 R-1096+BRCA1_ctr R-1097+BRCA1_ctr\n",
       "ENSG00000223972  0            0               0               \n",
       "ENSG00000227232 11           12               8               \n",
       "ENSG00000243485  0            0               0               \n",
       "ENSG00000237613  0            0               0               \n",
       "ENSG00000268020  0            0               0               \n",
       "ENSG00000240361  0            0               0               \n",
       "                R-1098+BRCA1_CT913 R-1099+BRCA1_CT913 R-1100+BRCA1_CT_M1\n",
       "ENSG00000223972  0                  0                  0                \n",
       "ENSG00000227232 11                 16                 16                \n",
       "ENSG00000243485  0                  0                  0                \n",
       "ENSG00000237613  0                  0                  0                \n",
       "ENSG00000268020  0                  0                  0                \n",
       "ENSG00000240361  0                  0                  0                \n",
       "                R-1101+BRCA1_CT_M1\n",
       "ENSG00000223972  0                \n",
       "ENSG00000227232 73                \n",
       "ENSG00000243485  0                \n",
       "ENSG00000237613  0                \n",
       "ENSG00000268020  0                \n",
       "ENSG00000240361  0                "
      ]
     },
     "metadata": {},
     "output_type": "display_data"
    },
    {
     "data": {
      "text/html": [
       "TRUE"
      ],
      "text/latex": [
       "TRUE"
      ],
      "text/markdown": [
       "TRUE"
      ],
      "text/plain": [
       "[1] TRUE"
      ]
     },
     "metadata": {},
     "output_type": "display_data"
    },
    {
     "data": {
      "text/html": [
       "<table class=\"dataframe\">\n",
       "<caption>A matrix: 6 × 12 of type dbl</caption>\n",
       "<thead>\n",
       "\t<tr><th></th><th scope=col>R-1090_ctr</th><th scope=col>R-1091_ctr</th><th scope=col>R-1092_CT913</th><th scope=col>R-1093_CT913</th><th scope=col>R-1094_CT_M1</th><th scope=col>R-1095_CT_M1</th><th scope=col>R-1096+BRCA1_ctr</th><th scope=col>R-1097+BRCA1_ctr</th><th scope=col>R-1098+BRCA1_CT913</th><th scope=col>R-1099+BRCA1_CT913</th><th scope=col>R-1100+BRCA1_CT_M1</th><th scope=col>R-1101+BRCA1_CT_M1</th></tr>\n",
       "</thead>\n",
       "<tbody>\n",
       "\t<tr><th scope=row>ENSG00000223972</th><td>1.107309</td><td>1.107309</td><td>1.107309</td><td>1.107309</td><td>1.107309</td><td>1.107309</td><td>1.107309</td><td>1.107309</td><td>1.107309</td><td>1.107309</td><td>1.107309</td><td>1.107309</td></tr>\n",
       "\t<tr><th scope=row>ENSG00000227232</th><td>1.765705</td><td>1.784488</td><td>1.810820</td><td>1.802271</td><td>1.839136</td><td>1.775229</td><td>1.750889</td><td>1.730048</td><td>1.750889</td><td>1.823249</td><td>1.806573</td><td>1.939195</td></tr>\n",
       "\t<tr><th scope=row>ENSG00000243485</th><td>1.107309</td><td>1.107309</td><td>1.107309</td><td>1.107309</td><td>1.107309</td><td>1.107309</td><td>1.107309</td><td>1.107309</td><td>1.107309</td><td>1.107309</td><td>1.107309</td><td>1.107309</td></tr>\n",
       "\t<tr><th scope=row>ENSG00000237613</th><td>1.107309</td><td>1.107309</td><td>1.107309</td><td>1.107309</td><td>1.107309</td><td>1.107309</td><td>1.107309</td><td>1.107309</td><td>1.107309</td><td>1.107309</td><td>1.107309</td><td>1.107309</td></tr>\n",
       "\t<tr><th scope=row>ENSG00000268020</th><td>1.107309</td><td>1.107309</td><td>1.107309</td><td>1.107309</td><td>1.107309</td><td>1.107309</td><td>1.107309</td><td>1.107309</td><td>1.107309</td><td>1.107309</td><td>1.107309</td><td>1.107309</td></tr>\n",
       "\t<tr><th scope=row>ENSG00000240361</th><td>1.107309</td><td>1.107309</td><td>1.107309</td><td>1.107309</td><td>1.107309</td><td>1.107309</td><td>1.107309</td><td>1.107309</td><td>1.107309</td><td>1.107309</td><td>1.107309</td><td>1.107309</td></tr>\n",
       "</tbody>\n",
       "</table>\n"
      ],
      "text/latex": [
       "A matrix: 6 × 12 of type dbl\n",
       "\\begin{tabular}{r|llllllllllll}\n",
       "  & R-1090\\_ctr & R-1091\\_ctr & R-1092\\_CT913 & R-1093\\_CT913 & R-1094\\_CT\\_M1 & R-1095\\_CT\\_M1 & R-1096+BRCA1\\_ctr & R-1097+BRCA1\\_ctr & R-1098+BRCA1\\_CT913 & R-1099+BRCA1\\_CT913 & R-1100+BRCA1\\_CT\\_M1 & R-1101+BRCA1\\_CT\\_M1\\\\\n",
       "\\hline\n",
       "\tENSG00000223972 & 1.107309 & 1.107309 & 1.107309 & 1.107309 & 1.107309 & 1.107309 & 1.107309 & 1.107309 & 1.107309 & 1.107309 & 1.107309 & 1.107309\\\\\n",
       "\tENSG00000227232 & 1.765705 & 1.784488 & 1.810820 & 1.802271 & 1.839136 & 1.775229 & 1.750889 & 1.730048 & 1.750889 & 1.823249 & 1.806573 & 1.939195\\\\\n",
       "\tENSG00000243485 & 1.107309 & 1.107309 & 1.107309 & 1.107309 & 1.107309 & 1.107309 & 1.107309 & 1.107309 & 1.107309 & 1.107309 & 1.107309 & 1.107309\\\\\n",
       "\tENSG00000237613 & 1.107309 & 1.107309 & 1.107309 & 1.107309 & 1.107309 & 1.107309 & 1.107309 & 1.107309 & 1.107309 & 1.107309 & 1.107309 & 1.107309\\\\\n",
       "\tENSG00000268020 & 1.107309 & 1.107309 & 1.107309 & 1.107309 & 1.107309 & 1.107309 & 1.107309 & 1.107309 & 1.107309 & 1.107309 & 1.107309 & 1.107309\\\\\n",
       "\tENSG00000240361 & 1.107309 & 1.107309 & 1.107309 & 1.107309 & 1.107309 & 1.107309 & 1.107309 & 1.107309 & 1.107309 & 1.107309 & 1.107309 & 1.107309\\\\\n",
       "\\end{tabular}\n"
      ],
      "text/markdown": [
       "\n",
       "A matrix: 6 × 12 of type dbl\n",
       "\n",
       "| <!--/--> | R-1090_ctr | R-1091_ctr | R-1092_CT913 | R-1093_CT913 | R-1094_CT_M1 | R-1095_CT_M1 | R-1096+BRCA1_ctr | R-1097+BRCA1_ctr | R-1098+BRCA1_CT913 | R-1099+BRCA1_CT913 | R-1100+BRCA1_CT_M1 | R-1101+BRCA1_CT_M1 |\n",
       "|---|---|---|---|---|---|---|---|---|---|---|---|---|\n",
       "| ENSG00000223972 | 1.107309 | 1.107309 | 1.107309 | 1.107309 | 1.107309 | 1.107309 | 1.107309 | 1.107309 | 1.107309 | 1.107309 | 1.107309 | 1.107309 |\n",
       "| ENSG00000227232 | 1.765705 | 1.784488 | 1.810820 | 1.802271 | 1.839136 | 1.775229 | 1.750889 | 1.730048 | 1.750889 | 1.823249 | 1.806573 | 1.939195 |\n",
       "| ENSG00000243485 | 1.107309 | 1.107309 | 1.107309 | 1.107309 | 1.107309 | 1.107309 | 1.107309 | 1.107309 | 1.107309 | 1.107309 | 1.107309 | 1.107309 |\n",
       "| ENSG00000237613 | 1.107309 | 1.107309 | 1.107309 | 1.107309 | 1.107309 | 1.107309 | 1.107309 | 1.107309 | 1.107309 | 1.107309 | 1.107309 | 1.107309 |\n",
       "| ENSG00000268020 | 1.107309 | 1.107309 | 1.107309 | 1.107309 | 1.107309 | 1.107309 | 1.107309 | 1.107309 | 1.107309 | 1.107309 | 1.107309 | 1.107309 |\n",
       "| ENSG00000240361 | 1.107309 | 1.107309 | 1.107309 | 1.107309 | 1.107309 | 1.107309 | 1.107309 | 1.107309 | 1.107309 | 1.107309 | 1.107309 | 1.107309 |\n",
       "\n"
      ],
      "text/plain": [
       "                R-1090_ctr R-1091_ctr R-1092_CT913 R-1093_CT913 R-1094_CT_M1\n",
       "ENSG00000223972 1.107309   1.107309   1.107309     1.107309     1.107309    \n",
       "ENSG00000227232 1.765705   1.784488   1.810820     1.802271     1.839136    \n",
       "ENSG00000243485 1.107309   1.107309   1.107309     1.107309     1.107309    \n",
       "ENSG00000237613 1.107309   1.107309   1.107309     1.107309     1.107309    \n",
       "ENSG00000268020 1.107309   1.107309   1.107309     1.107309     1.107309    \n",
       "ENSG00000240361 1.107309   1.107309   1.107309     1.107309     1.107309    \n",
       "                R-1095_CT_M1 R-1096+BRCA1_ctr R-1097+BRCA1_ctr\n",
       "ENSG00000223972 1.107309     1.107309         1.107309        \n",
       "ENSG00000227232 1.775229     1.750889         1.730048        \n",
       "ENSG00000243485 1.107309     1.107309         1.107309        \n",
       "ENSG00000237613 1.107309     1.107309         1.107309        \n",
       "ENSG00000268020 1.107309     1.107309         1.107309        \n",
       "ENSG00000240361 1.107309     1.107309         1.107309        \n",
       "                R-1098+BRCA1_CT913 R-1099+BRCA1_CT913 R-1100+BRCA1_CT_M1\n",
       "ENSG00000223972 1.107309           1.107309           1.107309          \n",
       "ENSG00000227232 1.750889           1.823249           1.806573          \n",
       "ENSG00000243485 1.107309           1.107309           1.107309          \n",
       "ENSG00000237613 1.107309           1.107309           1.107309          \n",
       "ENSG00000268020 1.107309           1.107309           1.107309          \n",
       "ENSG00000240361 1.107309           1.107309           1.107309          \n",
       "                R-1101+BRCA1_CT_M1\n",
       "ENSG00000223972 1.107309          \n",
       "ENSG00000227232 1.939195          \n",
       "ENSG00000243485 1.107309          \n",
       "ENSG00000237613 1.107309          \n",
       "ENSG00000268020 1.107309          \n",
       "ENSG00000240361 1.107309          "
      ]
     },
     "metadata": {},
     "output_type": "display_data"
    },
    {
     "data": {
      "text/html": [
       "<table class=\"dataframe\">\n",
       "<caption>A matrix: 6 × 12 of type int</caption>\n",
       "<thead>\n",
       "\t<tr><th></th><th scope=col>R-1090_ctr</th><th scope=col>R-1091_ctr</th><th scope=col>R-1092_CT913</th><th scope=col>R-1093_CT913</th><th scope=col>R-1094_CT_M1</th><th scope=col>R-1095_CT_M1</th><th scope=col>R-1096+BRCA1_ctr</th><th scope=col>R-1097+BRCA1_ctr</th><th scope=col>R-1098+BRCA1_CT913</th><th scope=col>R-1099+BRCA1_CT913</th><th scope=col>R-1100+BRCA1_CT_M1</th><th scope=col>R-1101+BRCA1_CT_M1</th></tr>\n",
       "</thead>\n",
       "<tbody>\n",
       "\t<tr><th scope=row>ENSG00000223972</th><td> 0</td><td> 0</td><td> 0</td><td> 0</td><td> 0</td><td> 0</td><td> 0</td><td>0</td><td> 0</td><td> 0</td><td> 0</td><td> 0</td></tr>\n",
       "\t<tr><th scope=row>ENSG00000227232</th><td>14</td><td>15</td><td>20</td><td>13</td><td>32</td><td>11</td><td>12</td><td>8</td><td>11</td><td>16</td><td>16</td><td>73</td></tr>\n",
       "\t<tr><th scope=row>ENSG00000243485</th><td> 0</td><td> 0</td><td> 0</td><td> 0</td><td> 0</td><td> 0</td><td> 0</td><td>0</td><td> 0</td><td> 0</td><td> 0</td><td> 0</td></tr>\n",
       "\t<tr><th scope=row>ENSG00000237613</th><td> 0</td><td> 0</td><td> 0</td><td> 0</td><td> 0</td><td> 0</td><td> 0</td><td>0</td><td> 0</td><td> 0</td><td> 0</td><td> 0</td></tr>\n",
       "\t<tr><th scope=row>ENSG00000268020</th><td> 0</td><td> 0</td><td> 0</td><td> 0</td><td> 0</td><td> 0</td><td> 0</td><td>0</td><td> 0</td><td> 0</td><td> 0</td><td> 0</td></tr>\n",
       "\t<tr><th scope=row>ENSG00000240361</th><td> 0</td><td> 0</td><td> 0</td><td> 0</td><td> 0</td><td> 0</td><td> 0</td><td>0</td><td> 0</td><td> 0</td><td> 0</td><td> 0</td></tr>\n",
       "</tbody>\n",
       "</table>\n"
      ],
      "text/latex": [
       "A matrix: 6 × 12 of type int\n",
       "\\begin{tabular}{r|llllllllllll}\n",
       "  & R-1090\\_ctr & R-1091\\_ctr & R-1092\\_CT913 & R-1093\\_CT913 & R-1094\\_CT\\_M1 & R-1095\\_CT\\_M1 & R-1096+BRCA1\\_ctr & R-1097+BRCA1\\_ctr & R-1098+BRCA1\\_CT913 & R-1099+BRCA1\\_CT913 & R-1100+BRCA1\\_CT\\_M1 & R-1101+BRCA1\\_CT\\_M1\\\\\n",
       "\\hline\n",
       "\tENSG00000223972 &  0 &  0 &  0 &  0 &  0 &  0 &  0 & 0 &  0 &  0 &  0 &  0\\\\\n",
       "\tENSG00000227232 & 14 & 15 & 20 & 13 & 32 & 11 & 12 & 8 & 11 & 16 & 16 & 73\\\\\n",
       "\tENSG00000243485 &  0 &  0 &  0 &  0 &  0 &  0 &  0 & 0 &  0 &  0 &  0 &  0\\\\\n",
       "\tENSG00000237613 &  0 &  0 &  0 &  0 &  0 &  0 &  0 & 0 &  0 &  0 &  0 &  0\\\\\n",
       "\tENSG00000268020 &  0 &  0 &  0 &  0 &  0 &  0 &  0 & 0 &  0 &  0 &  0 &  0\\\\\n",
       "\tENSG00000240361 &  0 &  0 &  0 &  0 &  0 &  0 &  0 & 0 &  0 &  0 &  0 &  0\\\\\n",
       "\\end{tabular}\n"
      ],
      "text/markdown": [
       "\n",
       "A matrix: 6 × 12 of type int\n",
       "\n",
       "| <!--/--> | R-1090_ctr | R-1091_ctr | R-1092_CT913 | R-1093_CT913 | R-1094_CT_M1 | R-1095_CT_M1 | R-1096+BRCA1_ctr | R-1097+BRCA1_ctr | R-1098+BRCA1_CT913 | R-1099+BRCA1_CT913 | R-1100+BRCA1_CT_M1 | R-1101+BRCA1_CT_M1 |\n",
       "|---|---|---|---|---|---|---|---|---|---|---|---|---|\n",
       "| ENSG00000223972 |  0 |  0 |  0 |  0 |  0 |  0 |  0 | 0 |  0 |  0 |  0 |  0 |\n",
       "| ENSG00000227232 | 14 | 15 | 20 | 13 | 32 | 11 | 12 | 8 | 11 | 16 | 16 | 73 |\n",
       "| ENSG00000243485 |  0 |  0 |  0 |  0 |  0 |  0 |  0 | 0 |  0 |  0 |  0 |  0 |\n",
       "| ENSG00000237613 |  0 |  0 |  0 |  0 |  0 |  0 |  0 | 0 |  0 |  0 |  0 |  0 |\n",
       "| ENSG00000268020 |  0 |  0 |  0 |  0 |  0 |  0 |  0 | 0 |  0 |  0 |  0 |  0 |\n",
       "| ENSG00000240361 |  0 |  0 |  0 |  0 |  0 |  0 |  0 | 0 |  0 |  0 |  0 |  0 |\n",
       "\n"
      ],
      "text/plain": [
       "                R-1090_ctr R-1091_ctr R-1092_CT913 R-1093_CT913 R-1094_CT_M1\n",
       "ENSG00000223972  0          0          0            0            0          \n",
       "ENSG00000227232 14         15         20           13           32          \n",
       "ENSG00000243485  0          0          0            0            0          \n",
       "ENSG00000237613  0          0          0            0            0          \n",
       "ENSG00000268020  0          0          0            0            0          \n",
       "ENSG00000240361  0          0          0            0            0          \n",
       "                R-1095_CT_M1 R-1096+BRCA1_ctr R-1097+BRCA1_ctr\n",
       "ENSG00000223972  0            0               0               \n",
       "ENSG00000227232 11           12               8               \n",
       "ENSG00000243485  0            0               0               \n",
       "ENSG00000237613  0            0               0               \n",
       "ENSG00000268020  0            0               0               \n",
       "ENSG00000240361  0            0               0               \n",
       "                R-1098+BRCA1_CT913 R-1099+BRCA1_CT913 R-1100+BRCA1_CT_M1\n",
       "ENSG00000223972  0                  0                  0                \n",
       "ENSG00000227232 11                 16                 16                \n",
       "ENSG00000243485  0                  0                  0                \n",
       "ENSG00000237613  0                  0                  0                \n",
       "ENSG00000268020  0                  0                  0                \n",
       "ENSG00000240361  0                  0                  0                \n",
       "                R-1101+BRCA1_CT_M1\n",
       "ENSG00000223972  0                \n",
       "ENSG00000227232 73                \n",
       "ENSG00000243485  0                \n",
       "ENSG00000237613  0                \n",
       "ENSG00000268020  0                \n",
       "ENSG00000240361  0                "
      ]
     },
     "metadata": {},
     "output_type": "display_data"
    },
    {
     "data": {
      "text/html": [
       "<style>\n",
       ".list-inline {list-style: none; margin:0; padding: 0}\n",
       ".list-inline>li {display: inline-block}\n",
       ".list-inline>li:not(:last-child)::after {content: \"\\00b7\"; padding: 0 .5ex}\n",
       "</style>\n",
       "<ol class=list-inline><li>'ENSG00000223972'</li><li>'ENSG00000227232'</li><li>'ENSG00000243485'</li><li>'ENSG00000237613'</li><li>'ENSG00000268020'</li><li>'ENSG00000240361'</li></ol>\n"
      ],
      "text/latex": [
       "\\begin{enumerate*}\n",
       "\\item 'ENSG00000223972'\n",
       "\\item 'ENSG00000227232'\n",
       "\\item 'ENSG00000243485'\n",
       "\\item 'ENSG00000237613'\n",
       "\\item 'ENSG00000268020'\n",
       "\\item 'ENSG00000240361'\n",
       "\\end{enumerate*}\n"
      ],
      "text/markdown": [
       "1. 'ENSG00000223972'\n",
       "2. 'ENSG00000227232'\n",
       "3. 'ENSG00000243485'\n",
       "4. 'ENSG00000237613'\n",
       "5. 'ENSG00000268020'\n",
       "6. 'ENSG00000240361'\n",
       "\n",
       "\n"
      ],
      "text/plain": [
       "[1] \"ENSG00000223972\" \"ENSG00000227232\" \"ENSG00000243485\" \"ENSG00000237613\"\n",
       "[5] \"ENSG00000268020\" \"ENSG00000240361\""
      ]
     },
     "metadata": {},
     "output_type": "display_data"
    },
    {
     "name": "stdout",
     "output_type": "stream",
     "text": [
      "stop11\n"
     ]
    }
   ],
   "source": [
    "head(TPMs)\n",
    "colnames(TPMs) <- as.character(colnames(TPMs))\n",
    "print(\"rlog data...\")\n",
    "# TPMsRlog <- round(TPMs)\n",
    "# must be converted to integer first\n",
    "TPMs[,names(totalReads)] <- TPMs[,names(totalReads)] + 1\n",
    "if (reUseRlog!=\"y\") {\n",
    "  #TPMsRlog <- varianceStabilizingTransformation(round(as.matrix(TPMs[,names(totalReads)]) *10))/3\n",
    "  TPMsRlog <- rlog(round(as.matrix(TPMs[,names(totalReads)]) *10))/3\n",
    "  save(TPMsRlog,file = rlogFile)\n",
    "}\n",
    "print(\"done\")\n",
    "head(TPMsRlog)\n",
    "head(TPMs)\n",
    "dim(TPMsRlog); dim(TPMs)\n",
    "head(counts)\n",
    "all(rownames(TPMs) == rownames(counts))\n",
    "rownames(TPMsRlog) <- rownames(counts)\n",
    "head(TPMsRlog)"
   ]
  },
  {
   "cell_type": "markdown",
   "id": "183be33a",
   "metadata": {},
   "source": [
    "#### make data.frame for exporting"
   ]
  },
  {
   "cell_type": "code",
   "execution_count": 33,
   "id": "02baf4a0",
   "metadata": {
    "scrolled": true
   },
   "outputs": [
    {
     "data": {
      "text/html": [
       "<table class=\"dataframe\">\n",
       "<caption>A data.frame: 6 × 12</caption>\n",
       "<thead>\n",
       "\t<tr><th></th><th scope=col>R-1090_ctr</th><th scope=col>R-1091_ctr</th><th scope=col>R-1092_CT913</th><th scope=col>R-1093_CT913</th><th scope=col>R-1094_CT_M1</th><th scope=col>R-1095_CT_M1</th><th scope=col>R-1096+BRCA1_ctr</th><th scope=col>R-1097+BRCA1_ctr</th><th scope=col>R-1098+BRCA1_CT913</th><th scope=col>R-1099+BRCA1_CT913</th><th scope=col>R-1100+BRCA1_CT_M1</th><th scope=col>R-1101+BRCA1_CT_M1</th></tr>\n",
       "\t<tr><th></th><th scope=col>&lt;dbl&gt;</th><th scope=col>&lt;dbl&gt;</th><th scope=col>&lt;dbl&gt;</th><th scope=col>&lt;dbl&gt;</th><th scope=col>&lt;dbl&gt;</th><th scope=col>&lt;dbl&gt;</th><th scope=col>&lt;dbl&gt;</th><th scope=col>&lt;dbl&gt;</th><th scope=col>&lt;dbl&gt;</th><th scope=col>&lt;dbl&gt;</th><th scope=col>&lt;dbl&gt;</th><th scope=col>&lt;dbl&gt;</th></tr>\n",
       "</thead>\n",
       "<tbody>\n",
       "\t<tr><th scope=row>ENSG00000223972</th><td>1.107309</td><td>1.107309</td><td>1.107309</td><td>1.107309</td><td>1.107309</td><td>1.107309</td><td>1.107309</td><td>1.107309</td><td>1.107309</td><td>1.107309</td><td>1.107309</td><td>1.107309</td></tr>\n",
       "\t<tr><th scope=row>ENSG00000227232</th><td>1.765705</td><td>1.784488</td><td>1.810820</td><td>1.802271</td><td>1.839136</td><td>1.775229</td><td>1.750889</td><td>1.730048</td><td>1.750889</td><td>1.823249</td><td>1.806573</td><td>1.939195</td></tr>\n",
       "\t<tr><th scope=row>ENSG00000243485</th><td>1.107309</td><td>1.107309</td><td>1.107309</td><td>1.107309</td><td>1.107309</td><td>1.107309</td><td>1.107309</td><td>1.107309</td><td>1.107309</td><td>1.107309</td><td>1.107309</td><td>1.107309</td></tr>\n",
       "\t<tr><th scope=row>ENSG00000237613</th><td>1.107309</td><td>1.107309</td><td>1.107309</td><td>1.107309</td><td>1.107309</td><td>1.107309</td><td>1.107309</td><td>1.107309</td><td>1.107309</td><td>1.107309</td><td>1.107309</td><td>1.107309</td></tr>\n",
       "\t<tr><th scope=row>ENSG00000268020</th><td>1.107309</td><td>1.107309</td><td>1.107309</td><td>1.107309</td><td>1.107309</td><td>1.107309</td><td>1.107309</td><td>1.107309</td><td>1.107309</td><td>1.107309</td><td>1.107309</td><td>1.107309</td></tr>\n",
       "\t<tr><th scope=row>ENSG00000240361</th><td>1.107309</td><td>1.107309</td><td>1.107309</td><td>1.107309</td><td>1.107309</td><td>1.107309</td><td>1.107309</td><td>1.107309</td><td>1.107309</td><td>1.107309</td><td>1.107309</td><td>1.107309</td></tr>\n",
       "</tbody>\n",
       "</table>\n"
      ],
      "text/latex": [
       "A data.frame: 6 × 12\n",
       "\\begin{tabular}{r|llllllllllll}\n",
       "  & R-1090\\_ctr & R-1091\\_ctr & R-1092\\_CT913 & R-1093\\_CT913 & R-1094\\_CT\\_M1 & R-1095\\_CT\\_M1 & R-1096+BRCA1\\_ctr & R-1097+BRCA1\\_ctr & R-1098+BRCA1\\_CT913 & R-1099+BRCA1\\_CT913 & R-1100+BRCA1\\_CT\\_M1 & R-1101+BRCA1\\_CT\\_M1\\\\\n",
       "  & <dbl> & <dbl> & <dbl> & <dbl> & <dbl> & <dbl> & <dbl> & <dbl> & <dbl> & <dbl> & <dbl> & <dbl>\\\\\n",
       "\\hline\n",
       "\tENSG00000223972 & 1.107309 & 1.107309 & 1.107309 & 1.107309 & 1.107309 & 1.107309 & 1.107309 & 1.107309 & 1.107309 & 1.107309 & 1.107309 & 1.107309\\\\\n",
       "\tENSG00000227232 & 1.765705 & 1.784488 & 1.810820 & 1.802271 & 1.839136 & 1.775229 & 1.750889 & 1.730048 & 1.750889 & 1.823249 & 1.806573 & 1.939195\\\\\n",
       "\tENSG00000243485 & 1.107309 & 1.107309 & 1.107309 & 1.107309 & 1.107309 & 1.107309 & 1.107309 & 1.107309 & 1.107309 & 1.107309 & 1.107309 & 1.107309\\\\\n",
       "\tENSG00000237613 & 1.107309 & 1.107309 & 1.107309 & 1.107309 & 1.107309 & 1.107309 & 1.107309 & 1.107309 & 1.107309 & 1.107309 & 1.107309 & 1.107309\\\\\n",
       "\tENSG00000268020 & 1.107309 & 1.107309 & 1.107309 & 1.107309 & 1.107309 & 1.107309 & 1.107309 & 1.107309 & 1.107309 & 1.107309 & 1.107309 & 1.107309\\\\\n",
       "\tENSG00000240361 & 1.107309 & 1.107309 & 1.107309 & 1.107309 & 1.107309 & 1.107309 & 1.107309 & 1.107309 & 1.107309 & 1.107309 & 1.107309 & 1.107309\\\\\n",
       "\\end{tabular}\n"
      ],
      "text/markdown": [
       "\n",
       "A data.frame: 6 × 12\n",
       "\n",
       "| <!--/--> | R-1090_ctr &lt;dbl&gt; | R-1091_ctr &lt;dbl&gt; | R-1092_CT913 &lt;dbl&gt; | R-1093_CT913 &lt;dbl&gt; | R-1094_CT_M1 &lt;dbl&gt; | R-1095_CT_M1 &lt;dbl&gt; | R-1096+BRCA1_ctr &lt;dbl&gt; | R-1097+BRCA1_ctr &lt;dbl&gt; | R-1098+BRCA1_CT913 &lt;dbl&gt; | R-1099+BRCA1_CT913 &lt;dbl&gt; | R-1100+BRCA1_CT_M1 &lt;dbl&gt; | R-1101+BRCA1_CT_M1 &lt;dbl&gt; |\n",
       "|---|---|---|---|---|---|---|---|---|---|---|---|---|\n",
       "| ENSG00000223972 | 1.107309 | 1.107309 | 1.107309 | 1.107309 | 1.107309 | 1.107309 | 1.107309 | 1.107309 | 1.107309 | 1.107309 | 1.107309 | 1.107309 |\n",
       "| ENSG00000227232 | 1.765705 | 1.784488 | 1.810820 | 1.802271 | 1.839136 | 1.775229 | 1.750889 | 1.730048 | 1.750889 | 1.823249 | 1.806573 | 1.939195 |\n",
       "| ENSG00000243485 | 1.107309 | 1.107309 | 1.107309 | 1.107309 | 1.107309 | 1.107309 | 1.107309 | 1.107309 | 1.107309 | 1.107309 | 1.107309 | 1.107309 |\n",
       "| ENSG00000237613 | 1.107309 | 1.107309 | 1.107309 | 1.107309 | 1.107309 | 1.107309 | 1.107309 | 1.107309 | 1.107309 | 1.107309 | 1.107309 | 1.107309 |\n",
       "| ENSG00000268020 | 1.107309 | 1.107309 | 1.107309 | 1.107309 | 1.107309 | 1.107309 | 1.107309 | 1.107309 | 1.107309 | 1.107309 | 1.107309 | 1.107309 |\n",
       "| ENSG00000240361 | 1.107309 | 1.107309 | 1.107309 | 1.107309 | 1.107309 | 1.107309 | 1.107309 | 1.107309 | 1.107309 | 1.107309 | 1.107309 | 1.107309 |\n",
       "\n"
      ],
      "text/plain": [
       "                R-1090_ctr R-1091_ctr R-1092_CT913 R-1093_CT913 R-1094_CT_M1\n",
       "ENSG00000223972 1.107309   1.107309   1.107309     1.107309     1.107309    \n",
       "ENSG00000227232 1.765705   1.784488   1.810820     1.802271     1.839136    \n",
       "ENSG00000243485 1.107309   1.107309   1.107309     1.107309     1.107309    \n",
       "ENSG00000237613 1.107309   1.107309   1.107309     1.107309     1.107309    \n",
       "ENSG00000268020 1.107309   1.107309   1.107309     1.107309     1.107309    \n",
       "ENSG00000240361 1.107309   1.107309   1.107309     1.107309     1.107309    \n",
       "                R-1095_CT_M1 R-1096+BRCA1_ctr R-1097+BRCA1_ctr\n",
       "ENSG00000223972 1.107309     1.107309         1.107309        \n",
       "ENSG00000227232 1.775229     1.750889         1.730048        \n",
       "ENSG00000243485 1.107309     1.107309         1.107309        \n",
       "ENSG00000237613 1.107309     1.107309         1.107309        \n",
       "ENSG00000268020 1.107309     1.107309         1.107309        \n",
       "ENSG00000240361 1.107309     1.107309         1.107309        \n",
       "                R-1098+BRCA1_CT913 R-1099+BRCA1_CT913 R-1100+BRCA1_CT_M1\n",
       "ENSG00000223972 1.107309           1.107309           1.107309          \n",
       "ENSG00000227232 1.750889           1.823249           1.806573          \n",
       "ENSG00000243485 1.107309           1.107309           1.107309          \n",
       "ENSG00000237613 1.107309           1.107309           1.107309          \n",
       "ENSG00000268020 1.107309           1.107309           1.107309          \n",
       "ENSG00000240361 1.107309           1.107309           1.107309          \n",
       "                R-1101+BRCA1_CT_M1\n",
       "ENSG00000223972 1.107309          \n",
       "ENSG00000227232 1.939195          \n",
       "ENSG00000243485 1.107309          \n",
       "ENSG00000237613 1.107309          \n",
       "ENSG00000268020 1.107309          \n",
       "ENSG00000240361 1.107309          "
      ]
     },
     "metadata": {},
     "output_type": "display_data"
    },
    {
     "data": {
      "text/html": [
       "<table class=\"dataframe\">\n",
       "<caption>A data.frame: 6 × 4</caption>\n",
       "<thead>\n",
       "\t<tr><th></th><th scope=col>ensgID</th><th scope=col>symbol</th><th scope=col>description</th><th scope=col>geneType</th></tr>\n",
       "\t<tr><th></th><th scope=col>&lt;chr&gt;</th><th scope=col>&lt;chr&gt;</th><th scope=col>&lt;chr&gt;</th><th scope=col>&lt;chr&gt;</th></tr>\n",
       "</thead>\n",
       "<tbody>\n",
       "\t<tr><th scope=row>ENSG00000271782</th><td>ENSG00000271782</td><td>RP5-850O15.4</td><td>                                      </td><td>lincRNA  </td></tr>\n",
       "\t<tr><th scope=row>ENSG00000232753</th><td>ENSG00000232753</td><td>RP11-347K2.1</td><td>                                      </td><td>lincRNA  </td></tr>\n",
       "\t<tr><th scope=row>ENSG00000225767</th><td>ENSG00000225767</td><td>RP5-850O15.3</td><td>                                      </td><td>antisense</td></tr>\n",
       "\t<tr><th scope=row>ENSG00000202140</th><td>ENSG00000202140</td><td>Y_RNA       </td><td>Y RNA                                 </td><td>misc_RNA </td></tr>\n",
       "\t<tr><th scope=row>ENSG00000207194</th><td>ENSG00000207194</td><td>RNU6-1026P  </td><td>RNA, U6 small nuclear 1026, pseudogene</td><td>snRNA    </td></tr>\n",
       "\t<tr><th scope=row>ENSG00000252825</th><td>ENSG00000252825</td><td>RNU6-1253P  </td><td>RNA, U6 small nuclear 1253, pseudogene</td><td>snRNA    </td></tr>\n",
       "</tbody>\n",
       "</table>\n"
      ],
      "text/latex": [
       "A data.frame: 6 × 4\n",
       "\\begin{tabular}{r|llll}\n",
       "  & ensgID & symbol & description & geneType\\\\\n",
       "  & <chr> & <chr> & <chr> & <chr>\\\\\n",
       "\\hline\n",
       "\tENSG00000271782 & ENSG00000271782 & RP5-850O15.4 &                                        & lincRNA  \\\\\n",
       "\tENSG00000232753 & ENSG00000232753 & RP11-347K2.1 &                                        & lincRNA  \\\\\n",
       "\tENSG00000225767 & ENSG00000225767 & RP5-850O15.3 &                                        & antisense\\\\\n",
       "\tENSG00000202140 & ENSG00000202140 & Y\\_RNA        & Y RNA                                  & misc\\_RNA \\\\\n",
       "\tENSG00000207194 & ENSG00000207194 & RNU6-1026P   & RNA, U6 small nuclear 1026, pseudogene & snRNA    \\\\\n",
       "\tENSG00000252825 & ENSG00000252825 & RNU6-1253P   & RNA, U6 small nuclear 1253, pseudogene & snRNA    \\\\\n",
       "\\end{tabular}\n"
      ],
      "text/markdown": [
       "\n",
       "A data.frame: 6 × 4\n",
       "\n",
       "| <!--/--> | ensgID &lt;chr&gt; | symbol &lt;chr&gt; | description &lt;chr&gt; | geneType &lt;chr&gt; |\n",
       "|---|---|---|---|---|\n",
       "| ENSG00000271782 | ENSG00000271782 | RP5-850O15.4 | <!----> | lincRNA   |\n",
       "| ENSG00000232753 | ENSG00000232753 | RP11-347K2.1 | <!----> | lincRNA   |\n",
       "| ENSG00000225767 | ENSG00000225767 | RP5-850O15.3 | <!----> | antisense |\n",
       "| ENSG00000202140 | ENSG00000202140 | Y_RNA        | Y RNA                                  | misc_RNA  |\n",
       "| ENSG00000207194 | ENSG00000207194 | RNU6-1026P   | RNA, U6 small nuclear 1026, pseudogene | snRNA     |\n",
       "| ENSG00000252825 | ENSG00000252825 | RNU6-1253P   | RNA, U6 small nuclear 1253, pseudogene | snRNA     |\n",
       "\n"
      ],
      "text/plain": [
       "                ensgID          symbol      \n",
       "ENSG00000271782 ENSG00000271782 RP5-850O15.4\n",
       "ENSG00000232753 ENSG00000232753 RP11-347K2.1\n",
       "ENSG00000225767 ENSG00000225767 RP5-850O15.3\n",
       "ENSG00000202140 ENSG00000202140 Y_RNA       \n",
       "ENSG00000207194 ENSG00000207194 RNU6-1026P  \n",
       "ENSG00000252825 ENSG00000252825 RNU6-1253P  \n",
       "                description                            geneType \n",
       "ENSG00000271782                                        lincRNA  \n",
       "ENSG00000232753                                        lincRNA  \n",
       "ENSG00000225767                                        antisense\n",
       "ENSG00000202140 Y RNA                                  misc_RNA \n",
       "ENSG00000207194 RNA, U6 small nuclear 1026, pseudogene snRNA    \n",
       "ENSG00000252825 RNA, U6 small nuclear 1253, pseudogene snRNA    "
      ]
     },
     "metadata": {},
     "output_type": "display_data"
    },
    {
     "name": "stdout",
     "output_type": "stream",
     "text": [
      "[1] \"tpms:\"\n"
     ]
    },
    {
     "data": {
      "text/html": [
       "<style>\n",
       ".list-inline {list-style: none; margin:0; padding: 0}\n",
       ".list-inline>li {display: inline-block}\n",
       ".list-inline>li:not(:last-child)::after {content: \"\\00b7\"; padding: 0 .5ex}\n",
       "</style>\n",
       "<ol class=list-inline><li>57952</li><li>16</li></ol>\n"
      ],
      "text/latex": [
       "\\begin{enumerate*}\n",
       "\\item 57952\n",
       "\\item 16\n",
       "\\end{enumerate*}\n"
      ],
      "text/markdown": [
       "1. 57952\n",
       "2. 16\n",
       "\n",
       "\n"
      ],
      "text/plain": [
       "[1] 57952    16"
      ]
     },
     "metadata": {},
     "output_type": "display_data"
    },
    {
     "data": {
      "text/html": [
       "<table class=\"dataframe\">\n",
       "<caption>A data.frame: 6 × 16</caption>\n",
       "<thead>\n",
       "\t<tr><th></th><th scope=col>EnsgID</th><th scope=col>symbol</th><th scope=col>geneType</th><th scope=col>descr</th><th scope=col>R-1090_ctr</th><th scope=col>R-1091_ctr</th><th scope=col>R-1092_CT913</th><th scope=col>R-1093_CT913</th><th scope=col>R-1094_CT_M1</th><th scope=col>R-1095_CT_M1</th><th scope=col>R-1096+BRCA1_ctr</th><th scope=col>R-1097+BRCA1_ctr</th><th scope=col>R-1098+BRCA1_CT913</th><th scope=col>R-1099+BRCA1_CT913</th><th scope=col>R-1100+BRCA1_CT_M1</th><th scope=col>R-1101+BRCA1_CT_M1</th></tr>\n",
       "\t<tr><th></th><th scope=col>&lt;chr&gt;</th><th scope=col>&lt;chr&gt;</th><th scope=col>&lt;chr&gt;</th><th scope=col>&lt;chr&gt;</th><th scope=col>&lt;dbl&gt;</th><th scope=col>&lt;dbl&gt;</th><th scope=col>&lt;dbl&gt;</th><th scope=col>&lt;dbl&gt;</th><th scope=col>&lt;dbl&gt;</th><th scope=col>&lt;dbl&gt;</th><th scope=col>&lt;dbl&gt;</th><th scope=col>&lt;dbl&gt;</th><th scope=col>&lt;dbl&gt;</th><th scope=col>&lt;dbl&gt;</th><th scope=col>&lt;dbl&gt;</th><th scope=col>&lt;dbl&gt;</th></tr>\n",
       "</thead>\n",
       "<tbody>\n",
       "\t<tr><th scope=row>ENSG00000223972</th><td>ENSG00000223972</td><td>DDX11L1   </td><td>pseudogene</td><td>DEAD/H (Asp-Glu-Ala-Asp/His) box helicase 11 like 1            </td><td>1.107309</td><td>1.107309</td><td>1.107309</td><td>1.107309</td><td>1.107309</td><td>1.107309</td><td>1.107309</td><td>1.107309</td><td>1.107309</td><td>1.107309</td><td>1.107309</td><td>1.107309</td></tr>\n",
       "\t<tr><th scope=row>ENSG00000227232</th><td>ENSG00000227232</td><td>WASH7P    </td><td>pseudogene</td><td>WAS protein family homolog 7 pseudogene                        </td><td>1.765705</td><td>1.784488</td><td>1.810820</td><td>1.802271</td><td>1.839136</td><td>1.775229</td><td>1.750889</td><td>1.730048</td><td>1.750889</td><td>1.823249</td><td>1.806573</td><td>1.939195</td></tr>\n",
       "\t<tr><th scope=row>ENSG00000243485</th><td>ENSG00000243485</td><td>MIR1302-10</td><td>lincRNA   </td><td>microRNA 1302-10                                               </td><td>1.107309</td><td>1.107309</td><td>1.107309</td><td>1.107309</td><td>1.107309</td><td>1.107309</td><td>1.107309</td><td>1.107309</td><td>1.107309</td><td>1.107309</td><td>1.107309</td><td>1.107309</td></tr>\n",
       "\t<tr><th scope=row>ENSG00000237613</th><td>ENSG00000237613</td><td>FAM138A   </td><td>lincRNA   </td><td>family with sequence similarity 138, member A                  </td><td>1.107309</td><td>1.107309</td><td>1.107309</td><td>1.107309</td><td>1.107309</td><td>1.107309</td><td>1.107309</td><td>1.107309</td><td>1.107309</td><td>1.107309</td><td>1.107309</td><td>1.107309</td></tr>\n",
       "\t<tr><th scope=row>ENSG00000268020</th><td>ENSG00000268020</td><td>OR4G4P    </td><td>pseudogene</td><td>olfactory receptor, family 4, subfamily G, member 4 pseudogene </td><td>1.107309</td><td>1.107309</td><td>1.107309</td><td>1.107309</td><td>1.107309</td><td>1.107309</td><td>1.107309</td><td>1.107309</td><td>1.107309</td><td>1.107309</td><td>1.107309</td><td>1.107309</td></tr>\n",
       "\t<tr><th scope=row>ENSG00000240361</th><td>ENSG00000240361</td><td>OR4G11P   </td><td>pseudogene</td><td>olfactory receptor, family 4, subfamily G, member 11 pseudogene</td><td>1.107309</td><td>1.107309</td><td>1.107309</td><td>1.107309</td><td>1.107309</td><td>1.107309</td><td>1.107309</td><td>1.107309</td><td>1.107309</td><td>1.107309</td><td>1.107309</td><td>1.107309</td></tr>\n",
       "</tbody>\n",
       "</table>\n"
      ],
      "text/latex": [
       "A data.frame: 6 × 16\n",
       "\\begin{tabular}{r|llllllllllllllll}\n",
       "  & EnsgID & symbol & geneType & descr & R-1090\\_ctr & R-1091\\_ctr & R-1092\\_CT913 & R-1093\\_CT913 & R-1094\\_CT\\_M1 & R-1095\\_CT\\_M1 & R-1096+BRCA1\\_ctr & R-1097+BRCA1\\_ctr & R-1098+BRCA1\\_CT913 & R-1099+BRCA1\\_CT913 & R-1100+BRCA1\\_CT\\_M1 & R-1101+BRCA1\\_CT\\_M1\\\\\n",
       "  & <chr> & <chr> & <chr> & <chr> & <dbl> & <dbl> & <dbl> & <dbl> & <dbl> & <dbl> & <dbl> & <dbl> & <dbl> & <dbl> & <dbl> & <dbl>\\\\\n",
       "\\hline\n",
       "\tENSG00000223972 & ENSG00000223972 & DDX11L1    & pseudogene & DEAD/H (Asp-Glu-Ala-Asp/His) box helicase 11 like 1             & 1.107309 & 1.107309 & 1.107309 & 1.107309 & 1.107309 & 1.107309 & 1.107309 & 1.107309 & 1.107309 & 1.107309 & 1.107309 & 1.107309\\\\\n",
       "\tENSG00000227232 & ENSG00000227232 & WASH7P     & pseudogene & WAS protein family homolog 7 pseudogene                         & 1.765705 & 1.784488 & 1.810820 & 1.802271 & 1.839136 & 1.775229 & 1.750889 & 1.730048 & 1.750889 & 1.823249 & 1.806573 & 1.939195\\\\\n",
       "\tENSG00000243485 & ENSG00000243485 & MIR1302-10 & lincRNA    & microRNA 1302-10                                                & 1.107309 & 1.107309 & 1.107309 & 1.107309 & 1.107309 & 1.107309 & 1.107309 & 1.107309 & 1.107309 & 1.107309 & 1.107309 & 1.107309\\\\\n",
       "\tENSG00000237613 & ENSG00000237613 & FAM138A    & lincRNA    & family with sequence similarity 138, member A                   & 1.107309 & 1.107309 & 1.107309 & 1.107309 & 1.107309 & 1.107309 & 1.107309 & 1.107309 & 1.107309 & 1.107309 & 1.107309 & 1.107309\\\\\n",
       "\tENSG00000268020 & ENSG00000268020 & OR4G4P     & pseudogene & olfactory receptor, family 4, subfamily G, member 4 pseudogene  & 1.107309 & 1.107309 & 1.107309 & 1.107309 & 1.107309 & 1.107309 & 1.107309 & 1.107309 & 1.107309 & 1.107309 & 1.107309 & 1.107309\\\\\n",
       "\tENSG00000240361 & ENSG00000240361 & OR4G11P    & pseudogene & olfactory receptor, family 4, subfamily G, member 11 pseudogene & 1.107309 & 1.107309 & 1.107309 & 1.107309 & 1.107309 & 1.107309 & 1.107309 & 1.107309 & 1.107309 & 1.107309 & 1.107309 & 1.107309\\\\\n",
       "\\end{tabular}\n"
      ],
      "text/markdown": [
       "\n",
       "A data.frame: 6 × 16\n",
       "\n",
       "| <!--/--> | EnsgID &lt;chr&gt; | symbol &lt;chr&gt; | geneType &lt;chr&gt; | descr &lt;chr&gt; | R-1090_ctr &lt;dbl&gt; | R-1091_ctr &lt;dbl&gt; | R-1092_CT913 &lt;dbl&gt; | R-1093_CT913 &lt;dbl&gt; | R-1094_CT_M1 &lt;dbl&gt; | R-1095_CT_M1 &lt;dbl&gt; | R-1096+BRCA1_ctr &lt;dbl&gt; | R-1097+BRCA1_ctr &lt;dbl&gt; | R-1098+BRCA1_CT913 &lt;dbl&gt; | R-1099+BRCA1_CT913 &lt;dbl&gt; | R-1100+BRCA1_CT_M1 &lt;dbl&gt; | R-1101+BRCA1_CT_M1 &lt;dbl&gt; |\n",
       "|---|---|---|---|---|---|---|---|---|---|---|---|---|---|---|---|---|\n",
       "| ENSG00000223972 | ENSG00000223972 | DDX11L1    | pseudogene | DEAD/H (Asp-Glu-Ala-Asp/His) box helicase 11 like 1             | 1.107309 | 1.107309 | 1.107309 | 1.107309 | 1.107309 | 1.107309 | 1.107309 | 1.107309 | 1.107309 | 1.107309 | 1.107309 | 1.107309 |\n",
       "| ENSG00000227232 | ENSG00000227232 | WASH7P     | pseudogene | WAS protein family homolog 7 pseudogene                         | 1.765705 | 1.784488 | 1.810820 | 1.802271 | 1.839136 | 1.775229 | 1.750889 | 1.730048 | 1.750889 | 1.823249 | 1.806573 | 1.939195 |\n",
       "| ENSG00000243485 | ENSG00000243485 | MIR1302-10 | lincRNA    | microRNA 1302-10                                                | 1.107309 | 1.107309 | 1.107309 | 1.107309 | 1.107309 | 1.107309 | 1.107309 | 1.107309 | 1.107309 | 1.107309 | 1.107309 | 1.107309 |\n",
       "| ENSG00000237613 | ENSG00000237613 | FAM138A    | lincRNA    | family with sequence similarity 138, member A                   | 1.107309 | 1.107309 | 1.107309 | 1.107309 | 1.107309 | 1.107309 | 1.107309 | 1.107309 | 1.107309 | 1.107309 | 1.107309 | 1.107309 |\n",
       "| ENSG00000268020 | ENSG00000268020 | OR4G4P     | pseudogene | olfactory receptor, family 4, subfamily G, member 4 pseudogene  | 1.107309 | 1.107309 | 1.107309 | 1.107309 | 1.107309 | 1.107309 | 1.107309 | 1.107309 | 1.107309 | 1.107309 | 1.107309 | 1.107309 |\n",
       "| ENSG00000240361 | ENSG00000240361 | OR4G11P    | pseudogene | olfactory receptor, family 4, subfamily G, member 11 pseudogene | 1.107309 | 1.107309 | 1.107309 | 1.107309 | 1.107309 | 1.107309 | 1.107309 | 1.107309 | 1.107309 | 1.107309 | 1.107309 | 1.107309 |\n",
       "\n"
      ],
      "text/plain": [
       "                EnsgID          symbol     geneType  \n",
       "ENSG00000223972 ENSG00000223972 DDX11L1    pseudogene\n",
       "ENSG00000227232 ENSG00000227232 WASH7P     pseudogene\n",
       "ENSG00000243485 ENSG00000243485 MIR1302-10 lincRNA   \n",
       "ENSG00000237613 ENSG00000237613 FAM138A    lincRNA   \n",
       "ENSG00000268020 ENSG00000268020 OR4G4P     pseudogene\n",
       "ENSG00000240361 ENSG00000240361 OR4G11P    pseudogene\n",
       "                descr                                                          \n",
       "ENSG00000223972 DEAD/H (Asp-Glu-Ala-Asp/His) box helicase 11 like 1            \n",
       "ENSG00000227232 WAS protein family homolog 7 pseudogene                        \n",
       "ENSG00000243485 microRNA 1302-10                                               \n",
       "ENSG00000237613 family with sequence similarity 138, member A                  \n",
       "ENSG00000268020 olfactory receptor, family 4, subfamily G, member 4 pseudogene \n",
       "ENSG00000240361 olfactory receptor, family 4, subfamily G, member 11 pseudogene\n",
       "                R-1090_ctr R-1091_ctr R-1092_CT913 R-1093_CT913 R-1094_CT_M1\n",
       "ENSG00000223972 1.107309   1.107309   1.107309     1.107309     1.107309    \n",
       "ENSG00000227232 1.765705   1.784488   1.810820     1.802271     1.839136    \n",
       "ENSG00000243485 1.107309   1.107309   1.107309     1.107309     1.107309    \n",
       "ENSG00000237613 1.107309   1.107309   1.107309     1.107309     1.107309    \n",
       "ENSG00000268020 1.107309   1.107309   1.107309     1.107309     1.107309    \n",
       "ENSG00000240361 1.107309   1.107309   1.107309     1.107309     1.107309    \n",
       "                R-1095_CT_M1 R-1096+BRCA1_ctr R-1097+BRCA1_ctr\n",
       "ENSG00000223972 1.107309     1.107309         1.107309        \n",
       "ENSG00000227232 1.775229     1.750889         1.730048        \n",
       "ENSG00000243485 1.107309     1.107309         1.107309        \n",
       "ENSG00000237613 1.107309     1.107309         1.107309        \n",
       "ENSG00000268020 1.107309     1.107309         1.107309        \n",
       "ENSG00000240361 1.107309     1.107309         1.107309        \n",
       "                R-1098+BRCA1_CT913 R-1099+BRCA1_CT913 R-1100+BRCA1_CT_M1\n",
       "ENSG00000223972 1.107309           1.107309           1.107309          \n",
       "ENSG00000227232 1.750889           1.823249           1.806573          \n",
       "ENSG00000243485 1.107309           1.107309           1.107309          \n",
       "ENSG00000237613 1.107309           1.107309           1.107309          \n",
       "ENSG00000268020 1.107309           1.107309           1.107309          \n",
       "ENSG00000240361 1.107309           1.107309           1.107309          \n",
       "                R-1101+BRCA1_CT_M1\n",
       "ENSG00000223972 1.107309          \n",
       "ENSG00000227232 1.939195          \n",
       "ENSG00000243485 1.107309          \n",
       "ENSG00000237613 1.107309          \n",
       "ENSG00000268020 1.107309          \n",
       "ENSG00000240361 1.107309          "
      ]
     },
     "metadata": {},
     "output_type": "display_data"
    },
    {
     "data": {
      "text/html": [
       "<style>\n",
       ".list-inline {list-style: none; margin:0; padding: 0}\n",
       ".list-inline>li {display: inline-block}\n",
       ".list-inline>li:not(:last-child)::after {content: \"\\00b7\"; padding: 0 .5ex}\n",
       "</style>\n",
       "<ol class=list-inline><li>0.007</li><li>0.007</li><li>0.006</li><li>0.006</li><li>0.006</li><li>0.006</li></ol>\n"
      ],
      "text/latex": [
       "\\begin{enumerate*}\n",
       "\\item 0.007\n",
       "\\item 0.007\n",
       "\\item 0.006\n",
       "\\item 0.006\n",
       "\\item 0.006\n",
       "\\item 0.006\n",
       "\\end{enumerate*}\n"
      ],
      "text/markdown": [
       "1. 0.007\n",
       "2. 0.007\n",
       "3. 0.006\n",
       "4. 0.006\n",
       "5. 0.006\n",
       "6. 0.006\n",
       "\n",
       "\n"
      ],
      "text/plain": [
       "[1] 0.007 0.007 0.006 0.006 0.006 0.006"
      ]
     },
     "metadata": {},
     "output_type": "display_data"
    },
    {
     "data": {
      "text/html": [
       "90.4450000000001"
      ],
      "text/latex": [
       "90.4450000000001"
      ],
      "text/markdown": [
       "90.4450000000001"
      ],
      "text/plain": [
       "[1] 90.445"
      ]
     },
     "metadata": {},
     "output_type": "display_data"
    },
    {
     "data": {
      "text/html": [
       "90.4450000000001"
      ],
      "text/latex": [
       "90.4450000000001"
      ],
      "text/markdown": [
       "90.4450000000001"
      ],
      "text/plain": [
       "[1] 90.445"
      ]
     },
     "metadata": {},
     "output_type": "display_data"
    },
    {
     "data": {
      "text/html": [
       "<style>\n",
       ".list-inline {list-style: none; margin:0; padding: 0}\n",
       ".list-inline>li {display: inline-block}\n",
       ".list-inline>li:not(:last-child)::after {content: \"\\00b7\"; padding: 0 .5ex}\n",
       "</style>\n",
       "<ol class=list-inline><li>0.007</li><li>0.007</li><li>0.006</li><li>0.006</li><li>0.006</li><li>0.006</li></ol>\n"
      ],
      "text/latex": [
       "\\begin{enumerate*}\n",
       "\\item 0.007\n",
       "\\item 0.007\n",
       "\\item 0.006\n",
       "\\item 0.006\n",
       "\\item 0.006\n",
       "\\item 0.006\n",
       "\\end{enumerate*}\n"
      ],
      "text/markdown": [
       "1. 0.007\n",
       "2. 0.007\n",
       "3. 0.006\n",
       "4. 0.006\n",
       "5. 0.006\n",
       "6. 0.006\n",
       "\n",
       "\n"
      ],
      "text/plain": [
       "[1] 0.007 0.007 0.006 0.006 0.006 0.006"
      ]
     },
     "metadata": {},
     "output_type": "display_data"
    },
    {
     "data": {
      "text/html": [
       "<style>\n",
       ".dl-inline {width: auto; margin:0; padding: 0}\n",
       ".dl-inline>dt, .dl-inline>dd {float: none; width: auto; display: inline-block}\n",
       ".dl-inline>dt::after {content: \":\\0020\"; padding-right: .5ex}\n",
       ".dl-inline>dt:not(:first-of-type) {padding-left: .5ex}\n",
       "</style><dl class=dl-inline><dt>RP5-850O15.4</dt><dd>'ENSG00000271782'</dd><dt>RP11-347K2.1</dt><dd>'ENSG00000232753'</dd><dt>RP5-850O15.3</dt><dd>'ENSG00000225767'</dd><dt>Y_RNA</dt><dd>'ENSG00000202140'</dd><dt>RNU6-1026P</dt><dd>'ENSG00000207194'</dd><dt>RNU6-1253P</dt><dd>'ENSG00000252825'</dd></dl>\n"
      ],
      "text/latex": [
       "\\begin{description*}\n",
       "\\item[RP5-850O15.4] 'ENSG00000271782'\n",
       "\\item[RP11-347K2.1] 'ENSG00000232753'\n",
       "\\item[RP5-850O15.3] 'ENSG00000225767'\n",
       "\\item[Y\\textbackslash{}\\_RNA] 'ENSG00000202140'\n",
       "\\item[RNU6-1026P] 'ENSG00000207194'\n",
       "\\item[RNU6-1253P] 'ENSG00000252825'\n",
       "\\end{description*}\n"
      ],
      "text/markdown": [
       "RP5-850O15.4\n",
       ":   'ENSG00000271782'RP11-347K2.1\n",
       ":   'ENSG00000232753'RP5-850O15.3\n",
       ":   'ENSG00000225767'Y_RNA\n",
       ":   'ENSG00000202140'RNU6-1026P\n",
       ":   'ENSG00000207194'RNU6-1253P\n",
       ":   'ENSG00000252825'\n",
       "\n"
      ],
      "text/plain": [
       "     RP5-850O15.4      RP11-347K2.1      RP5-850O15.3             Y_RNA \n",
       "\"ENSG00000271782\" \"ENSG00000232753\" \"ENSG00000225767\" \"ENSG00000202140\" \n",
       "       RNU6-1026P        RNU6-1253P \n",
       "\"ENSG00000207194\" \"ENSG00000252825\" "
      ]
     },
     "metadata": {},
     "output_type": "display_data"
    },
    {
     "data": {
      "text/html": [
       "<style>\n",
       ".dl-inline {width: auto; margin:0; padding: 0}\n",
       ".dl-inline>dt, .dl-inline>dd {float: none; width: auto; display: inline-block}\n",
       ".dl-inline>dt::after {content: \":\\0020\"; padding-right: .5ex}\n",
       ".dl-inline>dt:not(:first-of-type) {padding-left: .5ex}\n",
       "</style><dl class=dl-inline><dt>ENSG00000265039</dt><dd>'AC107016.2'</dd><dt>ENSG00000263900</dt><dd>'AC006483.1'</dd><dt>ENSG00000266077</dt><dd>'AC139149.1'</dd><dt>ENSG00000034510</dt><dd>'TMSB10'</dd><dt>ENSG00000156508</dt><dd>'EEF1A1'</dd><dt>ENSG00000087086</dt><dd>'FTL'</dd></dl>\n"
      ],
      "text/latex": [
       "\\begin{description*}\n",
       "\\item[ENSG00000265039] 'AC107016.2'\n",
       "\\item[ENSG00000263900] 'AC006483.1'\n",
       "\\item[ENSG00000266077] 'AC139149.1'\n",
       "\\item[ENSG00000034510] 'TMSB10'\n",
       "\\item[ENSG00000156508] 'EEF1A1'\n",
       "\\item[ENSG00000087086] 'FTL'\n",
       "\\end{description*}\n"
      ],
      "text/markdown": [
       "ENSG00000265039\n",
       ":   'AC107016.2'ENSG00000263900\n",
       ":   'AC006483.1'ENSG00000266077\n",
       ":   'AC139149.1'ENSG00000034510\n",
       ":   'TMSB10'ENSG00000156508\n",
       ":   'EEF1A1'ENSG00000087086\n",
       ":   'FTL'\n",
       "\n"
      ],
      "text/plain": [
       "ENSG00000265039 ENSG00000263900 ENSG00000266077 ENSG00000034510 ENSG00000156508 \n",
       "   \"AC107016.2\"    \"AC006483.1\"    \"AC139149.1\"        \"TMSB10\"        \"EEF1A1\" \n",
       "ENSG00000087086 \n",
       "          \"FTL\" "
      ]
     },
     "metadata": {},
     "output_type": "display_data"
    },
    {
     "name": "stdout",
     "output_type": "stream",
     "text": [
      "stop12\n"
     ]
    }
   ],
   "source": [
    "TPMsRlogDF <- as.data.frame(TPMsRlog)\n",
    "head(TPMsRlogDF)\n",
    "TPMsRlogDF$EnsgID <- rownames(TPMsRlogDF)\n",
    "head(annot)\n",
    "TPMsRlogDF$symbol <- annot[ rownames(TPMsRlogDF) ,]$symbol\n",
    "TPMsRlogDF$geneType <- annot[ rownames(TPMsRlogDF) ,]$geneType\n",
    "TPMsRlogDF$descr <- annot[ rownames(TPMsRlogDF) ,]$description\n",
    "TPMsRlogDF <- TPMsRlogDF[,c((ncol(TPMs)+1):ncol(TPMsRlogDF),1:ncol(TPMs))]\n",
    "print(\"tpms:\")\n",
    "dim(TPMsRlogDF)\n",
    "head(TPMsRlogDF)\n",
    "if(!all(sampleAnnot$ID %in% colnames(TPMsRlogDF))) {\n",
    "    cat(\"not all annot IDs/names are in colnames of TPMsRlogDF\\n\",\n",
    "       paste0(setdiff(sampleAnnot$ID, colnames(TPMsRlogDF)),collapse = \" \"))\n",
    "}\n",
    "TPMsRlogDF$sum <- rowSums(TPMsRlogDF[,sampleAnnot$ID],na.rm = T)\n",
    "TPMsRlogDF$sd <- round(apply(X = TPMsRlogDF[,sampleAnnot$ID],MARGIN = 1, FUN= function(x) sd(x,na.rm = T)),1)\n",
    "TPMsRlogDF <- TPMsRlogDF[order(TPMsRlogDF$sum,decreasing = T),]\n",
    "total <- sum(TPMsRlogDF$sum)\n",
    "TPMsRlogDF$percentOfTotal <- round(TPMsRlogDF$sum/total*100,3)\n",
    "head(TPMsRlogDF$percentOfTotal)\n",
    "sum(TPMsRlogDF$percentOfTotal)\n",
    "colnames(TPMsRlogDF)[which(colnames(TPMsRlogDF)==\"percentOfTotal\")] <- \"% of total\"\n",
    "sum(TPMsRlogDF$\"% of total\")\n",
    "head(TPMsRlogDF$\"% of total\")\n",
    "\n",
    "# ensgID symbol map\n",
    "geneSymbols <- annot[ rownames(TPMsRlogDF) ,]$symbol\n",
    "names(geneSymbols) <- rownames(TPMsRlogDF)\n",
    "ensgIDs <- names(geneSymb)\n",
    "names(ensgIDs) <- geneSymb\n",
    "head(ensgIDs)\n",
    "head(geneSymbols)"
   ]
  },
  {
   "cell_type": "code",
   "execution_count": 34,
   "id": "1a15bc5b",
   "metadata": {},
   "outputs": [
    {
     "name": "stdout",
     "output_type": "stream",
     "text": [
      "groupvar group \n"
     ]
    },
    {
     "name": "stderr",
     "output_type": "stream",
     "text": [
      "Warning message in write.table(x = countsDF[, c(otherColumnNames, sampleIDsGroupOrdered)], :\n",
      "“appending column names to file”\n",
      "Warning message in write.table(x = TPMsDF[, c(otherColumnNames, sampleIDsGroupOrdered)], :\n",
      "“appending column names to file”\n",
      "Warning message in write.table(x = TPMsRlogDF[, c(otherColumnNames, sampleIDsGroupOrdered)], :\n",
      "“appending column names to file”\n"
     ]
    }
   ],
   "source": [
    "if (rpkmOutfile!=\"n\") {\n",
    "    \n",
    "  # order samples by group then sample name:\n",
    "  head(sampleAnnot)\n",
    "  if(length(which(colnames(sampleAnnot)==\"group\"))==1) {\n",
    "    groupVar <- \"group\"\n",
    "  } else {\n",
    "    if(length(which(colnames(sampleAnnot)==\"type\"))==1) {\n",
    "      groupVar <- \"type\"\n",
    "    } else { # take any first var. that matches group/type\n",
    "      groupVar <- grep(\"group|type\",colnames(sampleAnnot), value=T)[1]\n",
    "    }\n",
    "  }\n",
    "  cat(\"groupvar\",groupVar,\"\\n\")\n",
    "  sampleIDsGroupOrder <- order(sampleAnnot[names(totalReads),groupVar], sampleAnnot[names(totalReads),\"ID\"])\n",
    "  sampleIDsGroupOrdered <- names(totalReads)[sampleIDsGroupOrder]\n",
    "  totalReadsDF <- totalReadsDF[sampleIDsGroupOrder,]\n",
    "  otherColumnNames <- setdiff(colnames(countsDF),sampleIDsGroupOrdered)\n",
    "  head(countsDF)\n",
    "  groupAnnotationDF <- as.data.frame(t(c(rep(\"\",length(otherColumnNames)),sampleAnnot[sampleIDsGroupOrdered,groupVar]) ))\n",
    "  colnames(groupAnnotationDF) <- c(otherColumnNames,sampleIDsGroupOrdered)\n",
    "\n",
    "  rpkmOutfileBase <- gsub(\"\\\\.xlsx?\",\"\",rpkmOutfile)\n",
    "\n",
    "  write.table(x = cbind(group=sampleAnnot[sampleIDsGroupOrdered,groupVar],totalReadsDF),\n",
    "              file= paste0(outDir,rpkmOutfileBase,\"-totalReads.csv\"), quote = F,sep = \"\\t\",row.names = F)\n",
    "  \n",
    "  write.table(x = groupAnnotationDF,file = paste0(outDir,rpkmOutfileBase,\"-counts.csv\"),\n",
    "              quote = F,sep = \"\\t\",row.names = F, col.names=F)\n",
    "  write.table(x = countsDF[,c(otherColumnNames,sampleIDsGroupOrdered)],\n",
    "              file = paste0(outDir,rpkmOutfileBase,\"-counts.csv\"),quote = F,sep = \"\\t\",row.names = F,append = T)\n",
    "\n",
    "  write.table(x = groupAnnotationDF,file = paste0(outDir,rpkmOutfileBase,\"-TPMs.csv\"),\n",
    "              quote = F,sep = \"\\t\",row.names = F, col.names=F)\n",
    "  write.table(x = TPMsDF[,c(otherColumnNames,sampleIDsGroupOrdered)],\n",
    "              file = paste0(outDir,rpkmOutfileBase,\"-TPMs.csv\"),quote = F,sep = \"\\t\",row.names = F,append = T)\n",
    "\n",
    "  write.table(x = groupAnnotationDF,file = paste0(outDir,rpkmOutfileBase,\"-rlogTPMs.csv\"),\n",
    "              quote = F,sep = \"\\t\",row.names = F, col.names=F)\n",
    "  write.table(x = TPMsRlogDF[,c(otherColumnNames,sampleIDsGroupOrdered)],\n",
    "              file = paste0(outDir,rpkmOutfileBase,\"-rlogTPMs.csv\"),quote = F,sep = \"\\t\",row.names = F,append = T)\n",
    "}"
   ]
  },
  {
   "cell_type": "code",
   "execution_count": 35,
   "id": "d3115cb0",
   "metadata": {
    "scrolled": true
   },
   "outputs": [
    {
     "data": {
      "text/html": [
       "<table class=\"dataframe\">\n",
       "<caption>A matrix: 6 × 12 of type dbl</caption>\n",
       "<thead>\n",
       "\t<tr><th></th><th scope=col>R-1090_ctr</th><th scope=col>R-1091_ctr</th><th scope=col>R-1092_CT913</th><th scope=col>R-1093_CT913</th><th scope=col>R-1094_CT_M1</th><th scope=col>R-1095_CT_M1</th><th scope=col>R-1096+BRCA1_ctr</th><th scope=col>R-1097+BRCA1_ctr</th><th scope=col>R-1098+BRCA1_CT913</th><th scope=col>R-1099+BRCA1_CT913</th><th scope=col>R-1100+BRCA1_CT_M1</th><th scope=col>R-1101+BRCA1_CT_M1</th></tr>\n",
       "</thead>\n",
       "<tbody>\n",
       "\t<tr><th scope=row>ENSG00000223972</th><td>1.107309</td><td>1.107309</td><td>1.107309</td><td>1.107309</td><td>1.107309</td><td>1.107309</td><td>1.107309</td><td>1.107309</td><td>1.107309</td><td>1.107309</td><td>1.107309</td><td>1.107309</td></tr>\n",
       "\t<tr><th scope=row>ENSG00000227232</th><td>1.765705</td><td>1.784488</td><td>1.810820</td><td>1.802271</td><td>1.839136</td><td>1.775229</td><td>1.750889</td><td>1.730048</td><td>1.750889</td><td>1.823249</td><td>1.806573</td><td>1.939195</td></tr>\n",
       "\t<tr><th scope=row>ENSG00000243485</th><td>1.107309</td><td>1.107309</td><td>1.107309</td><td>1.107309</td><td>1.107309</td><td>1.107309</td><td>1.107309</td><td>1.107309</td><td>1.107309</td><td>1.107309</td><td>1.107309</td><td>1.107309</td></tr>\n",
       "\t<tr><th scope=row>ENSG00000237613</th><td>1.107309</td><td>1.107309</td><td>1.107309</td><td>1.107309</td><td>1.107309</td><td>1.107309</td><td>1.107309</td><td>1.107309</td><td>1.107309</td><td>1.107309</td><td>1.107309</td><td>1.107309</td></tr>\n",
       "\t<tr><th scope=row>ENSG00000268020</th><td>1.107309</td><td>1.107309</td><td>1.107309</td><td>1.107309</td><td>1.107309</td><td>1.107309</td><td>1.107309</td><td>1.107309</td><td>1.107309</td><td>1.107309</td><td>1.107309</td><td>1.107309</td></tr>\n",
       "\t<tr><th scope=row>ENSG00000240361</th><td>1.107309</td><td>1.107309</td><td>1.107309</td><td>1.107309</td><td>1.107309</td><td>1.107309</td><td>1.107309</td><td>1.107309</td><td>1.107309</td><td>1.107309</td><td>1.107309</td><td>1.107309</td></tr>\n",
       "</tbody>\n",
       "</table>\n"
      ],
      "text/latex": [
       "A matrix: 6 × 12 of type dbl\n",
       "\\begin{tabular}{r|llllllllllll}\n",
       "  & R-1090\\_ctr & R-1091\\_ctr & R-1092\\_CT913 & R-1093\\_CT913 & R-1094\\_CT\\_M1 & R-1095\\_CT\\_M1 & R-1096+BRCA1\\_ctr & R-1097+BRCA1\\_ctr & R-1098+BRCA1\\_CT913 & R-1099+BRCA1\\_CT913 & R-1100+BRCA1\\_CT\\_M1 & R-1101+BRCA1\\_CT\\_M1\\\\\n",
       "\\hline\n",
       "\tENSG00000223972 & 1.107309 & 1.107309 & 1.107309 & 1.107309 & 1.107309 & 1.107309 & 1.107309 & 1.107309 & 1.107309 & 1.107309 & 1.107309 & 1.107309\\\\\n",
       "\tENSG00000227232 & 1.765705 & 1.784488 & 1.810820 & 1.802271 & 1.839136 & 1.775229 & 1.750889 & 1.730048 & 1.750889 & 1.823249 & 1.806573 & 1.939195\\\\\n",
       "\tENSG00000243485 & 1.107309 & 1.107309 & 1.107309 & 1.107309 & 1.107309 & 1.107309 & 1.107309 & 1.107309 & 1.107309 & 1.107309 & 1.107309 & 1.107309\\\\\n",
       "\tENSG00000237613 & 1.107309 & 1.107309 & 1.107309 & 1.107309 & 1.107309 & 1.107309 & 1.107309 & 1.107309 & 1.107309 & 1.107309 & 1.107309 & 1.107309\\\\\n",
       "\tENSG00000268020 & 1.107309 & 1.107309 & 1.107309 & 1.107309 & 1.107309 & 1.107309 & 1.107309 & 1.107309 & 1.107309 & 1.107309 & 1.107309 & 1.107309\\\\\n",
       "\tENSG00000240361 & 1.107309 & 1.107309 & 1.107309 & 1.107309 & 1.107309 & 1.107309 & 1.107309 & 1.107309 & 1.107309 & 1.107309 & 1.107309 & 1.107309\\\\\n",
       "\\end{tabular}\n"
      ],
      "text/markdown": [
       "\n",
       "A matrix: 6 × 12 of type dbl\n",
       "\n",
       "| <!--/--> | R-1090_ctr | R-1091_ctr | R-1092_CT913 | R-1093_CT913 | R-1094_CT_M1 | R-1095_CT_M1 | R-1096+BRCA1_ctr | R-1097+BRCA1_ctr | R-1098+BRCA1_CT913 | R-1099+BRCA1_CT913 | R-1100+BRCA1_CT_M1 | R-1101+BRCA1_CT_M1 |\n",
       "|---|---|---|---|---|---|---|---|---|---|---|---|---|\n",
       "| ENSG00000223972 | 1.107309 | 1.107309 | 1.107309 | 1.107309 | 1.107309 | 1.107309 | 1.107309 | 1.107309 | 1.107309 | 1.107309 | 1.107309 | 1.107309 |\n",
       "| ENSG00000227232 | 1.765705 | 1.784488 | 1.810820 | 1.802271 | 1.839136 | 1.775229 | 1.750889 | 1.730048 | 1.750889 | 1.823249 | 1.806573 | 1.939195 |\n",
       "| ENSG00000243485 | 1.107309 | 1.107309 | 1.107309 | 1.107309 | 1.107309 | 1.107309 | 1.107309 | 1.107309 | 1.107309 | 1.107309 | 1.107309 | 1.107309 |\n",
       "| ENSG00000237613 | 1.107309 | 1.107309 | 1.107309 | 1.107309 | 1.107309 | 1.107309 | 1.107309 | 1.107309 | 1.107309 | 1.107309 | 1.107309 | 1.107309 |\n",
       "| ENSG00000268020 | 1.107309 | 1.107309 | 1.107309 | 1.107309 | 1.107309 | 1.107309 | 1.107309 | 1.107309 | 1.107309 | 1.107309 | 1.107309 | 1.107309 |\n",
       "| ENSG00000240361 | 1.107309 | 1.107309 | 1.107309 | 1.107309 | 1.107309 | 1.107309 | 1.107309 | 1.107309 | 1.107309 | 1.107309 | 1.107309 | 1.107309 |\n",
       "\n"
      ],
      "text/plain": [
       "                R-1090_ctr R-1091_ctr R-1092_CT913 R-1093_CT913 R-1094_CT_M1\n",
       "ENSG00000223972 1.107309   1.107309   1.107309     1.107309     1.107309    \n",
       "ENSG00000227232 1.765705   1.784488   1.810820     1.802271     1.839136    \n",
       "ENSG00000243485 1.107309   1.107309   1.107309     1.107309     1.107309    \n",
       "ENSG00000237613 1.107309   1.107309   1.107309     1.107309     1.107309    \n",
       "ENSG00000268020 1.107309   1.107309   1.107309     1.107309     1.107309    \n",
       "ENSG00000240361 1.107309   1.107309   1.107309     1.107309     1.107309    \n",
       "                R-1095_CT_M1 R-1096+BRCA1_ctr R-1097+BRCA1_ctr\n",
       "ENSG00000223972 1.107309     1.107309         1.107309        \n",
       "ENSG00000227232 1.775229     1.750889         1.730048        \n",
       "ENSG00000243485 1.107309     1.107309         1.107309        \n",
       "ENSG00000237613 1.107309     1.107309         1.107309        \n",
       "ENSG00000268020 1.107309     1.107309         1.107309        \n",
       "ENSG00000240361 1.107309     1.107309         1.107309        \n",
       "                R-1098+BRCA1_CT913 R-1099+BRCA1_CT913 R-1100+BRCA1_CT_M1\n",
       "ENSG00000223972 1.107309           1.107309           1.107309          \n",
       "ENSG00000227232 1.750889           1.823249           1.806573          \n",
       "ENSG00000243485 1.107309           1.107309           1.107309          \n",
       "ENSG00000237613 1.107309           1.107309           1.107309          \n",
       "ENSG00000268020 1.107309           1.107309           1.107309          \n",
       "ENSG00000240361 1.107309           1.107309           1.107309          \n",
       "                R-1101+BRCA1_CT_M1\n",
       "ENSG00000223972 1.107309          \n",
       "ENSG00000227232 1.939195          \n",
       "ENSG00000243485 1.107309          \n",
       "ENSG00000237613 1.107309          \n",
       "ENSG00000268020 1.107309          \n",
       "ENSG00000240361 1.107309          "
      ]
     },
     "metadata": {},
     "output_type": "display_data"
    },
    {
     "data": {
      "text/html": [
       "<table class=\"dataframe\">\n",
       "<caption>A data.frame: 6 × 19</caption>\n",
       "<thead>\n",
       "\t<tr><th></th><th scope=col>EnsgID</th><th scope=col>symbol</th><th scope=col>geneType</th><th scope=col>descr</th><th scope=col>R-1090_ctr</th><th scope=col>R-1091_ctr</th><th scope=col>R-1092_CT913</th><th scope=col>R-1093_CT913</th><th scope=col>R-1094_CT_M1</th><th scope=col>R-1095_CT_M1</th><th scope=col>R-1096+BRCA1_ctr</th><th scope=col>R-1097+BRCA1_ctr</th><th scope=col>R-1098+BRCA1_CT913</th><th scope=col>R-1099+BRCA1_CT913</th><th scope=col>R-1100+BRCA1_CT_M1</th><th scope=col>R-1101+BRCA1_CT_M1</th><th scope=col>sum</th><th scope=col>sd</th><th scope=col>% of total</th></tr>\n",
       "\t<tr><th></th><th scope=col>&lt;chr&gt;</th><th scope=col>&lt;chr&gt;</th><th scope=col>&lt;chr&gt;</th><th scope=col>&lt;chr&gt;</th><th scope=col>&lt;dbl&gt;</th><th scope=col>&lt;dbl&gt;</th><th scope=col>&lt;dbl&gt;</th><th scope=col>&lt;dbl&gt;</th><th scope=col>&lt;dbl&gt;</th><th scope=col>&lt;dbl&gt;</th><th scope=col>&lt;dbl&gt;</th><th scope=col>&lt;dbl&gt;</th><th scope=col>&lt;dbl&gt;</th><th scope=col>&lt;dbl&gt;</th><th scope=col>&lt;dbl&gt;</th><th scope=col>&lt;dbl&gt;</th><th scope=col>&lt;dbl&gt;</th><th scope=col>&lt;dbl&gt;</th><th scope=col>&lt;dbl&gt;</th></tr>\n",
       "</thead>\n",
       "<tbody>\n",
       "\t<tr><th scope=row>ENSG00000265039</th><td>ENSG00000265039</td><td>AC107016.2</td><td>miRNA         </td><td>                                                  </td><td>5.893427</td><td>5.914469</td><td>5.755807</td><td>5.779008</td><td>5.876275</td><td>5.834468</td><td>5.896498</td><td>5.896724</td><td>5.802458</td><td>5.840672</td><td>5.933186</td><td>5.981638</td><td>70.40463</td><td>0.1</td><td>0.007</td></tr>\n",
       "\t<tr><th scope=row>ENSG00000263900</th><td>ENSG00000263900</td><td>AC006483.1</td><td>miRNA         </td><td>                                                  </td><td>5.823309</td><td>5.857941</td><td>5.836990</td><td>5.826830</td><td>5.894214</td><td>5.864670</td><td>5.764503</td><td>5.746105</td><td>5.730841</td><td>5.788661</td><td>5.863535</td><td>5.940495</td><td>69.93809</td><td>0.1</td><td>0.007</td></tr>\n",
       "\t<tr><th scope=row>ENSG00000266077</th><td>ENSG00000266077</td><td>AC139149.1</td><td>miRNA         </td><td>                                                  </td><td>5.365386</td><td>5.392200</td><td>5.397819</td><td>5.423690</td><td>5.499015</td><td>5.421607</td><td>5.360340</td><td>5.341289</td><td>5.283596</td><td>5.391781</td><td>5.554300</td><td>5.669095</td><td>65.10012</td><td>0.1</td><td>0.006</td></tr>\n",
       "\t<tr><th scope=row>ENSG00000034510</th><td>ENSG00000034510</td><td>TMSB10    </td><td>protein_coding</td><td>thymosin beta 10                                  </td><td>5.430352</td><td>5.436941</td><td>5.384324</td><td>5.370859</td><td>5.423469</td><td>5.423799</td><td>5.388026</td><td>5.404501</td><td>5.364903</td><td>5.372774</td><td>5.426279</td><td>5.454274</td><td>64.88050</td><td>0.0</td><td>0.006</td></tr>\n",
       "\t<tr><th scope=row>ENSG00000156508</th><td>ENSG00000156508</td><td>EEF1A1    </td><td>protein_coding</td><td>eukaryotic translation elongation factor 1 alpha 1</td><td>5.213395</td><td>5.204600</td><td>5.185496</td><td>5.170613</td><td>5.231893</td><td>5.224838</td><td>5.317051</td><td>5.316640</td><td>5.292341</td><td>5.274078</td><td>5.295308</td><td>5.287508</td><td>63.01376</td><td>0.1</td><td>0.006</td></tr>\n",
       "\t<tr><th scope=row>ENSG00000087086</th><td>ENSG00000087086</td><td>FTL       </td><td>protein_coding</td><td>ferritin, light polypeptide                       </td><td>5.053152</td><td>5.058678</td><td>5.210211</td><td>5.204617</td><td>5.159103</td><td>5.152984</td><td>5.068745</td><td>5.075220</td><td>5.187473</td><td>5.228274</td><td>5.191565</td><td>5.229670</td><td>61.81969</td><td>0.1</td><td>0.006</td></tr>\n",
       "</tbody>\n",
       "</table>\n"
      ],
      "text/latex": [
       "A data.frame: 6 × 19\n",
       "\\begin{tabular}{r|lllllllllllllllllll}\n",
       "  & EnsgID & symbol & geneType & descr & R-1090\\_ctr & R-1091\\_ctr & R-1092\\_CT913 & R-1093\\_CT913 & R-1094\\_CT\\_M1 & R-1095\\_CT\\_M1 & R-1096+BRCA1\\_ctr & R-1097+BRCA1\\_ctr & R-1098+BRCA1\\_CT913 & R-1099+BRCA1\\_CT913 & R-1100+BRCA1\\_CT\\_M1 & R-1101+BRCA1\\_CT\\_M1 & sum & sd & \\% of total\\\\\n",
       "  & <chr> & <chr> & <chr> & <chr> & <dbl> & <dbl> & <dbl> & <dbl> & <dbl> & <dbl> & <dbl> & <dbl> & <dbl> & <dbl> & <dbl> & <dbl> & <dbl> & <dbl> & <dbl>\\\\\n",
       "\\hline\n",
       "\tENSG00000265039 & ENSG00000265039 & AC107016.2 & miRNA          &                                                    & 5.893427 & 5.914469 & 5.755807 & 5.779008 & 5.876275 & 5.834468 & 5.896498 & 5.896724 & 5.802458 & 5.840672 & 5.933186 & 5.981638 & 70.40463 & 0.1 & 0.007\\\\\n",
       "\tENSG00000263900 & ENSG00000263900 & AC006483.1 & miRNA          &                                                    & 5.823309 & 5.857941 & 5.836990 & 5.826830 & 5.894214 & 5.864670 & 5.764503 & 5.746105 & 5.730841 & 5.788661 & 5.863535 & 5.940495 & 69.93809 & 0.1 & 0.007\\\\\n",
       "\tENSG00000266077 & ENSG00000266077 & AC139149.1 & miRNA          &                                                    & 5.365386 & 5.392200 & 5.397819 & 5.423690 & 5.499015 & 5.421607 & 5.360340 & 5.341289 & 5.283596 & 5.391781 & 5.554300 & 5.669095 & 65.10012 & 0.1 & 0.006\\\\\n",
       "\tENSG00000034510 & ENSG00000034510 & TMSB10     & protein\\_coding & thymosin beta 10                                   & 5.430352 & 5.436941 & 5.384324 & 5.370859 & 5.423469 & 5.423799 & 5.388026 & 5.404501 & 5.364903 & 5.372774 & 5.426279 & 5.454274 & 64.88050 & 0.0 & 0.006\\\\\n",
       "\tENSG00000156508 & ENSG00000156508 & EEF1A1     & protein\\_coding & eukaryotic translation elongation factor 1 alpha 1 & 5.213395 & 5.204600 & 5.185496 & 5.170613 & 5.231893 & 5.224838 & 5.317051 & 5.316640 & 5.292341 & 5.274078 & 5.295308 & 5.287508 & 63.01376 & 0.1 & 0.006\\\\\n",
       "\tENSG00000087086 & ENSG00000087086 & FTL        & protein\\_coding & ferritin, light polypeptide                        & 5.053152 & 5.058678 & 5.210211 & 5.204617 & 5.159103 & 5.152984 & 5.068745 & 5.075220 & 5.187473 & 5.228274 & 5.191565 & 5.229670 & 61.81969 & 0.1 & 0.006\\\\\n",
       "\\end{tabular}\n"
      ],
      "text/markdown": [
       "\n",
       "A data.frame: 6 × 19\n",
       "\n",
       "| <!--/--> | EnsgID &lt;chr&gt; | symbol &lt;chr&gt; | geneType &lt;chr&gt; | descr &lt;chr&gt; | R-1090_ctr &lt;dbl&gt; | R-1091_ctr &lt;dbl&gt; | R-1092_CT913 &lt;dbl&gt; | R-1093_CT913 &lt;dbl&gt; | R-1094_CT_M1 &lt;dbl&gt; | R-1095_CT_M1 &lt;dbl&gt; | R-1096+BRCA1_ctr &lt;dbl&gt; | R-1097+BRCA1_ctr &lt;dbl&gt; | R-1098+BRCA1_CT913 &lt;dbl&gt; | R-1099+BRCA1_CT913 &lt;dbl&gt; | R-1100+BRCA1_CT_M1 &lt;dbl&gt; | R-1101+BRCA1_CT_M1 &lt;dbl&gt; | sum &lt;dbl&gt; | sd &lt;dbl&gt; | % of total &lt;dbl&gt; |\n",
       "|---|---|---|---|---|---|---|---|---|---|---|---|---|---|---|---|---|---|---|---|\n",
       "| ENSG00000265039 | ENSG00000265039 | AC107016.2 | miRNA          | <!----> | 5.893427 | 5.914469 | 5.755807 | 5.779008 | 5.876275 | 5.834468 | 5.896498 | 5.896724 | 5.802458 | 5.840672 | 5.933186 | 5.981638 | 70.40463 | 0.1 | 0.007 |\n",
       "| ENSG00000263900 | ENSG00000263900 | AC006483.1 | miRNA          | <!----> | 5.823309 | 5.857941 | 5.836990 | 5.826830 | 5.894214 | 5.864670 | 5.764503 | 5.746105 | 5.730841 | 5.788661 | 5.863535 | 5.940495 | 69.93809 | 0.1 | 0.007 |\n",
       "| ENSG00000266077 | ENSG00000266077 | AC139149.1 | miRNA          | <!----> | 5.365386 | 5.392200 | 5.397819 | 5.423690 | 5.499015 | 5.421607 | 5.360340 | 5.341289 | 5.283596 | 5.391781 | 5.554300 | 5.669095 | 65.10012 | 0.1 | 0.006 |\n",
       "| ENSG00000034510 | ENSG00000034510 | TMSB10     | protein_coding | thymosin beta 10                                   | 5.430352 | 5.436941 | 5.384324 | 5.370859 | 5.423469 | 5.423799 | 5.388026 | 5.404501 | 5.364903 | 5.372774 | 5.426279 | 5.454274 | 64.88050 | 0.0 | 0.006 |\n",
       "| ENSG00000156508 | ENSG00000156508 | EEF1A1     | protein_coding | eukaryotic translation elongation factor 1 alpha 1 | 5.213395 | 5.204600 | 5.185496 | 5.170613 | 5.231893 | 5.224838 | 5.317051 | 5.316640 | 5.292341 | 5.274078 | 5.295308 | 5.287508 | 63.01376 | 0.1 | 0.006 |\n",
       "| ENSG00000087086 | ENSG00000087086 | FTL        | protein_coding | ferritin, light polypeptide                        | 5.053152 | 5.058678 | 5.210211 | 5.204617 | 5.159103 | 5.152984 | 5.068745 | 5.075220 | 5.187473 | 5.228274 | 5.191565 | 5.229670 | 61.81969 | 0.1 | 0.006 |\n",
       "\n"
      ],
      "text/plain": [
       "                EnsgID          symbol     geneType      \n",
       "ENSG00000265039 ENSG00000265039 AC107016.2 miRNA         \n",
       "ENSG00000263900 ENSG00000263900 AC006483.1 miRNA         \n",
       "ENSG00000266077 ENSG00000266077 AC139149.1 miRNA         \n",
       "ENSG00000034510 ENSG00000034510 TMSB10     protein_coding\n",
       "ENSG00000156508 ENSG00000156508 EEF1A1     protein_coding\n",
       "ENSG00000087086 ENSG00000087086 FTL        protein_coding\n",
       "                descr                                              R-1090_ctr\n",
       "ENSG00000265039                                                    5.893427  \n",
       "ENSG00000263900                                                    5.823309  \n",
       "ENSG00000266077                                                    5.365386  \n",
       "ENSG00000034510 thymosin beta 10                                   5.430352  \n",
       "ENSG00000156508 eukaryotic translation elongation factor 1 alpha 1 5.213395  \n",
       "ENSG00000087086 ferritin, light polypeptide                        5.053152  \n",
       "                R-1091_ctr R-1092_CT913 R-1093_CT913 R-1094_CT_M1 R-1095_CT_M1\n",
       "ENSG00000265039 5.914469   5.755807     5.779008     5.876275     5.834468    \n",
       "ENSG00000263900 5.857941   5.836990     5.826830     5.894214     5.864670    \n",
       "ENSG00000266077 5.392200   5.397819     5.423690     5.499015     5.421607    \n",
       "ENSG00000034510 5.436941   5.384324     5.370859     5.423469     5.423799    \n",
       "ENSG00000156508 5.204600   5.185496     5.170613     5.231893     5.224838    \n",
       "ENSG00000087086 5.058678   5.210211     5.204617     5.159103     5.152984    \n",
       "                R-1096+BRCA1_ctr R-1097+BRCA1_ctr R-1098+BRCA1_CT913\n",
       "ENSG00000265039 5.896498         5.896724         5.802458          \n",
       "ENSG00000263900 5.764503         5.746105         5.730841          \n",
       "ENSG00000266077 5.360340         5.341289         5.283596          \n",
       "ENSG00000034510 5.388026         5.404501         5.364903          \n",
       "ENSG00000156508 5.317051         5.316640         5.292341          \n",
       "ENSG00000087086 5.068745         5.075220         5.187473          \n",
       "                R-1099+BRCA1_CT913 R-1100+BRCA1_CT_M1 R-1101+BRCA1_CT_M1\n",
       "ENSG00000265039 5.840672           5.933186           5.981638          \n",
       "ENSG00000263900 5.788661           5.863535           5.940495          \n",
       "ENSG00000266077 5.391781           5.554300           5.669095          \n",
       "ENSG00000034510 5.372774           5.426279           5.454274          \n",
       "ENSG00000156508 5.274078           5.295308           5.287508          \n",
       "ENSG00000087086 5.228274           5.191565           5.229670          \n",
       "                sum      sd  % of total\n",
       "ENSG00000265039 70.40463 0.1 0.007     \n",
       "ENSG00000263900 69.93809 0.1 0.007     \n",
       "ENSG00000266077 65.10012 0.1 0.006     \n",
       "ENSG00000034510 64.88050 0.0 0.006     \n",
       "ENSG00000156508 63.01376 0.1 0.006     \n",
       "ENSG00000087086 61.81969 0.1 0.006     "
      ]
     },
     "metadata": {},
     "output_type": "display_data"
    },
    {
     "data": {
      "text/html": [
       "<style>\n",
       ".list-inline {list-style: none; margin:0; padding: 0}\n",
       ".list-inline>li {display: inline-block}\n",
       ".list-inline>li:not(:last-child)::after {content: \"\\00b7\"; padding: 0 .5ex}\n",
       "</style>\n",
       "<ol class=list-inline><li>57952</li><li>12</li></ol>\n"
      ],
      "text/latex": [
       "\\begin{enumerate*}\n",
       "\\item 57952\n",
       "\\item 12\n",
       "\\end{enumerate*}\n"
      ],
      "text/markdown": [
       "1. 57952\n",
       "2. 12\n",
       "\n",
       "\n"
      ],
      "text/plain": [
       "[1] 57952    12"
      ]
     },
     "metadata": {},
     "output_type": "display_data"
    },
    {
     "data": {
      "text/html": [
       "<style>\n",
       ".list-inline {list-style: none; margin:0; padding: 0}\n",
       ".list-inline>li {display: inline-block}\n",
       ".list-inline>li:not(:last-child)::after {content: \"\\00b7\"; padding: 0 .5ex}\n",
       "</style>\n",
       "<ol class=list-inline><li>57952</li><li>19</li></ol>\n"
      ],
      "text/latex": [
       "\\begin{enumerate*}\n",
       "\\item 57952\n",
       "\\item 19\n",
       "\\end{enumerate*}\n"
      ],
      "text/markdown": [
       "1. 57952\n",
       "2. 19\n",
       "\n",
       "\n"
      ],
      "text/plain": [
       "[1] 57952    19"
      ]
     },
     "metadata": {},
     "output_type": "display_data"
    },
    {
     "name": "stdout",
     "output_type": "stream",
     "text": [
      "[1] \"removing 528 genes from TPKM\"\n",
      "[1] \"528 genes to remove ( rRNA, Mt_rRNA )\"\n"
     ]
    },
    {
     "data": {
      "text/html": [
       "<table class=\"dataframe\">\n",
       "<caption>A data.frame: 6 × 4</caption>\n",
       "<thead>\n",
       "\t<tr><th></th><th scope=col>ensgID</th><th scope=col>symbol</th><th scope=col>description</th><th scope=col>geneType</th></tr>\n",
       "\t<tr><th></th><th scope=col>&lt;chr&gt;</th><th scope=col>&lt;chr&gt;</th><th scope=col>&lt;chr&gt;</th><th scope=col>&lt;chr&gt;</th></tr>\n",
       "</thead>\n",
       "<tbody>\n",
       "\t<tr><th scope=row>ENSG00000271782</th><td>ENSG00000271782</td><td>RP5-850O15.4</td><td>                                      </td><td>lincRNA  </td></tr>\n",
       "\t<tr><th scope=row>ENSG00000232753</th><td>ENSG00000232753</td><td>RP11-347K2.1</td><td>                                      </td><td>lincRNA  </td></tr>\n",
       "\t<tr><th scope=row>ENSG00000225767</th><td>ENSG00000225767</td><td>RP5-850O15.3</td><td>                                      </td><td>antisense</td></tr>\n",
       "\t<tr><th scope=row>ENSG00000202140</th><td>ENSG00000202140</td><td>Y_RNA       </td><td>Y RNA                                 </td><td>misc_RNA </td></tr>\n",
       "\t<tr><th scope=row>ENSG00000207194</th><td>ENSG00000207194</td><td>RNU6-1026P  </td><td>RNA, U6 small nuclear 1026, pseudogene</td><td>snRNA    </td></tr>\n",
       "\t<tr><th scope=row>ENSG00000252825</th><td>ENSG00000252825</td><td>RNU6-1253P  </td><td>RNA, U6 small nuclear 1253, pseudogene</td><td>snRNA    </td></tr>\n",
       "</tbody>\n",
       "</table>\n"
      ],
      "text/latex": [
       "A data.frame: 6 × 4\n",
       "\\begin{tabular}{r|llll}\n",
       "  & ensgID & symbol & description & geneType\\\\\n",
       "  & <chr> & <chr> & <chr> & <chr>\\\\\n",
       "\\hline\n",
       "\tENSG00000271782 & ENSG00000271782 & RP5-850O15.4 &                                        & lincRNA  \\\\\n",
       "\tENSG00000232753 & ENSG00000232753 & RP11-347K2.1 &                                        & lincRNA  \\\\\n",
       "\tENSG00000225767 & ENSG00000225767 & RP5-850O15.3 &                                        & antisense\\\\\n",
       "\tENSG00000202140 & ENSG00000202140 & Y\\_RNA        & Y RNA                                  & misc\\_RNA \\\\\n",
       "\tENSG00000207194 & ENSG00000207194 & RNU6-1026P   & RNA, U6 small nuclear 1026, pseudogene & snRNA    \\\\\n",
       "\tENSG00000252825 & ENSG00000252825 & RNU6-1253P   & RNA, U6 small nuclear 1253, pseudogene & snRNA    \\\\\n",
       "\\end{tabular}\n"
      ],
      "text/markdown": [
       "\n",
       "A data.frame: 6 × 4\n",
       "\n",
       "| <!--/--> | ensgID &lt;chr&gt; | symbol &lt;chr&gt; | description &lt;chr&gt; | geneType &lt;chr&gt; |\n",
       "|---|---|---|---|---|\n",
       "| ENSG00000271782 | ENSG00000271782 | RP5-850O15.4 | <!----> | lincRNA   |\n",
       "| ENSG00000232753 | ENSG00000232753 | RP11-347K2.1 | <!----> | lincRNA   |\n",
       "| ENSG00000225767 | ENSG00000225767 | RP5-850O15.3 | <!----> | antisense |\n",
       "| ENSG00000202140 | ENSG00000202140 | Y_RNA        | Y RNA                                  | misc_RNA  |\n",
       "| ENSG00000207194 | ENSG00000207194 | RNU6-1026P   | RNA, U6 small nuclear 1026, pseudogene | snRNA     |\n",
       "| ENSG00000252825 | ENSG00000252825 | RNU6-1253P   | RNA, U6 small nuclear 1253, pseudogene | snRNA     |\n",
       "\n"
      ],
      "text/plain": [
       "                ensgID          symbol      \n",
       "ENSG00000271782 ENSG00000271782 RP5-850O15.4\n",
       "ENSG00000232753 ENSG00000232753 RP11-347K2.1\n",
       "ENSG00000225767 ENSG00000225767 RP5-850O15.3\n",
       "ENSG00000202140 ENSG00000202140 Y_RNA       \n",
       "ENSG00000207194 ENSG00000207194 RNU6-1026P  \n",
       "ENSG00000252825 ENSG00000252825 RNU6-1253P  \n",
       "                description                            geneType \n",
       "ENSG00000271782                                        lincRNA  \n",
       "ENSG00000232753                                        lincRNA  \n",
       "ENSG00000225767                                        antisense\n",
       "ENSG00000202140 Y RNA                                  misc_RNA \n",
       "ENSG00000207194 RNA, U6 small nuclear 1026, pseudogene snRNA    \n",
       "ENSG00000252825 RNA, U6 small nuclear 1253, pseudogene snRNA    "
      ]
     },
     "metadata": {},
     "output_type": "display_data"
    },
    {
     "data": {
      "text/html": [
       "<style>\n",
       ".list-inline {list-style: none; margin:0; padding: 0}\n",
       ".list-inline>li {display: inline-block}\n",
       ".list-inline>li:not(:last-child)::after {content: \"\\00b7\"; padding: 0 .5ex}\n",
       "</style>\n",
       "<ol class=list-inline><li>57424</li><li>12</li></ol>\n"
      ],
      "text/latex": [
       "\\begin{enumerate*}\n",
       "\\item 57424\n",
       "\\item 12\n",
       "\\end{enumerate*}\n"
      ],
      "text/markdown": [
       "1. 57424\n",
       "2. 12\n",
       "\n",
       "\n"
      ],
      "text/plain": [
       "[1] 57424    12"
      ]
     },
     "metadata": {},
     "output_type": "display_data"
    }
   ],
   "source": [
    "head(TPMsRlog)\n",
    "head(TPMsRlogDF)\n",
    "dim(TPMsRlog); dim(TPMsRlogDF)\n",
    "\n",
    "# TPMsRlog: remove genes of biotype or reduce to desired genes:\n",
    "\n",
    "# include gene types:\n",
    "if (exists(\"geneTypeInclList\")) {\n",
    "  geneIds2incl <- annot$ensgID[which(annot$geneType %in% geneTypeInclList)]\n",
    "  wh2incl <- which(rownames(TPMsRlog) %in% geneIds2incl)\n",
    "  print(paste(\"including\",length(intersect(rownames(TPMsRlog),geneIds2incl)),\"genes from TPM\"))\n",
    "  if(length(wh2incl)>0) {\n",
    "    print(paste(length(intersect(rownames(TPMsRlog),geneIds2incl)),\"genes to keep (\",paste(geneTypeInclList,collapse=\", \"),\")\"))\n",
    "    TPMsRlog <- TPMsRlog[wh2incl,]\n",
    "  }\n",
    "}\n",
    "# exclude gene types:\n",
    "if (exists(\"geneTypeExclList\")) {\n",
    "  geneIds2remove <- annot$ensgID[which(annot$geneType %in% geneTypeExclList)]\n",
    "  wh2rm <- which(rownames(TPMsRlog) %in% geneIds2remove)\n",
    "  length(rownames(TPMsRlog))\n",
    "  print(paste(\"removing\",length(intersect(rownames(TPMsRlog),geneIds2remove)),\"genes from TPKM\"))\n",
    "  if(length(wh2rm)>0) {\n",
    "    print(paste(length(intersect(rownames(TPMsRlog),geneIds2remove)),\"genes to remove (\",paste(geneTypeExclList,collapse=\", \"),\")\"))\n",
    "    TPMsRlog <- TPMsRlog[-wh2rm,]\n",
    "  }\n",
    "}\n",
    "\n",
    "# include gene ids:\n",
    "if (exists(\"geneIDincludeList\")) {\n",
    "  wh2incl <- which(rownames(TPMsRlog) %in% geneIDincludeList)\n",
    "  print(paste(\"including\",length(intersect(rownames(TPMsRlog),geneIDincludeList)),\"genes from TPKM\"))\n",
    "  if(length(wh2incl)>0) {\n",
    "    print(paste(length(intersect(rownames(TPMsRlog),geneIDincludeList)),\n",
    "                \"genes to keep (\",paste(geneIDincludeList,collapse=\", \"),\")\"))\n",
    "    TPMsRlog <- TPMsRlog[wh2incl,]\n",
    "  }\n",
    "}\n",
    "head(annot)\n",
    "dim(TPMsRlog)"
   ]
  },
  {
   "cell_type": "markdown",
   "id": "9b171deb",
   "metadata": {
    "scrolled": true
   },
   "source": [
    "#### replace ENSG with symbols, where there is a symbol, otherwise keep Ensg"
   ]
  },
  {
   "cell_type": "code",
   "execution_count": 36,
   "id": "54e6543d",
   "metadata": {
    "scrolled": true
   },
   "outputs": [
    {
     "data": {
      "text/html": [
       "<table class=\"dataframe\">\n",
       "<caption>A data.frame: 6 × 4</caption>\n",
       "<thead>\n",
       "\t<tr><th></th><th scope=col>ensgID</th><th scope=col>symbol</th><th scope=col>description</th><th scope=col>geneType</th></tr>\n",
       "\t<tr><th></th><th scope=col>&lt;chr&gt;</th><th scope=col>&lt;chr&gt;</th><th scope=col>&lt;chr&gt;</th><th scope=col>&lt;chr&gt;</th></tr>\n",
       "</thead>\n",
       "<tbody>\n",
       "\t<tr><th scope=row>ENSG00000271782</th><td>ENSG00000271782</td><td>RP5-850O15.4</td><td>                                      </td><td>lincRNA  </td></tr>\n",
       "\t<tr><th scope=row>ENSG00000232753</th><td>ENSG00000232753</td><td>RP11-347K2.1</td><td>                                      </td><td>lincRNA  </td></tr>\n",
       "\t<tr><th scope=row>ENSG00000225767</th><td>ENSG00000225767</td><td>RP5-850O15.3</td><td>                                      </td><td>antisense</td></tr>\n",
       "\t<tr><th scope=row>ENSG00000202140</th><td>ENSG00000202140</td><td>Y_RNA       </td><td>Y RNA                                 </td><td>misc_RNA </td></tr>\n",
       "\t<tr><th scope=row>ENSG00000207194</th><td>ENSG00000207194</td><td>RNU6-1026P  </td><td>RNA, U6 small nuclear 1026, pseudogene</td><td>snRNA    </td></tr>\n",
       "\t<tr><th scope=row>ENSG00000252825</th><td>ENSG00000252825</td><td>RNU6-1253P  </td><td>RNA, U6 small nuclear 1253, pseudogene</td><td>snRNA    </td></tr>\n",
       "</tbody>\n",
       "</table>\n"
      ],
      "text/latex": [
       "A data.frame: 6 × 4\n",
       "\\begin{tabular}{r|llll}\n",
       "  & ensgID & symbol & description & geneType\\\\\n",
       "  & <chr> & <chr> & <chr> & <chr>\\\\\n",
       "\\hline\n",
       "\tENSG00000271782 & ENSG00000271782 & RP5-850O15.4 &                                        & lincRNA  \\\\\n",
       "\tENSG00000232753 & ENSG00000232753 & RP11-347K2.1 &                                        & lincRNA  \\\\\n",
       "\tENSG00000225767 & ENSG00000225767 & RP5-850O15.3 &                                        & antisense\\\\\n",
       "\tENSG00000202140 & ENSG00000202140 & Y\\_RNA        & Y RNA                                  & misc\\_RNA \\\\\n",
       "\tENSG00000207194 & ENSG00000207194 & RNU6-1026P   & RNA, U6 small nuclear 1026, pseudogene & snRNA    \\\\\n",
       "\tENSG00000252825 & ENSG00000252825 & RNU6-1253P   & RNA, U6 small nuclear 1253, pseudogene & snRNA    \\\\\n",
       "\\end{tabular}\n"
      ],
      "text/markdown": [
       "\n",
       "A data.frame: 6 × 4\n",
       "\n",
       "| <!--/--> | ensgID &lt;chr&gt; | symbol &lt;chr&gt; | description &lt;chr&gt; | geneType &lt;chr&gt; |\n",
       "|---|---|---|---|---|\n",
       "| ENSG00000271782 | ENSG00000271782 | RP5-850O15.4 | <!----> | lincRNA   |\n",
       "| ENSG00000232753 | ENSG00000232753 | RP11-347K2.1 | <!----> | lincRNA   |\n",
       "| ENSG00000225767 | ENSG00000225767 | RP5-850O15.3 | <!----> | antisense |\n",
       "| ENSG00000202140 | ENSG00000202140 | Y_RNA        | Y RNA                                  | misc_RNA  |\n",
       "| ENSG00000207194 | ENSG00000207194 | RNU6-1026P   | RNA, U6 small nuclear 1026, pseudogene | snRNA     |\n",
       "| ENSG00000252825 | ENSG00000252825 | RNU6-1253P   | RNA, U6 small nuclear 1253, pseudogene | snRNA     |\n",
       "\n"
      ],
      "text/plain": [
       "                ensgID          symbol      \n",
       "ENSG00000271782 ENSG00000271782 RP5-850O15.4\n",
       "ENSG00000232753 ENSG00000232753 RP11-347K2.1\n",
       "ENSG00000225767 ENSG00000225767 RP5-850O15.3\n",
       "ENSG00000202140 ENSG00000202140 Y_RNA       \n",
       "ENSG00000207194 ENSG00000207194 RNU6-1026P  \n",
       "ENSG00000252825 ENSG00000252825 RNU6-1253P  \n",
       "                description                            geneType \n",
       "ENSG00000271782                                        lincRNA  \n",
       "ENSG00000232753                                        lincRNA  \n",
       "ENSG00000225767                                        antisense\n",
       "ENSG00000202140 Y RNA                                  misc_RNA \n",
       "ENSG00000207194 RNA, U6 small nuclear 1026, pseudogene snRNA    \n",
       "ENSG00000252825 RNA, U6 small nuclear 1253, pseudogene snRNA    "
      ]
     },
     "metadata": {},
     "output_type": "display_data"
    },
    {
     "data": {
      "text/html": [
       "<table class=\"dataframe\">\n",
       "<caption>A matrix: 6 × 12 of type dbl</caption>\n",
       "<thead>\n",
       "\t<tr><th></th><th scope=col>R-1090_ctr</th><th scope=col>R-1091_ctr</th><th scope=col>R-1092_CT913</th><th scope=col>R-1093_CT913</th><th scope=col>R-1094_CT_M1</th><th scope=col>R-1095_CT_M1</th><th scope=col>R-1096+BRCA1_ctr</th><th scope=col>R-1097+BRCA1_ctr</th><th scope=col>R-1098+BRCA1_CT913</th><th scope=col>R-1099+BRCA1_CT913</th><th scope=col>R-1100+BRCA1_CT_M1</th><th scope=col>R-1101+BRCA1_CT_M1</th></tr>\n",
       "</thead>\n",
       "<tbody>\n",
       "\t<tr><th scope=row>DDX11L1</th><td>1.107309</td><td>1.107309</td><td>1.107309</td><td>1.107309</td><td>1.107309</td><td>1.107309</td><td>1.107309</td><td>1.107309</td><td>1.107309</td><td>1.107309</td><td>1.107309</td><td>1.107309</td></tr>\n",
       "\t<tr><th scope=row>WASH7P</th><td>1.765705</td><td>1.784488</td><td>1.810820</td><td>1.802271</td><td>1.839136</td><td>1.775229</td><td>1.750889</td><td>1.730048</td><td>1.750889</td><td>1.823249</td><td>1.806573</td><td>1.939195</td></tr>\n",
       "\t<tr><th scope=row>MIR1302-10</th><td>1.107309</td><td>1.107309</td><td>1.107309</td><td>1.107309</td><td>1.107309</td><td>1.107309</td><td>1.107309</td><td>1.107309</td><td>1.107309</td><td>1.107309</td><td>1.107309</td><td>1.107309</td></tr>\n",
       "\t<tr><th scope=row>FAM138A</th><td>1.107309</td><td>1.107309</td><td>1.107309</td><td>1.107309</td><td>1.107309</td><td>1.107309</td><td>1.107309</td><td>1.107309</td><td>1.107309</td><td>1.107309</td><td>1.107309</td><td>1.107309</td></tr>\n",
       "\t<tr><th scope=row>OR4G4P</th><td>1.107309</td><td>1.107309</td><td>1.107309</td><td>1.107309</td><td>1.107309</td><td>1.107309</td><td>1.107309</td><td>1.107309</td><td>1.107309</td><td>1.107309</td><td>1.107309</td><td>1.107309</td></tr>\n",
       "\t<tr><th scope=row>OR4G11P</th><td>1.107309</td><td>1.107309</td><td>1.107309</td><td>1.107309</td><td>1.107309</td><td>1.107309</td><td>1.107309</td><td>1.107309</td><td>1.107309</td><td>1.107309</td><td>1.107309</td><td>1.107309</td></tr>\n",
       "</tbody>\n",
       "</table>\n"
      ],
      "text/latex": [
       "A matrix: 6 × 12 of type dbl\n",
       "\\begin{tabular}{r|llllllllllll}\n",
       "  & R-1090\\_ctr & R-1091\\_ctr & R-1092\\_CT913 & R-1093\\_CT913 & R-1094\\_CT\\_M1 & R-1095\\_CT\\_M1 & R-1096+BRCA1\\_ctr & R-1097+BRCA1\\_ctr & R-1098+BRCA1\\_CT913 & R-1099+BRCA1\\_CT913 & R-1100+BRCA1\\_CT\\_M1 & R-1101+BRCA1\\_CT\\_M1\\\\\n",
       "\\hline\n",
       "\tDDX11L1 & 1.107309 & 1.107309 & 1.107309 & 1.107309 & 1.107309 & 1.107309 & 1.107309 & 1.107309 & 1.107309 & 1.107309 & 1.107309 & 1.107309\\\\\n",
       "\tWASH7P & 1.765705 & 1.784488 & 1.810820 & 1.802271 & 1.839136 & 1.775229 & 1.750889 & 1.730048 & 1.750889 & 1.823249 & 1.806573 & 1.939195\\\\\n",
       "\tMIR1302-10 & 1.107309 & 1.107309 & 1.107309 & 1.107309 & 1.107309 & 1.107309 & 1.107309 & 1.107309 & 1.107309 & 1.107309 & 1.107309 & 1.107309\\\\\n",
       "\tFAM138A & 1.107309 & 1.107309 & 1.107309 & 1.107309 & 1.107309 & 1.107309 & 1.107309 & 1.107309 & 1.107309 & 1.107309 & 1.107309 & 1.107309\\\\\n",
       "\tOR4G4P & 1.107309 & 1.107309 & 1.107309 & 1.107309 & 1.107309 & 1.107309 & 1.107309 & 1.107309 & 1.107309 & 1.107309 & 1.107309 & 1.107309\\\\\n",
       "\tOR4G11P & 1.107309 & 1.107309 & 1.107309 & 1.107309 & 1.107309 & 1.107309 & 1.107309 & 1.107309 & 1.107309 & 1.107309 & 1.107309 & 1.107309\\\\\n",
       "\\end{tabular}\n"
      ],
      "text/markdown": [
       "\n",
       "A matrix: 6 × 12 of type dbl\n",
       "\n",
       "| <!--/--> | R-1090_ctr | R-1091_ctr | R-1092_CT913 | R-1093_CT913 | R-1094_CT_M1 | R-1095_CT_M1 | R-1096+BRCA1_ctr | R-1097+BRCA1_ctr | R-1098+BRCA1_CT913 | R-1099+BRCA1_CT913 | R-1100+BRCA1_CT_M1 | R-1101+BRCA1_CT_M1 |\n",
       "|---|---|---|---|---|---|---|---|---|---|---|---|---|\n",
       "| DDX11L1 | 1.107309 | 1.107309 | 1.107309 | 1.107309 | 1.107309 | 1.107309 | 1.107309 | 1.107309 | 1.107309 | 1.107309 | 1.107309 | 1.107309 |\n",
       "| WASH7P | 1.765705 | 1.784488 | 1.810820 | 1.802271 | 1.839136 | 1.775229 | 1.750889 | 1.730048 | 1.750889 | 1.823249 | 1.806573 | 1.939195 |\n",
       "| MIR1302-10 | 1.107309 | 1.107309 | 1.107309 | 1.107309 | 1.107309 | 1.107309 | 1.107309 | 1.107309 | 1.107309 | 1.107309 | 1.107309 | 1.107309 |\n",
       "| FAM138A | 1.107309 | 1.107309 | 1.107309 | 1.107309 | 1.107309 | 1.107309 | 1.107309 | 1.107309 | 1.107309 | 1.107309 | 1.107309 | 1.107309 |\n",
       "| OR4G4P | 1.107309 | 1.107309 | 1.107309 | 1.107309 | 1.107309 | 1.107309 | 1.107309 | 1.107309 | 1.107309 | 1.107309 | 1.107309 | 1.107309 |\n",
       "| OR4G11P | 1.107309 | 1.107309 | 1.107309 | 1.107309 | 1.107309 | 1.107309 | 1.107309 | 1.107309 | 1.107309 | 1.107309 | 1.107309 | 1.107309 |\n",
       "\n"
      ],
      "text/plain": [
       "           R-1090_ctr R-1091_ctr R-1092_CT913 R-1093_CT913 R-1094_CT_M1\n",
       "DDX11L1    1.107309   1.107309   1.107309     1.107309     1.107309    \n",
       "WASH7P     1.765705   1.784488   1.810820     1.802271     1.839136    \n",
       "MIR1302-10 1.107309   1.107309   1.107309     1.107309     1.107309    \n",
       "FAM138A    1.107309   1.107309   1.107309     1.107309     1.107309    \n",
       "OR4G4P     1.107309   1.107309   1.107309     1.107309     1.107309    \n",
       "OR4G11P    1.107309   1.107309   1.107309     1.107309     1.107309    \n",
       "           R-1095_CT_M1 R-1096+BRCA1_ctr R-1097+BRCA1_ctr R-1098+BRCA1_CT913\n",
       "DDX11L1    1.107309     1.107309         1.107309         1.107309          \n",
       "WASH7P     1.775229     1.750889         1.730048         1.750889          \n",
       "MIR1302-10 1.107309     1.107309         1.107309         1.107309          \n",
       "FAM138A    1.107309     1.107309         1.107309         1.107309          \n",
       "OR4G4P     1.107309     1.107309         1.107309         1.107309          \n",
       "OR4G11P    1.107309     1.107309         1.107309         1.107309          \n",
       "           R-1099+BRCA1_CT913 R-1100+BRCA1_CT_M1 R-1101+BRCA1_CT_M1\n",
       "DDX11L1    1.107309           1.107309           1.107309          \n",
       "WASH7P     1.823249           1.806573           1.939195          \n",
       "MIR1302-10 1.107309           1.107309           1.107309          \n",
       "FAM138A    1.107309           1.107309           1.107309          \n",
       "OR4G4P     1.107309           1.107309           1.107309          \n",
       "OR4G11P    1.107309           1.107309           1.107309          "
      ]
     },
     "metadata": {},
     "output_type": "display_data"
    },
    {
     "data": {
      "text/html": [
       "<style>\n",
       ".list-inline {list-style: none; margin:0; padding: 0}\n",
       ".list-inline>li {display: inline-block}\n",
       ".list-inline>li:not(:last-child)::after {content: \"\\00b7\"; padding: 0 .5ex}\n",
       "</style>\n",
       "<ol class=list-inline><li>57424</li><li>12</li></ol>\n"
      ],
      "text/latex": [
       "\\begin{enumerate*}\n",
       "\\item 57424\n",
       "\\item 12\n",
       "\\end{enumerate*}\n"
      ],
      "text/markdown": [
       "1. 57424\n",
       "2. 12\n",
       "\n",
       "\n"
      ],
      "text/plain": [
       "[1] 57424    12"
      ]
     },
     "metadata": {},
     "output_type": "display_data"
    }
   ],
   "source": [
    "wh <- which(!is.na(annot[rownames(TPMsRlog),\"symbol\"]))\n",
    "if( length(wh) > 0) {\n",
    "    rownames(TPMsRlog)[wh] <- annot[rownames(TPMsRlog)[wh],\"symbol\"]\n",
    "}\n",
    "head(annot)\n",
    "head(TPMsRlog) \n",
    "dim(TPMsRlog) "
   ]
  },
  {
   "cell_type": "markdown",
   "id": "3a756c09",
   "metadata": {
    "scrolled": true
   },
   "source": [
    "#### define colors for plot"
   ]
  },
  {
   "cell_type": "code",
   "execution_count": 38,
   "id": "510fa69f",
   "metadata": {
    "scrolled": true
   },
   "outputs": [],
   "source": [
    "# reduce color annotation to actual samples\n",
    "# very important, or Heatmap will produce wrong annotation:\n",
    "sampleAnnotForPlot <- sampleAnnot[colnames(TPMsRlog),annotAttrib, drop=F] \n",
    "whCol <- grep(\"color\",colnames(sampleAnnot),value=T)\n",
    "sampleAnnotForPlotColor <- sampleAnnot[colnames(TPMsRlog),whCol, drop=F] \n",
    "# produce annotation color discrete/continuous:\n",
    "# define color ramps for diff variables:\n",
    "myColrRamps <- matrix(data = c(\"#66ff99\",\"#009999\",\"#000099\",\n",
    "                               \"blue4\",\"azure\",\"brown1\",\n",
    "                               \"#ffd000\",\"#669900\",\"#006600\",\n",
    "                               \"#ff99ff\",\"#6666ff\",\"#000099\",\n",
    "                               \"#f1e0c5\",\"#71816d\",\"#342a21\"),ncol = 3, byrow = T)"
   ]
  },
  {
   "cell_type": "code",
   "execution_count": 39,
   "id": "03b8d599",
   "metadata": {},
   "outputs": [
    {
     "name": "stdout",
     "output_type": "stream",
     "text": [
      "group_color is discrete\n",
      "used 3 \n",
      "RNA_concentation_color  is numeric\n",
      "color ramp over:  #ffd000 #669900 #006600 to breaks 1035.5 2203.65 3804.7 \n"
     ]
    }
   ],
   "source": [
    "hues <- 0:8/8\n",
    "usedHueStart <- 1\n",
    "\n",
    "annotColor <- list()\n",
    "i<-1\n",
    "useRamp <- 2\n",
    "\n",
    "for(i in 1:ncol(sampleAnnotForPlot)) {\n",
    "  colorName <- paste0(colnames(sampleAnnotForPlot)[i],\"_color\")\n",
    "  if (is.numeric(sampleAnnotForPlot[,i])) {    # color ramp  when continuous variable\n",
    "    cat(colorName,\" is numeric\\n\")\n",
    "    breaks <- quantile(sampleAnnotForPlot[,i],c(0,0.5,1), na.rm = T)\n",
    "    names(breaks) <- NULL\n",
    "    annotColor <- c(annotColor, list(colorRamp2(breaks = breaks,myColrRamps[useRamp,])))\n",
    "    cat(\"color ramp over: \",myColrRamps[useRamp,],\"to breaks\",breaks,\"\\n\")\n",
    "    useRamp <- ifelse(useRamp==nrow(myColrRamps),1,useRamp+1)\n",
    "  } else {     # discrete variable -> fixed colors\n",
    "    cat(colorName,\"is discrete\\n\")\n",
    "    if (colorName %in% colnames(sampleAnnotForPlotColor)) { # predefined color?\n",
    "      cat(\"predefined colors:\\n \")\n",
    "      cat(unique(sampleAnnotForPlotColor[,colorName]),\"\\n\")\n",
    "      if(\"\" %in% unique(sampleAnnotForPlotColor[,colorName])) {\n",
    "        cat(\"empty values \\\"\\\" not allowed in predefined colors, quit\\n\")\n",
    "      }\n",
    "      annotColor <- c(annotColor,list(unique(sampleAnnotForPlotColor[,colorName])))\n",
    "      names(annotColor[[i]]) <- unique(sampleAnnotForPlot[,i])\n",
    "    } else { # discrete palette from pre-defined color ramps:\n",
    "\n",
    "      usedHueStart <- (usedHueStart+1) %% length(hues) + 1\n",
    "      # the more colors we need, the further away\n",
    "      usedHueEnd <- (usedHueStart + floor(length(unique(sampleAnnotForPlot[,i])))) %% length(hues) + 1\n",
    "      annotColor <- c(annotColor,list(\n",
    "        rainbow(s=0.7,v=0.85,n = length(unique(sampleAnnotForPlot[,i])),start=hues[usedHueStart], end=hues[usedHueEnd])\n",
    "        ))\n",
    "      useRamp <- ifelse(useRamp==nrow(myColrRamps),1,useRamp+1)\n",
    "      cat(\"used\",useRamp,\"\\n\")\n",
    "      names(annotColor[[i]]) <- unique(sampleAnnotForPlot[,i])\n",
    "    }\n",
    "    # sort by annot attrib name:\n",
    "    annotColor[[i]] <- annotColor[[i]][order(names(annotColor[[i]]))]\n",
    "  }\n",
    "}\n",
    "\n",
    "names(annotColor) <- colnames(sampleAnnotForPlot)"
   ]
  },
  {
   "cell_type": "code",
   "execution_count": 40,
   "id": "8aa87c85",
   "metadata": {
    "scrolled": true
   },
   "outputs": [
    {
     "name": "stdout",
     "output_type": "stream",
     "text": [
      "[1] \"PCA...\"\n"
     ]
    },
    {
     "data": {
      "text/html": [
       "<table class=\"dataframe\">\n",
       "<caption>A matrix: 6 × 12 of type dbl</caption>\n",
       "<thead>\n",
       "\t<tr><th></th><th scope=col>R-1090_ctr</th><th scope=col>R-1091_ctr</th><th scope=col>R-1092_CT913</th><th scope=col>R-1093_CT913</th><th scope=col>R-1094_CT_M1</th><th scope=col>R-1095_CT_M1</th><th scope=col>R-1096+BRCA1_ctr</th><th scope=col>R-1097+BRCA1_ctr</th><th scope=col>R-1098+BRCA1_CT913</th><th scope=col>R-1099+BRCA1_CT913</th><th scope=col>R-1100+BRCA1_CT_M1</th><th scope=col>R-1101+BRCA1_CT_M1</th></tr>\n",
       "</thead>\n",
       "<tbody>\n",
       "\t<tr><th scope=row>DDX11L1</th><td>1.107309</td><td>1.107309</td><td>1.107309</td><td>1.107309</td><td>1.107309</td><td>1.107309</td><td>1.107309</td><td>1.107309</td><td>1.107309</td><td>1.107309</td><td>1.107309</td><td>1.107309</td></tr>\n",
       "\t<tr><th scope=row>WASH7P</th><td>1.765705</td><td>1.784488</td><td>1.810820</td><td>1.802271</td><td>1.839136</td><td>1.775229</td><td>1.750889</td><td>1.730048</td><td>1.750889</td><td>1.823249</td><td>1.806573</td><td>1.939195</td></tr>\n",
       "\t<tr><th scope=row>MIR1302-10</th><td>1.107309</td><td>1.107309</td><td>1.107309</td><td>1.107309</td><td>1.107309</td><td>1.107309</td><td>1.107309</td><td>1.107309</td><td>1.107309</td><td>1.107309</td><td>1.107309</td><td>1.107309</td></tr>\n",
       "\t<tr><th scope=row>FAM138A</th><td>1.107309</td><td>1.107309</td><td>1.107309</td><td>1.107309</td><td>1.107309</td><td>1.107309</td><td>1.107309</td><td>1.107309</td><td>1.107309</td><td>1.107309</td><td>1.107309</td><td>1.107309</td></tr>\n",
       "\t<tr><th scope=row>OR4G4P</th><td>1.107309</td><td>1.107309</td><td>1.107309</td><td>1.107309</td><td>1.107309</td><td>1.107309</td><td>1.107309</td><td>1.107309</td><td>1.107309</td><td>1.107309</td><td>1.107309</td><td>1.107309</td></tr>\n",
       "\t<tr><th scope=row>OR4G11P</th><td>1.107309</td><td>1.107309</td><td>1.107309</td><td>1.107309</td><td>1.107309</td><td>1.107309</td><td>1.107309</td><td>1.107309</td><td>1.107309</td><td>1.107309</td><td>1.107309</td><td>1.107309</td></tr>\n",
       "</tbody>\n",
       "</table>\n"
      ],
      "text/latex": [
       "A matrix: 6 × 12 of type dbl\n",
       "\\begin{tabular}{r|llllllllllll}\n",
       "  & R-1090\\_ctr & R-1091\\_ctr & R-1092\\_CT913 & R-1093\\_CT913 & R-1094\\_CT\\_M1 & R-1095\\_CT\\_M1 & R-1096+BRCA1\\_ctr & R-1097+BRCA1\\_ctr & R-1098+BRCA1\\_CT913 & R-1099+BRCA1\\_CT913 & R-1100+BRCA1\\_CT\\_M1 & R-1101+BRCA1\\_CT\\_M1\\\\\n",
       "\\hline\n",
       "\tDDX11L1 & 1.107309 & 1.107309 & 1.107309 & 1.107309 & 1.107309 & 1.107309 & 1.107309 & 1.107309 & 1.107309 & 1.107309 & 1.107309 & 1.107309\\\\\n",
       "\tWASH7P & 1.765705 & 1.784488 & 1.810820 & 1.802271 & 1.839136 & 1.775229 & 1.750889 & 1.730048 & 1.750889 & 1.823249 & 1.806573 & 1.939195\\\\\n",
       "\tMIR1302-10 & 1.107309 & 1.107309 & 1.107309 & 1.107309 & 1.107309 & 1.107309 & 1.107309 & 1.107309 & 1.107309 & 1.107309 & 1.107309 & 1.107309\\\\\n",
       "\tFAM138A & 1.107309 & 1.107309 & 1.107309 & 1.107309 & 1.107309 & 1.107309 & 1.107309 & 1.107309 & 1.107309 & 1.107309 & 1.107309 & 1.107309\\\\\n",
       "\tOR4G4P & 1.107309 & 1.107309 & 1.107309 & 1.107309 & 1.107309 & 1.107309 & 1.107309 & 1.107309 & 1.107309 & 1.107309 & 1.107309 & 1.107309\\\\\n",
       "\tOR4G11P & 1.107309 & 1.107309 & 1.107309 & 1.107309 & 1.107309 & 1.107309 & 1.107309 & 1.107309 & 1.107309 & 1.107309 & 1.107309 & 1.107309\\\\\n",
       "\\end{tabular}\n"
      ],
      "text/markdown": [
       "\n",
       "A matrix: 6 × 12 of type dbl\n",
       "\n",
       "| <!--/--> | R-1090_ctr | R-1091_ctr | R-1092_CT913 | R-1093_CT913 | R-1094_CT_M1 | R-1095_CT_M1 | R-1096+BRCA1_ctr | R-1097+BRCA1_ctr | R-1098+BRCA1_CT913 | R-1099+BRCA1_CT913 | R-1100+BRCA1_CT_M1 | R-1101+BRCA1_CT_M1 |\n",
       "|---|---|---|---|---|---|---|---|---|---|---|---|---|\n",
       "| DDX11L1 | 1.107309 | 1.107309 | 1.107309 | 1.107309 | 1.107309 | 1.107309 | 1.107309 | 1.107309 | 1.107309 | 1.107309 | 1.107309 | 1.107309 |\n",
       "| WASH7P | 1.765705 | 1.784488 | 1.810820 | 1.802271 | 1.839136 | 1.775229 | 1.750889 | 1.730048 | 1.750889 | 1.823249 | 1.806573 | 1.939195 |\n",
       "| MIR1302-10 | 1.107309 | 1.107309 | 1.107309 | 1.107309 | 1.107309 | 1.107309 | 1.107309 | 1.107309 | 1.107309 | 1.107309 | 1.107309 | 1.107309 |\n",
       "| FAM138A | 1.107309 | 1.107309 | 1.107309 | 1.107309 | 1.107309 | 1.107309 | 1.107309 | 1.107309 | 1.107309 | 1.107309 | 1.107309 | 1.107309 |\n",
       "| OR4G4P | 1.107309 | 1.107309 | 1.107309 | 1.107309 | 1.107309 | 1.107309 | 1.107309 | 1.107309 | 1.107309 | 1.107309 | 1.107309 | 1.107309 |\n",
       "| OR4G11P | 1.107309 | 1.107309 | 1.107309 | 1.107309 | 1.107309 | 1.107309 | 1.107309 | 1.107309 | 1.107309 | 1.107309 | 1.107309 | 1.107309 |\n",
       "\n"
      ],
      "text/plain": [
       "           R-1090_ctr R-1091_ctr R-1092_CT913 R-1093_CT913 R-1094_CT_M1\n",
       "DDX11L1    1.107309   1.107309   1.107309     1.107309     1.107309    \n",
       "WASH7P     1.765705   1.784488   1.810820     1.802271     1.839136    \n",
       "MIR1302-10 1.107309   1.107309   1.107309     1.107309     1.107309    \n",
       "FAM138A    1.107309   1.107309   1.107309     1.107309     1.107309    \n",
       "OR4G4P     1.107309   1.107309   1.107309     1.107309     1.107309    \n",
       "OR4G11P    1.107309   1.107309   1.107309     1.107309     1.107309    \n",
       "           R-1095_CT_M1 R-1096+BRCA1_ctr R-1097+BRCA1_ctr R-1098+BRCA1_CT913\n",
       "DDX11L1    1.107309     1.107309         1.107309         1.107309          \n",
       "WASH7P     1.775229     1.750889         1.730048         1.750889          \n",
       "MIR1302-10 1.107309     1.107309         1.107309         1.107309          \n",
       "FAM138A    1.107309     1.107309         1.107309         1.107309          \n",
       "OR4G4P     1.107309     1.107309         1.107309         1.107309          \n",
       "OR4G11P    1.107309     1.107309         1.107309         1.107309          \n",
       "           R-1099+BRCA1_CT913 R-1100+BRCA1_CT_M1 R-1101+BRCA1_CT_M1\n",
       "DDX11L1    1.107309           1.107309           1.107309          \n",
       "WASH7P     1.823249           1.806573           1.939195          \n",
       "MIR1302-10 1.107309           1.107309           1.107309          \n",
       "FAM138A    1.107309           1.107309           1.107309          \n",
       "OR4G4P     1.107309           1.107309           1.107309          \n",
       "OR4G11P    1.107309           1.107309           1.107309          "
      ]
     },
     "metadata": {},
     "output_type": "display_data"
    },
    {
     "data": {
      "text/html": [
       "<style>\n",
       ".list-inline {list-style: none; margin:0; padding: 0}\n",
       ".list-inline>li {display: inline-block}\n",
       ".list-inline>li:not(:last-child)::after {content: \"\\00b7\"; padding: 0 .5ex}\n",
       "</style>\n",
       "<ol class=list-inline><li>57424</li><li>12</li></ol>\n"
      ],
      "text/latex": [
       "\\begin{enumerate*}\n",
       "\\item 57424\n",
       "\\item 12\n",
       "\\end{enumerate*}\n"
      ],
      "text/markdown": [
       "1. 57424\n",
       "2. 12\n",
       "\n",
       "\n"
      ],
      "text/plain": [
       "[1] 57424    12"
      ]
     },
     "metadata": {},
     "output_type": "display_data"
    },
    {
     "data": {
      "text/html": [
       "<table class=\"dataframe\">\n",
       "<caption>A matrix: 6 × 2 of type dbl</caption>\n",
       "<thead>\n",
       "\t<tr><th></th><th scope=col>DDX11L1</th><th scope=col>WASH7P</th></tr>\n",
       "</thead>\n",
       "<tbody>\n",
       "\t<tr><th scope=row>R-1090_ctr</th><td>1.107309</td><td>1.765705</td></tr>\n",
       "\t<tr><th scope=row>R-1091_ctr</th><td>1.107309</td><td>1.784488</td></tr>\n",
       "\t<tr><th scope=row>R-1092_CT913</th><td>1.107309</td><td>1.810820</td></tr>\n",
       "\t<tr><th scope=row>R-1093_CT913</th><td>1.107309</td><td>1.802271</td></tr>\n",
       "\t<tr><th scope=row>R-1094_CT_M1</th><td>1.107309</td><td>1.839136</td></tr>\n",
       "\t<tr><th scope=row>R-1095_CT_M1</th><td>1.107309</td><td>1.775229</td></tr>\n",
       "</tbody>\n",
       "</table>\n"
      ],
      "text/latex": [
       "A matrix: 6 × 2 of type dbl\n",
       "\\begin{tabular}{r|ll}\n",
       "  & DDX11L1 & WASH7P\\\\\n",
       "\\hline\n",
       "\tR-1090\\_ctr & 1.107309 & 1.765705\\\\\n",
       "\tR-1091\\_ctr & 1.107309 & 1.784488\\\\\n",
       "\tR-1092\\_CT913 & 1.107309 & 1.810820\\\\\n",
       "\tR-1093\\_CT913 & 1.107309 & 1.802271\\\\\n",
       "\tR-1094\\_CT\\_M1 & 1.107309 & 1.839136\\\\\n",
       "\tR-1095\\_CT\\_M1 & 1.107309 & 1.775229\\\\\n",
       "\\end{tabular}\n"
      ],
      "text/markdown": [
       "\n",
       "A matrix: 6 × 2 of type dbl\n",
       "\n",
       "| <!--/--> | DDX11L1 | WASH7P |\n",
       "|---|---|---|\n",
       "| R-1090_ctr | 1.107309 | 1.765705 |\n",
       "| R-1091_ctr | 1.107309 | 1.784488 |\n",
       "| R-1092_CT913 | 1.107309 | 1.810820 |\n",
       "| R-1093_CT913 | 1.107309 | 1.802271 |\n",
       "| R-1094_CT_M1 | 1.107309 | 1.839136 |\n",
       "| R-1095_CT_M1 | 1.107309 | 1.775229 |\n",
       "\n"
      ],
      "text/plain": [
       "             DDX11L1  WASH7P  \n",
       "R-1090_ctr   1.107309 1.765705\n",
       "R-1091_ctr   1.107309 1.784488\n",
       "R-1092_CT913 1.107309 1.810820\n",
       "R-1093_CT913 1.107309 1.802271\n",
       "R-1094_CT_M1 1.107309 1.839136\n",
       "R-1095_CT_M1 1.107309 1.775229"
      ]
     },
     "metadata": {},
     "output_type": "display_data"
    },
    {
     "data": {
      "text/html": [
       "<style>\n",
       ".list-inline {list-style: none; margin:0; padding: 0}\n",
       ".list-inline>li {display: inline-block}\n",
       ".list-inline>li:not(:last-child)::after {content: \"\\00b7\"; padding: 0 .5ex}\n",
       "</style>\n",
       "<ol class=list-inline><li>'sdev'</li><li>'rotation'</li><li>'center'</li><li>'scale'</li><li>'x'</li></ol>\n"
      ],
      "text/latex": [
       "\\begin{enumerate*}\n",
       "\\item 'sdev'\n",
       "\\item 'rotation'\n",
       "\\item 'center'\n",
       "\\item 'scale'\n",
       "\\item 'x'\n",
       "\\end{enumerate*}\n"
      ],
      "text/markdown": [
       "1. 'sdev'\n",
       "2. 'rotation'\n",
       "3. 'center'\n",
       "4. 'scale'\n",
       "5. 'x'\n",
       "\n",
       "\n"
      ],
      "text/plain": [
       "[1] \"sdev\"     \"rotation\" \"center\"   \"scale\"    \"x\"       "
      ]
     },
     "metadata": {},
     "output_type": "display_data"
    },
    {
     "data": {
      "text/html": [
       "<style>\n",
       ".list-inline {list-style: none; margin:0; padding: 0}\n",
       ".list-inline>li {display: inline-block}\n",
       ".list-inline>li:not(:last-child)::after {content: \"\\00b7\"; padding: 0 .5ex}\n",
       "</style>\n",
       "<ol class=list-inline><li>12</li><li>12</li></ol>\n"
      ],
      "text/latex": [
       "\\begin{enumerate*}\n",
       "\\item 12\n",
       "\\item 12\n",
       "\\end{enumerate*}\n"
      ],
      "text/markdown": [
       "1. 12\n",
       "2. 12\n",
       "\n",
       "\n"
      ],
      "text/plain": [
       "[1] 12 12"
      ]
     },
     "metadata": {},
     "output_type": "display_data"
    },
    {
     "data": {
      "text/html": [
       "12"
      ],
      "text/latex": [
       "12"
      ],
      "text/markdown": [
       "12"
      ],
      "text/plain": [
       "[1] 12"
      ]
     },
     "metadata": {},
     "output_type": "display_data"
    },
    {
     "data": {
      "text/html": [
       "<style>\n",
       ".dl-inline {width: auto; margin:0; padding: 0}\n",
       ".dl-inline>dt, .dl-inline>dd {float: none; width: auto; display: inline-block}\n",
       ".dl-inline>dt::after {content: \":\\0020\"; padding-right: .5ex}\n",
       ".dl-inline>dt:not(:first-of-type) {padding-left: .5ex}\n",
       "</style><dl class=dl-inline><dt>R-1090_ctr</dt><dd>-3.16642615787317</dd><dt>R-1091_ctr</dt><dd>-3.17328469684396</dd><dt>R-1092_CT913</dt><dd>-7.67096524380727</dd><dt>R-1093_CT913</dt><dd>-8.03734111973549</dd></dl>\n"
      ],
      "text/latex": [
       "\\begin{description*}\n",
       "\\item[R-1090\\textbackslash{}\\_ctr] -3.16642615787317\n",
       "\\item[R-1091\\textbackslash{}\\_ctr] -3.17328469684396\n",
       "\\item[R-1092\\textbackslash{}\\_CT913] -7.67096524380727\n",
       "\\item[R-1093\\textbackslash{}\\_CT913] -8.03734111973549\n",
       "\\end{description*}\n"
      ],
      "text/markdown": [
       "R-1090_ctr\n",
       ":   -3.16642615787317R-1091_ctr\n",
       ":   -3.17328469684396R-1092_CT913\n",
       ":   -7.67096524380727R-1093_CT913\n",
       ":   -8.03734111973549\n",
       "\n"
      ],
      "text/plain": [
       "  R-1090_ctr   R-1091_ctr R-1092_CT913 R-1093_CT913 \n",
       "   -3.166426    -3.173285    -7.670965    -8.037341 "
      ]
     },
     "metadata": {},
     "output_type": "display_data"
    },
    {
     "data": {
      "text/html": [
       "<table class=\"dataframe\">\n",
       "<caption>A matrix: 6 × 12 of type dbl</caption>\n",
       "<thead>\n",
       "\t<tr><th></th><th scope=col>PC1</th><th scope=col>PC2</th><th scope=col>PC3</th><th scope=col>PC4</th><th scope=col>PC5</th><th scope=col>PC6</th><th scope=col>PC7</th><th scope=col>PC8</th><th scope=col>PC9</th><th scope=col>PC10</th><th scope=col>PC11</th><th scope=col>PC12</th></tr>\n",
       "</thead>\n",
       "<tbody>\n",
       "\t<tr><th scope=row>R-1090_ctr</th><td>-3.166426</td><td> 5.077186</td><td>-4.9837252</td><td> 1.394431</td><td>-3.371972</td><td> 0.2980575</td><td> 0.22858383</td><td> 1.6205188</td><td> 4.59912024</td><td>-0.18781355</td><td> 0.7480870</td><td>5.117900e-14</td></tr>\n",
       "\t<tr><th scope=row>R-1091_ctr</th><td>-3.173285</td><td> 5.366006</td><td>-4.2847138</td><td> 1.780674</td><td>-2.970432</td><td>-1.7613725</td><td>-1.77630958</td><td>-1.3159196</td><td>-4.42166610</td><td> 0.33673954</td><td> 0.4335788</td><td>3.074293e-14</td></tr>\n",
       "\t<tr><th scope=row>R-1092_CT913</th><td>-7.670965</td><td>-5.055368</td><td> 0.7376444</td><td> 1.766700</td><td> 1.000931</td><td>-3.0941277</td><td> 5.10644600</td><td>-1.1512718</td><td>-0.02030696</td><td> 0.13314631</td><td> 0.5643038</td><td>1.508255e-14</td></tr>\n",
       "\t<tr><th scope=row>R-1093_CT913</th><td>-8.037341</td><td>-4.971976</td><td> 2.1144175</td><td> 4.528782</td><td> 2.566587</td><td> 2.9128913</td><td>-3.31158918</td><td> 0.3940284</td><td> 0.19002253</td><td> 0.06958912</td><td> 0.3100122</td><td>1.409447e-14</td></tr>\n",
       "\t<tr><th scope=row>R-1094_CT_M1</th><td>-5.619095</td><td> 4.442329</td><td> 1.5866079</td><td>-2.606908</td><td> 1.414163</td><td>-0.7094265</td><td> 0.01562223</td><td> 2.6233913</td><td>-0.53580206</td><td>-0.95621201</td><td>-4.5536754</td><td>2.779786e-14</td></tr>\n",
       "\t<tr><th scope=row>R-1095_CT_M1</th><td>-5.865990</td><td> 4.054418</td><td> 1.0822180</td><td>-5.763131</td><td> 1.334886</td><td> 2.5565747</td><td> 0.07900100</td><td>-2.4610814</td><td> 0.17178866</td><td> 0.46481212</td><td> 2.4180553</td><td>2.568507e-14</td></tr>\n",
       "</tbody>\n",
       "</table>\n"
      ],
      "text/latex": [
       "A matrix: 6 × 12 of type dbl\n",
       "\\begin{tabular}{r|llllllllllll}\n",
       "  & PC1 & PC2 & PC3 & PC4 & PC5 & PC6 & PC7 & PC8 & PC9 & PC10 & PC11 & PC12\\\\\n",
       "\\hline\n",
       "\tR-1090\\_ctr & -3.166426 &  5.077186 & -4.9837252 &  1.394431 & -3.371972 &  0.2980575 &  0.22858383 &  1.6205188 &  4.59912024 & -0.18781355 &  0.7480870 & 5.117900e-14\\\\\n",
       "\tR-1091\\_ctr & -3.173285 &  5.366006 & -4.2847138 &  1.780674 & -2.970432 & -1.7613725 & -1.77630958 & -1.3159196 & -4.42166610 &  0.33673954 &  0.4335788 & 3.074293e-14\\\\\n",
       "\tR-1092\\_CT913 & -7.670965 & -5.055368 &  0.7376444 &  1.766700 &  1.000931 & -3.0941277 &  5.10644600 & -1.1512718 & -0.02030696 &  0.13314631 &  0.5643038 & 1.508255e-14\\\\\n",
       "\tR-1093\\_CT913 & -8.037341 & -4.971976 &  2.1144175 &  4.528782 &  2.566587 &  2.9128913 & -3.31158918 &  0.3940284 &  0.19002253 &  0.06958912 &  0.3100122 & 1.409447e-14\\\\\n",
       "\tR-1094\\_CT\\_M1 & -5.619095 &  4.442329 &  1.5866079 & -2.606908 &  1.414163 & -0.7094265 &  0.01562223 &  2.6233913 & -0.53580206 & -0.95621201 & -4.5536754 & 2.779786e-14\\\\\n",
       "\tR-1095\\_CT\\_M1 & -5.865990 &  4.054418 &  1.0822180 & -5.763131 &  1.334886 &  2.5565747 &  0.07900100 & -2.4610814 &  0.17178866 &  0.46481212 &  2.4180553 & 2.568507e-14\\\\\n",
       "\\end{tabular}\n"
      ],
      "text/markdown": [
       "\n",
       "A matrix: 6 × 12 of type dbl\n",
       "\n",
       "| <!--/--> | PC1 | PC2 | PC3 | PC4 | PC5 | PC6 | PC7 | PC8 | PC9 | PC10 | PC11 | PC12 |\n",
       "|---|---|---|---|---|---|---|---|---|---|---|---|---|\n",
       "| R-1090_ctr | -3.166426 |  5.077186 | -4.9837252 |  1.394431 | -3.371972 |  0.2980575 |  0.22858383 |  1.6205188 |  4.59912024 | -0.18781355 |  0.7480870 | 5.117900e-14 |\n",
       "| R-1091_ctr | -3.173285 |  5.366006 | -4.2847138 |  1.780674 | -2.970432 | -1.7613725 | -1.77630958 | -1.3159196 | -4.42166610 |  0.33673954 |  0.4335788 | 3.074293e-14 |\n",
       "| R-1092_CT913 | -7.670965 | -5.055368 |  0.7376444 |  1.766700 |  1.000931 | -3.0941277 |  5.10644600 | -1.1512718 | -0.02030696 |  0.13314631 |  0.5643038 | 1.508255e-14 |\n",
       "| R-1093_CT913 | -8.037341 | -4.971976 |  2.1144175 |  4.528782 |  2.566587 |  2.9128913 | -3.31158918 |  0.3940284 |  0.19002253 |  0.06958912 |  0.3100122 | 1.409447e-14 |\n",
       "| R-1094_CT_M1 | -5.619095 |  4.442329 |  1.5866079 | -2.606908 |  1.414163 | -0.7094265 |  0.01562223 |  2.6233913 | -0.53580206 | -0.95621201 | -4.5536754 | 2.779786e-14 |\n",
       "| R-1095_CT_M1 | -5.865990 |  4.054418 |  1.0822180 | -5.763131 |  1.334886 |  2.5565747 |  0.07900100 | -2.4610814 |  0.17178866 |  0.46481212 |  2.4180553 | 2.568507e-14 |\n",
       "\n"
      ],
      "text/plain": [
       "             PC1       PC2       PC3        PC4       PC5       PC6       \n",
       "R-1090_ctr   -3.166426  5.077186 -4.9837252  1.394431 -3.371972  0.2980575\n",
       "R-1091_ctr   -3.173285  5.366006 -4.2847138  1.780674 -2.970432 -1.7613725\n",
       "R-1092_CT913 -7.670965 -5.055368  0.7376444  1.766700  1.000931 -3.0941277\n",
       "R-1093_CT913 -8.037341 -4.971976  2.1144175  4.528782  2.566587  2.9128913\n",
       "R-1094_CT_M1 -5.619095  4.442329  1.5866079 -2.606908  1.414163 -0.7094265\n",
       "R-1095_CT_M1 -5.865990  4.054418  1.0822180 -5.763131  1.334886  2.5565747\n",
       "             PC7         PC8        PC9         PC10        PC11      \n",
       "R-1090_ctr    0.22858383  1.6205188  4.59912024 -0.18781355  0.7480870\n",
       "R-1091_ctr   -1.77630958 -1.3159196 -4.42166610  0.33673954  0.4335788\n",
       "R-1092_CT913  5.10644600 -1.1512718 -0.02030696  0.13314631  0.5643038\n",
       "R-1093_CT913 -3.31158918  0.3940284  0.19002253  0.06958912  0.3100122\n",
       "R-1094_CT_M1  0.01562223  2.6233913 -0.53580206 -0.95621201 -4.5536754\n",
       "R-1095_CT_M1  0.07900100 -2.4610814  0.17178866  0.46481212  2.4180553\n",
       "             PC12        \n",
       "R-1090_ctr   5.117900e-14\n",
       "R-1091_ctr   3.074293e-14\n",
       "R-1092_CT913 1.508255e-14\n",
       "R-1093_CT913 1.409447e-14\n",
       "R-1094_CT_M1 2.779786e-14\n",
       "R-1095_CT_M1 2.568507e-14"
      ]
     },
     "metadata": {},
     "output_type": "display_data"
    },
    {
     "data": {
      "text/html": [
       "<style>\n",
       ".list-inline {list-style: none; margin:0; padding: 0}\n",
       ".list-inline>li {display: inline-block}\n",
       ".list-inline>li:not(:last-child)::after {content: \"\\00b7\"; padding: 0 .5ex}\n",
       "</style>\n",
       "<ol class=list-inline><li>12</li><li>15</li></ol>\n"
      ],
      "text/latex": [
       "\\begin{enumerate*}\n",
       "\\item 12\n",
       "\\item 15\n",
       "\\end{enumerate*}\n"
      ],
      "text/markdown": [
       "1. 12\n",
       "2. 15\n",
       "\n",
       "\n"
      ],
      "text/plain": [
       "[1] 12 15"
      ]
     },
     "metadata": {},
     "output_type": "display_data"
    },
    {
     "data": {
      "text/html": [
       "<table class=\"dataframe\">\n",
       "<caption>A data.frame: 6 × 15</caption>\n",
       "<thead>\n",
       "\t<tr><th></th><th scope=col>PC1</th><th scope=col>PC2</th><th scope=col>PC3</th><th scope=col>PC4</th><th scope=col>PC5</th><th scope=col>PC6</th><th scope=col>PC7</th><th scope=col>PC8</th><th scope=col>PC9</th><th scope=col>PC10</th><th scope=col>PC11</th><th scope=col>PC12</th><th scope=col>attrib1</th><th scope=col>attrib2</th><th scope=col>sampleID</th></tr>\n",
       "\t<tr><th></th><th scope=col>&lt;dbl&gt;</th><th scope=col>&lt;dbl&gt;</th><th scope=col>&lt;dbl&gt;</th><th scope=col>&lt;dbl&gt;</th><th scope=col>&lt;dbl&gt;</th><th scope=col>&lt;dbl&gt;</th><th scope=col>&lt;dbl&gt;</th><th scope=col>&lt;dbl&gt;</th><th scope=col>&lt;dbl&gt;</th><th scope=col>&lt;dbl&gt;</th><th scope=col>&lt;dbl&gt;</th><th scope=col>&lt;dbl&gt;</th><th scope=col>&lt;chr&gt;</th><th scope=col>&lt;dbl&gt;</th><th scope=col>&lt;chr&gt;</th></tr>\n",
       "</thead>\n",
       "<tbody>\n",
       "\t<tr><th scope=row>R-1090_ctr</th><td>-3.166426</td><td> 5.077186</td><td>-4.9837252</td><td> 1.394431</td><td>-3.371972</td><td> 0.2980575</td><td> 0.22858383</td><td> 1.6205188</td><td> 4.59912024</td><td>-0.18781355</td><td> 0.7480870</td><td>5.117900e-14</td><td>0    </td><td>3804.7</td><td>R-1090_ctr  </td></tr>\n",
       "\t<tr><th scope=row>R-1091_ctr</th><td>-3.173285</td><td> 5.366006</td><td>-4.2847138</td><td> 1.780674</td><td>-2.970432</td><td>-1.7613725</td><td>-1.77630958</td><td>-1.3159196</td><td>-4.42166610</td><td> 0.33673954</td><td> 0.4335788</td><td>3.074293e-14</td><td>0    </td><td>3383.5</td><td>R-1091_ctr  </td></tr>\n",
       "\t<tr><th scope=row>R-1092_CT913</th><td>-7.670965</td><td>-5.055368</td><td> 0.7376444</td><td> 1.766700</td><td> 1.000931</td><td>-3.0941277</td><td> 5.10644600</td><td>-1.1512718</td><td>-0.02030696</td><td> 0.13314631</td><td> 0.5643038</td><td>1.508255e-14</td><td>CT913</td><td>2859.8</td><td>R-1092_CT913</td></tr>\n",
       "\t<tr><th scope=row>R-1093_CT913</th><td>-8.037341</td><td>-4.971976</td><td> 2.1144175</td><td> 4.528782</td><td> 2.566587</td><td> 2.9128913</td><td>-3.31158918</td><td> 0.3940284</td><td> 0.19002253</td><td> 0.06958912</td><td> 0.3100122</td><td>1.409447e-14</td><td>CT913</td><td>3208.5</td><td>R-1093_CT913</td></tr>\n",
       "\t<tr><th scope=row>R-1094_CT_M1</th><td>-5.619095</td><td> 4.442329</td><td> 1.5866079</td><td>-2.606908</td><td> 1.414163</td><td>-0.7094265</td><td> 0.01562223</td><td> 2.6233913</td><td>-0.53580206</td><td>-0.95621201</td><td>-4.5536754</td><td>2.779786e-14</td><td>CT_M1</td><td>2805.7</td><td>R-1094_CT_M1</td></tr>\n",
       "\t<tr><th scope=row>R-1095_CT_M1</th><td>-5.865990</td><td> 4.054418</td><td> 1.0822180</td><td>-5.763131</td><td> 1.334886</td><td> 2.5565747</td><td> 0.07900100</td><td>-2.4610814</td><td> 0.17178866</td><td> 0.46481212</td><td> 2.4180553</td><td>2.568507e-14</td><td>CT_M1</td><td>2958.1</td><td>R-1095_CT_M1</td></tr>\n",
       "</tbody>\n",
       "</table>\n"
      ],
      "text/latex": [
       "A data.frame: 6 × 15\n",
       "\\begin{tabular}{r|lllllllllllllll}\n",
       "  & PC1 & PC2 & PC3 & PC4 & PC5 & PC6 & PC7 & PC8 & PC9 & PC10 & PC11 & PC12 & attrib1 & attrib2 & sampleID\\\\\n",
       "  & <dbl> & <dbl> & <dbl> & <dbl> & <dbl> & <dbl> & <dbl> & <dbl> & <dbl> & <dbl> & <dbl> & <dbl> & <chr> & <dbl> & <chr>\\\\\n",
       "\\hline\n",
       "\tR-1090\\_ctr & -3.166426 &  5.077186 & -4.9837252 &  1.394431 & -3.371972 &  0.2980575 &  0.22858383 &  1.6205188 &  4.59912024 & -0.18781355 &  0.7480870 & 5.117900e-14 & 0     & 3804.7 & R-1090\\_ctr  \\\\\n",
       "\tR-1091\\_ctr & -3.173285 &  5.366006 & -4.2847138 &  1.780674 & -2.970432 & -1.7613725 & -1.77630958 & -1.3159196 & -4.42166610 &  0.33673954 &  0.4335788 & 3.074293e-14 & 0     & 3383.5 & R-1091\\_ctr  \\\\\n",
       "\tR-1092\\_CT913 & -7.670965 & -5.055368 &  0.7376444 &  1.766700 &  1.000931 & -3.0941277 &  5.10644600 & -1.1512718 & -0.02030696 &  0.13314631 &  0.5643038 & 1.508255e-14 & CT913 & 2859.8 & R-1092\\_CT913\\\\\n",
       "\tR-1093\\_CT913 & -8.037341 & -4.971976 &  2.1144175 &  4.528782 &  2.566587 &  2.9128913 & -3.31158918 &  0.3940284 &  0.19002253 &  0.06958912 &  0.3100122 & 1.409447e-14 & CT913 & 3208.5 & R-1093\\_CT913\\\\\n",
       "\tR-1094\\_CT\\_M1 & -5.619095 &  4.442329 &  1.5866079 & -2.606908 &  1.414163 & -0.7094265 &  0.01562223 &  2.6233913 & -0.53580206 & -0.95621201 & -4.5536754 & 2.779786e-14 & CT\\_M1 & 2805.7 & R-1094\\_CT\\_M1\\\\\n",
       "\tR-1095\\_CT\\_M1 & -5.865990 &  4.054418 &  1.0822180 & -5.763131 &  1.334886 &  2.5565747 &  0.07900100 & -2.4610814 &  0.17178866 &  0.46481212 &  2.4180553 & 2.568507e-14 & CT\\_M1 & 2958.1 & R-1095\\_CT\\_M1\\\\\n",
       "\\end{tabular}\n"
      ],
      "text/markdown": [
       "\n",
       "A data.frame: 6 × 15\n",
       "\n",
       "| <!--/--> | PC1 &lt;dbl&gt; | PC2 &lt;dbl&gt; | PC3 &lt;dbl&gt; | PC4 &lt;dbl&gt; | PC5 &lt;dbl&gt; | PC6 &lt;dbl&gt; | PC7 &lt;dbl&gt; | PC8 &lt;dbl&gt; | PC9 &lt;dbl&gt; | PC10 &lt;dbl&gt; | PC11 &lt;dbl&gt; | PC12 &lt;dbl&gt; | attrib1 &lt;chr&gt; | attrib2 &lt;dbl&gt; | sampleID &lt;chr&gt; |\n",
       "|---|---|---|---|---|---|---|---|---|---|---|---|---|---|---|---|\n",
       "| R-1090_ctr | -3.166426 |  5.077186 | -4.9837252 |  1.394431 | -3.371972 |  0.2980575 |  0.22858383 |  1.6205188 |  4.59912024 | -0.18781355 |  0.7480870 | 5.117900e-14 | 0     | 3804.7 | R-1090_ctr   |\n",
       "| R-1091_ctr | -3.173285 |  5.366006 | -4.2847138 |  1.780674 | -2.970432 | -1.7613725 | -1.77630958 | -1.3159196 | -4.42166610 |  0.33673954 |  0.4335788 | 3.074293e-14 | 0     | 3383.5 | R-1091_ctr   |\n",
       "| R-1092_CT913 | -7.670965 | -5.055368 |  0.7376444 |  1.766700 |  1.000931 | -3.0941277 |  5.10644600 | -1.1512718 | -0.02030696 |  0.13314631 |  0.5643038 | 1.508255e-14 | CT913 | 2859.8 | R-1092_CT913 |\n",
       "| R-1093_CT913 | -8.037341 | -4.971976 |  2.1144175 |  4.528782 |  2.566587 |  2.9128913 | -3.31158918 |  0.3940284 |  0.19002253 |  0.06958912 |  0.3100122 | 1.409447e-14 | CT913 | 3208.5 | R-1093_CT913 |\n",
       "| R-1094_CT_M1 | -5.619095 |  4.442329 |  1.5866079 | -2.606908 |  1.414163 | -0.7094265 |  0.01562223 |  2.6233913 | -0.53580206 | -0.95621201 | -4.5536754 | 2.779786e-14 | CT_M1 | 2805.7 | R-1094_CT_M1 |\n",
       "| R-1095_CT_M1 | -5.865990 |  4.054418 |  1.0822180 | -5.763131 |  1.334886 |  2.5565747 |  0.07900100 | -2.4610814 |  0.17178866 |  0.46481212 |  2.4180553 | 2.568507e-14 | CT_M1 | 2958.1 | R-1095_CT_M1 |\n",
       "\n"
      ],
      "text/plain": [
       "             PC1       PC2       PC3        PC4       PC5       PC6       \n",
       "R-1090_ctr   -3.166426  5.077186 -4.9837252  1.394431 -3.371972  0.2980575\n",
       "R-1091_ctr   -3.173285  5.366006 -4.2847138  1.780674 -2.970432 -1.7613725\n",
       "R-1092_CT913 -7.670965 -5.055368  0.7376444  1.766700  1.000931 -3.0941277\n",
       "R-1093_CT913 -8.037341 -4.971976  2.1144175  4.528782  2.566587  2.9128913\n",
       "R-1094_CT_M1 -5.619095  4.442329  1.5866079 -2.606908  1.414163 -0.7094265\n",
       "R-1095_CT_M1 -5.865990  4.054418  1.0822180 -5.763131  1.334886  2.5565747\n",
       "             PC7         PC8        PC9         PC10        PC11      \n",
       "R-1090_ctr    0.22858383  1.6205188  4.59912024 -0.18781355  0.7480870\n",
       "R-1091_ctr   -1.77630958 -1.3159196 -4.42166610  0.33673954  0.4335788\n",
       "R-1092_CT913  5.10644600 -1.1512718 -0.02030696  0.13314631  0.5643038\n",
       "R-1093_CT913 -3.31158918  0.3940284  0.19002253  0.06958912  0.3100122\n",
       "R-1094_CT_M1  0.01562223  2.6233913 -0.53580206 -0.95621201 -4.5536754\n",
       "R-1095_CT_M1  0.07900100 -2.4610814  0.17178866  0.46481212  2.4180553\n",
       "             PC12         attrib1 attrib2 sampleID    \n",
       "R-1090_ctr   5.117900e-14 0       3804.7  R-1090_ctr  \n",
       "R-1091_ctr   3.074293e-14 0       3383.5  R-1091_ctr  \n",
       "R-1092_CT913 1.508255e-14 CT913   2859.8  R-1092_CT913\n",
       "R-1093_CT913 1.409447e-14 CT913   3208.5  R-1093_CT913\n",
       "R-1094_CT_M1 2.779786e-14 CT_M1   2805.7  R-1094_CT_M1\n",
       "R-1095_CT_M1 2.568507e-14 CT_M1   2958.1  R-1095_CT_M1"
      ]
     },
     "metadata": {},
     "output_type": "display_data"
    },
    {
     "name": "stdout",
     "output_type": "stream",
     "text": [
      "writing clustering/pca-group-RNA_concentation.pdf \n"
     ]
    }
   ],
   "source": [
    "print(\"PCA...\")\n",
    "# PCA rlog RPKM:\n",
    "head(TPMsRlog)\n",
    "dim(TPMsRlog)\n",
    "head(t(TPMsRlog)[,1:2])\n",
    "pc <- prcomp(t(TPMsRlog)) # samples must be rows of the data\n",
    "names(pc)\n",
    "dim(pc$x)\n",
    "length(pc$x[,1])\n",
    "pc$x[1:4,1]\n",
    "head(pc$x)\n",
    "pcs_plot <- as.data.frame(pc$x)\n",
    "pcs_plot[,annotAttrib] <- sampleAnnotForPlot[rownames(pcs_plot),annotAttrib]\n",
    "pc3exists <- ifelse(\"PC3\" %in% colnames(pcs_plot),T,F) \n",
    "for (i in 1:length(annotAttrib)) {\n",
    "  colnames(pcs_plot)[which(colnames(pcs_plot)==annotAttrib[i])] <- as.character(paste0(\"attrib\",i))\n",
    "}\n",
    "pcs_plot[,\"sampleID\"] <- rownames(pcs_plot)\n",
    "\n",
    "dim(pcs_plot)\n",
    "head(pcs_plot)\n",
    "pcaOutFile <- paste0(\"pca-\",paste(annotAttrib[1:2],collapse=\"-\"),\".pdf\")\n",
    "cat(\"writing\",paste(outDir,pcaOutFile,sep=\"\"),\"\\n\")\n",
    "\n",
    "maxNameLength <- max(nchar(pcs_plot[,\"sampleID\"]))"
   ]
  },
  {
   "cell_type": "code",
   "execution_count": 47,
   "id": "79f3ff05",
   "metadata": {},
   "outputs": [
    {
     "name": "stdout",
     "output_type": "stream",
     "text": [
      "stopA"
     ]
    },
    {
     "name": "stderr",
     "output_type": "stream",
     "text": [
      "Warning message:\n",
      "“`guides(<scale> = FALSE)` is deprecated. Please use `guides(<scale> = \"none\")` instead.”\n",
      "Warning message:\n",
      "“`guides(<scale> = FALSE)` is deprecated. Please use `guides(<scale> = \"none\")` instead.”\n",
      "Warning message:\n",
      "“`guides(<scale> = FALSE)` is deprecated. Please use `guides(<scale> = \"none\")` instead.”\n",
      "Warning message:\n",
      "“`guides(<scale> = FALSE)` is deprecated. Please use `guides(<scale> = \"none\")` instead.”\n"
     ]
    },
    {
     "data": {
      "text/html": [
       "<strong>png:</strong> 2"
      ],
      "text/latex": [
       "\\textbf{png:} 2"
      ],
      "text/markdown": [
       "**png:** 2"
      ],
      "text/plain": [
       "png \n",
       "  2 "
      ]
     },
     "metadata": {},
     "output_type": "display_data"
    },
    {
     "name": "stdout",
     "output_type": "stream",
     "text": [
      "[1] \"done\"\n"
     ]
    }
   ],
   "source": [
    "pdf(width = 5+(round(maxNameLength/27)),height = 4,paste(outDir,pcaOutFile,sep=\"\"))\n",
    "\n",
    "# depending on how many attributes shall be annotated:\n",
    "# 1 -> point fill color\n",
    "# 2 -> point fill color and shape\n",
    "# 3 -> point fill, shape, border color, todo ... \n",
    "\n",
    "# \n",
    "#  todo:\n",
    "# - selected continuous scale of pca still don't match those of heatmaps?!\n",
    "#  - check if pre-defined color scales (in annotation.csv) still work\n",
    "\n",
    "if (length(annotAttrib)==1) {\n",
    "  p1 <- ggplot(data = pcs_plot, aes(x = PC1, y = PC2,fill=attrib1)) + \n",
    "    geom_point(shape=21, size=2.5) + \n",
    "    labs(title=expression(\"PCA of regularized \"~log[2]~\"(TPMs)\")) +\n",
    "    geom_text(aes(label=sampleID),hjust=-0.1, vjust=0,size = 1.4, color=\"#555555\")+ \n",
    "    scale_x_continuous(limits = c(min(pcs_plot$PC1), max(pcs_plot$PC1)*1.2)) + \n",
    "    labs(fill=annotAttrib[1]) \n",
    "  \n",
    "  if(pc3exists) {\n",
    "    p2 <- ggplot(data = pcs_plot, aes(x = PC2, y = PC3,fill=attrib1)) + \n",
    "      geom_point(shape=21, size=2.5) + \n",
    "      labs(title=expression(\"PCA of regularized \"~log[2]~\"(TPMs)\")) +\n",
    "      geom_text(aes(label=sampleID),hjust=-0.1, vjust=0,size = 1.4, color=\"#555555\")+ \n",
    "      scale_x_continuous(limits = c(min(pcs_plot$PC2), max(pcs_plot$PC2)*1.2)) + \n",
    "      labs(fill=annotAttrib[1]) \n",
    "  }\n",
    "  if (is.numeric(sampleAnnotForPlot[,1])) { # continuous scale:\n",
    "    p1 <- p1 + scale_fill_gradient2(low = myColrRamps[1,1],mid = myColrRamps[1,2],high = myColrRamps[1,3], \n",
    "                                    midpoint = mean(pcs_plot[,\"attrib1\"]))\n",
    "    if(pc3exists) {\n",
    "      p2 <- p2 + scale_fill_gradient2(low = myColrRamps[1,1],mid = myColrRamps[1,2],high = myColrRamps[1,3], \n",
    "                                    midpoint = mean(pcs_plot[,\"attrib1\"]))\n",
    "    }\n",
    "  } else { # manual scale:\n",
    "    p1 <- p1 + scale_fill_manual(values=annotColor[[1]])\n",
    "    if(pc3exists) {\n",
    "      p2 <- p2 + scale_fill_manual(values=annotColor[[1]])\n",
    "    }\n",
    "    scale_fill_manual(name=annotAttrib[1],values=annotColor[[1]])\n",
    "  }\n",
    "  \n",
    "  grid.arrange(p1)\n",
    "  if(pc3exists) {  grid.arrange(p2)  }\n",
    "}\n",
    "\n",
    "\n",
    "# todo: when first attrib as shape, second can be continuous\n",
    "#  -> add continuous scale just as in case where attrib 1 is not shape\n",
    "# todo2: + geom_text() + labs() + ...   etc. only once at end, not in each case\n",
    "\n",
    "if (length(annotAttrib)>=2) {\n",
    "  \n",
    "  # first attrib less than 6 instances? -> plot it as shape\n",
    "  if(!is.numeric(sampleAnnotForPlot[,1]) & length(unique(pcs_plot$attrib1))<6) {\n",
    "   p1 <- ggplot(data = pcs_plot, aes(x = PC1, y = PC2,shape=attrib1,fill=attrib2, color=attrib2)) + \n",
    "      geom_point( size=2.5,alpha=0.9) + \n",
    "      labs(title=expression(\"PCA of regularized \"~log[2]~\"(TPMs)\"),\n",
    "           shape=annotAttrib[1], color=annotAttrib[2])  + guides(fill=F)  +\n",
    "      #geom_text(aes(label=sampleID),hjust=-0.1, vjust=0,size = 1.4, color=\"#555555\") + \n",
    "      #geom_text_repel(aes(label=sampleID),size = 1.4, color=\"#555555\") + \n",
    "      geom_text_repel(aes(label=sampleID),size = 1.0, color=\"#555555\") + \n",
    "      scale_x_continuous(limits = c(min(pcs_plot$PC1), max(pcs_plot$PC1)*1.5)) +\n",
    "      scale_shape_manual(values=unique(as.numeric(as.factor(pcs_plot$attrib1)))+20)\n",
    "\n",
    "   if(pc3exists) {\n",
    "     p2 <- ggplot(data = pcs_plot, aes(x = PC2, y = PC3,shape=attrib1,fill=attrib2, color=attrib2)) + \n",
    "     geom_point( size=2.5,alpha=0.9) + \n",
    "     labs(title=expression(\"PCA of regularized \"~log[2]~\"(TPMs)\"),\n",
    "          shape=annotAttrib[1], color=annotAttrib[2])  +  guides(fill=F)  +\n",
    "     geom_text(aes(label=sampleID),hjust=-0.1, vjust=0,size = 1.4, color=\"#555555\") + \n",
    "     scale_x_continuous(limits = c(min(pcs_plot$PC2), max(pcs_plot$PC2)*1.5)) +\n",
    "     scale_shape_manual(values=unique(as.numeric(as.factor(pcs_plot$attrib1)))+20)\n",
    "     \n",
    "     p3 <- ggplot(data = pcs_plot, aes(x = PC3, y = PC4,shape=attrib1,fill=attrib2, color=attrib2)) + \n",
    "       geom_point( size=2.5,alpha=0.9) + \n",
    "       labs(title=expression(\"PCA of regularized \"~log[2]~\"(TPMs)\"),\n",
    "            shape=annotAttrib[1], color=annotAttrib[2])  +  guides(fill=F)  +\n",
    "       geom_text(aes(label=sampleID),hjust=-0.1, vjust=0,size = 1.4, color=\"#555555\") + \n",
    "       scale_x_continuous(limits = c(min(pcs_plot$PC3), max(pcs_plot$PC3)*1.5)) +\n",
    "       scale_shape_manual(values=unique(as.numeric(as.factor(pcs_plot$attrib1)))+20)\n",
    "     p4 <- ggplot(data = pcs_plot, aes(x = PC4, y = PC5,shape=attrib1,fill=attrib2, color=attrib2)) + \n",
    "       geom_point( size=2.5,alpha=0.9) + \n",
    "       labs(title=expression(\"PCA of regularized \"~log[2]~\"(TPMs)\"),\n",
    "            shape=annotAttrib[1], color=annotAttrib[2])  +  guides(fill=F)  +\n",
    "       geom_text(aes(label=sampleID),hjust=-0.1, vjust=0,size = 1.4, color=\"#555555\") + \n",
    "       scale_x_continuous(limits = c(min(pcs_plot$PC4), max(pcs_plot$PC4)*1.5)) +\n",
    "       scale_shape_manual(values=unique(as.numeric(as.factor(pcs_plot$attrib1)))+20)\n",
    "    }\n",
    "   \n",
    "  } else {    \n",
    "    p1 <- ggplot(data = pcs_plot, aes(x = PC1, y = PC2)) + \n",
    "      geom_point(aes(color=attrib1,fill=attrib2),size=2.5,shape=21,stroke=2) + \n",
    "      labs(title=expression(\"PCA of regularized \"~log[2]~\"(TPMs)\")) +\n",
    "      geom_text(aes(label=sampleID),hjust=-0.1, vjust=0,size = 1.4, color=\"#555555\")+ \n",
    "      scale_x_continuous(limits = c(min(pcs_plot$PC1), max(pcs_plot$PC1)*1.5)) +\n",
    "      labs(colour=annotAttrib[1], fill=annotAttrib[2])\n",
    "    \n",
    "    if(pc3exists) {\n",
    "      p2 <- ggplot(data = pcs_plot, aes(x = PC2, y = PC3)) + \n",
    "      geom_point(aes(color=attrib1,fill=attrib2),size=2.5,shape=21,stroke=2) + \n",
    "      labs(title=expression(\"PCA of regularized \"~log[2]~\"(TPMs)\")) +\n",
    "      geom_text(aes(label=sampleID),hjust=-0.1, vjust=0,size = 1.4, color=\"#555555\")+ \n",
    "      scale_x_continuous(limits = c(min(pcs_plot$PC2), max(pcs_plot$PC2)*1.2)) +\n",
    "      labs(colour=annotAttrib[1], fill=annotAttrib[2])\n",
    "    }\n",
    "    # first attrib -> color of plot:\n",
    "    if (is.numeric(sampleAnnotForPlot[,1])) { # continuous scale:\n",
    "      p1 <- p1 + scale_color_gradient2(low = myColrRamps[1,1],mid = myColrRamps[1,2],high = myColrRamps[1,3], \n",
    "                                       midpoint = mean(pcs_plot[,\"attrib1\"]))\n",
    "      if(pc3exists) {\n",
    "       p2 <- p2  + scale_color_gradient2(low = myColrRamps[1,1],mid = myColrRamps[1,2],high = myColrRamps[1,3], \n",
    "                                        midpoint = mean(pcs_plot[,\"attrib1\"]))\n",
    "      }\n",
    "    } else { # discrete scale\n",
    "      p1 <- p1 + scale_color_manual(values = annotColor[[1]])\n",
    "      if(pc3exists) {\n",
    "        p2 <- p2 + scale_color_manual(values = annotColor[[1]])\n",
    "      }\n",
    "    }\n",
    "    # second attrib -> fill of plot:\n",
    "    if (is.numeric(sampleAnnotForPlot[,2])) { # continuous scale:\n",
    "      p1 <- p1 + scale_fill_gradient2(low = myColrRamps[2,1],mid = myColrRamps[2,2],high = myColrRamps[2,3], \n",
    "                                      midpoint = mean(pcs_plot[,\"attrib2\"]))\n",
    "      if(pc3exists) {\n",
    "        p2 <- p2 + scale_fill_gradient2(low = myColrRamps[2,1],mid = myColrRamps[2,2],high = myColrRamps[2,3], \n",
    "                                      midpoint = mean(pcs_plot[,\"attrib2\"]))\n",
    "      }\n",
    "    } else {  #discrete scale\n",
    "      p1 <- p1 + scale_fill_manual(values = annotColor[[2]])\n",
    "      if(pc3exists) {\n",
    "        p2 <- p2 + scale_fill_manual(values = annotColor[[2]])\n",
    "      }\n",
    "    }\n",
    "  }\n",
    "  grid.arrange(p1)\n",
    "  if(pc3exists) {\n",
    "    grid.arrange(p2)\n",
    "    if (exists(\"p3\")) {grid.arrange(p3)} else {cat(\"p3 does not exist\\n\")}\n",
    "    if (exists(\"p4\")) {grid.arrange(p4)}\n",
    "    if (exists(\"p5\")) {grid.arrange(p5)}\n",
    "  }\n",
    "}\n",
    "\n",
    "if (length(annotAttrib)>2) {\n",
    " cat(\"cannot annotate more than 2 attributes in PCA, plotting first 2 only\\n\") \n",
    "}\n",
    "\n",
    "dev.off()\n",
    "\n",
    "print(\"done\")"
   ]
  },
  {
   "cell_type": "markdown",
   "id": "4cdeb78c",
   "metadata": {},
   "source": [
    "#### sample distance heatmap"
   ]
  },
  {
   "cell_type": "code",
   "execution_count": 48,
   "id": "439c7268",
   "metadata": {
    "scrolled": true
   },
   "outputs": [
    {
     "name": "stdout",
     "output_type": "stream",
     "text": [
      "[1] \"sample distance...\"\n"
     ]
    },
    {
     "data": {
      "text/html": [
       "<table class=\"dataframe\">\n",
       "<caption>A matrix: 4 × 4 of type dbl</caption>\n",
       "<thead>\n",
       "\t<tr><th></th><th scope=col>R-1090_ctr</th><th scope=col>R-1091_ctr</th><th scope=col>R-1092_CT913</th><th scope=col>R-1093_CT913</th></tr>\n",
       "</thead>\n",
       "<tbody>\n",
       "\t<tr><th scope=row>R-1090_ctr</th><td> 0.000000</td><td> 9.975704</td><td>15.47300</td><td>16.14802</td></tr>\n",
       "\t<tr><th scope=row>R-1091_ctr</th><td> 9.975704</td><td> 0.000000</td><td>15.44138</td><td>16.06787</td></tr>\n",
       "\t<tr><th scope=row>R-1092_CT913</th><td>15.472998</td><td>15.441385</td><td> 0.00000</td><td>11.02568</td></tr>\n",
       "\t<tr><th scope=row>R-1093_CT913</th><td>16.148019</td><td>16.067873</td><td>11.02568</td><td> 0.00000</td></tr>\n",
       "</tbody>\n",
       "</table>\n"
      ],
      "text/latex": [
       "A matrix: 4 × 4 of type dbl\n",
       "\\begin{tabular}{r|llll}\n",
       "  & R-1090\\_ctr & R-1091\\_ctr & R-1092\\_CT913 & R-1093\\_CT913\\\\\n",
       "\\hline\n",
       "\tR-1090\\_ctr &  0.000000 &  9.975704 & 15.47300 & 16.14802\\\\\n",
       "\tR-1091\\_ctr &  9.975704 &  0.000000 & 15.44138 & 16.06787\\\\\n",
       "\tR-1092\\_CT913 & 15.472998 & 15.441385 &  0.00000 & 11.02568\\\\\n",
       "\tR-1093\\_CT913 & 16.148019 & 16.067873 & 11.02568 &  0.00000\\\\\n",
       "\\end{tabular}\n"
      ],
      "text/markdown": [
       "\n",
       "A matrix: 4 × 4 of type dbl\n",
       "\n",
       "| <!--/--> | R-1090_ctr | R-1091_ctr | R-1092_CT913 | R-1093_CT913 |\n",
       "|---|---|---|---|---|\n",
       "| R-1090_ctr |  0.000000 |  9.975704 | 15.47300 | 16.14802 |\n",
       "| R-1091_ctr |  9.975704 |  0.000000 | 15.44138 | 16.06787 |\n",
       "| R-1092_CT913 | 15.472998 | 15.441385 |  0.00000 | 11.02568 |\n",
       "| R-1093_CT913 | 16.148019 | 16.067873 | 11.02568 |  0.00000 |\n",
       "\n"
      ],
      "text/plain": [
       "             R-1090_ctr R-1091_ctr R-1092_CT913 R-1093_CT913\n",
       "R-1090_ctr    0.000000   9.975704  15.47300     16.14802    \n",
       "R-1091_ctr    9.975704   0.000000  15.44138     16.06787    \n",
       "R-1092_CT913 15.472998  15.441385   0.00000     11.02568    \n",
       "R-1093_CT913 16.148019  16.067873  11.02568      0.00000    "
      ]
     },
     "metadata": {},
     "output_type": "display_data"
    },
    {
     "name": "stdout",
     "output_type": "stream",
     "text": [
      "writing clustering/sampleDist-heatmap.pdf \n"
     ]
    },
    {
     "data": {
      "text/html": [
       "<strong>png:</strong> 2"
      ],
      "text/latex": [
       "\\textbf{png:} 2"
      ],
      "text/markdown": [
       "**png:** 2"
      ],
      "text/plain": [
       "png \n",
       "  2 "
      ]
     },
     "metadata": {},
     "output_type": "display_data"
    },
    {
     "data": {
      "image/png": "[encoded data removed]",
      "text/plain": [
       "plot without title"
      ]
     },
     "metadata": {
      "image/png": {
       "height": 420,
       "width": 420
      }
     },
     "output_type": "display_data"
    }
   ],
   "source": [
    "print(\"sample distance...\")\n",
    "# sample distance rlog TPM:\n",
    "sampleDists <- dist( t( TPMsRlog ) )\n",
    "as.matrix( sampleDists )[1:4,1:4]\n",
    "sampleDistMatrix <- as.matrix( sampleDists )\n",
    "\n",
    "maxRowWidth <- max(nchar(rownames(sampleDistMatrix)))/3\n",
    "outf <- paste(outDir,\"sampleDist-heatmap.pdf\",sep=\"\")\n",
    "cat(\"writing\",outf,\"\\n\")\n",
    "\n",
    "maxNameLength <- max(nchar(rownames(sampleDistMatrix)))\n",
    "\n",
    "ph = pheatmap(mat = sampleDistMatrix, annotation_col = sampleAnnotForPlot)\n",
    "\n",
    "pdf(width = round(maxNameLength/4)+ncol(sampleDistMatrix)/5 +2,\n",
    "    height = ncol(sampleDistMatrix)/10+maxNameLength/4 +2,file = outf)\n",
    "ph\n",
    "dev.off()"
   ]
  },
  {
   "cell_type": "code",
   "execution_count": 49,
   "id": "5c620d2b",
   "metadata": {},
   "outputs": [],
   "source": [
    "# if labels shall be plotted -> more height necessary:\n",
    "nameLabelHeight <-  ifelse(nbGenesForClustering<nbGeneNameShowCutoff,nbGenesForClustering/15,0)"
   ]
  },
  {
   "cell_type": "markdown",
   "id": "c7dcea90",
   "metadata": {},
   "source": [
    "###  cluster top varying genes :"
   ]
  },
  {
   "cell_type": "code",
   "execution_count": 50,
   "id": "82805c0c",
   "metadata": {
    "scrolled": true
   },
   "outputs": [
    {
     "name": "stdout",
     "output_type": "stream",
     "text": [
      "[1] \"top var genes...\"\n"
     ]
    },
    {
     "data": {
      "text/html": [
       "<table class=\"dataframe\">\n",
       "<caption>A matrix: 6 × 12 of type dbl</caption>\n",
       "<thead>\n",
       "\t<tr><th></th><th scope=col>R-1090_ctr</th><th scope=col>R-1091_ctr</th><th scope=col>R-1092_CT913</th><th scope=col>R-1093_CT913</th><th scope=col>R-1094_CT_M1</th><th scope=col>R-1095_CT_M1</th><th scope=col>R-1096+BRCA1_ctr</th><th scope=col>R-1097+BRCA1_ctr</th><th scope=col>R-1098+BRCA1_CT913</th><th scope=col>R-1099+BRCA1_CT913</th><th scope=col>R-1100+BRCA1_CT_M1</th><th scope=col>R-1101+BRCA1_CT_M1</th></tr>\n",
       "</thead>\n",
       "<tbody>\n",
       "\t<tr><th scope=row>DDX11L1</th><td>1.107309</td><td>1.107309</td><td>1.107309</td><td>1.107309</td><td>1.107309</td><td>1.107309</td><td>1.107309</td><td>1.107309</td><td>1.107309</td><td>1.107309</td><td>1.107309</td><td>1.107309</td></tr>\n",
       "\t<tr><th scope=row>WASH7P</th><td>1.765705</td><td>1.784488</td><td>1.810820</td><td>1.802271</td><td>1.839136</td><td>1.775229</td><td>1.750889</td><td>1.730048</td><td>1.750889</td><td>1.823249</td><td>1.806573</td><td>1.939195</td></tr>\n",
       "\t<tr><th scope=row>MIR1302-10</th><td>1.107309</td><td>1.107309</td><td>1.107309</td><td>1.107309</td><td>1.107309</td><td>1.107309</td><td>1.107309</td><td>1.107309</td><td>1.107309</td><td>1.107309</td><td>1.107309</td><td>1.107309</td></tr>\n",
       "\t<tr><th scope=row>FAM138A</th><td>1.107309</td><td>1.107309</td><td>1.107309</td><td>1.107309</td><td>1.107309</td><td>1.107309</td><td>1.107309</td><td>1.107309</td><td>1.107309</td><td>1.107309</td><td>1.107309</td><td>1.107309</td></tr>\n",
       "\t<tr><th scope=row>OR4G4P</th><td>1.107309</td><td>1.107309</td><td>1.107309</td><td>1.107309</td><td>1.107309</td><td>1.107309</td><td>1.107309</td><td>1.107309</td><td>1.107309</td><td>1.107309</td><td>1.107309</td><td>1.107309</td></tr>\n",
       "\t<tr><th scope=row>OR4G11P</th><td>1.107309</td><td>1.107309</td><td>1.107309</td><td>1.107309</td><td>1.107309</td><td>1.107309</td><td>1.107309</td><td>1.107309</td><td>1.107309</td><td>1.107309</td><td>1.107309</td><td>1.107309</td></tr>\n",
       "</tbody>\n",
       "</table>\n"
      ],
      "text/latex": [
       "A matrix: 6 × 12 of type dbl\n",
       "\\begin{tabular}{r|llllllllllll}\n",
       "  & R-1090\\_ctr & R-1091\\_ctr & R-1092\\_CT913 & R-1093\\_CT913 & R-1094\\_CT\\_M1 & R-1095\\_CT\\_M1 & R-1096+BRCA1\\_ctr & R-1097+BRCA1\\_ctr & R-1098+BRCA1\\_CT913 & R-1099+BRCA1\\_CT913 & R-1100+BRCA1\\_CT\\_M1 & R-1101+BRCA1\\_CT\\_M1\\\\\n",
       "\\hline\n",
       "\tDDX11L1 & 1.107309 & 1.107309 & 1.107309 & 1.107309 & 1.107309 & 1.107309 & 1.107309 & 1.107309 & 1.107309 & 1.107309 & 1.107309 & 1.107309\\\\\n",
       "\tWASH7P & 1.765705 & 1.784488 & 1.810820 & 1.802271 & 1.839136 & 1.775229 & 1.750889 & 1.730048 & 1.750889 & 1.823249 & 1.806573 & 1.939195\\\\\n",
       "\tMIR1302-10 & 1.107309 & 1.107309 & 1.107309 & 1.107309 & 1.107309 & 1.107309 & 1.107309 & 1.107309 & 1.107309 & 1.107309 & 1.107309 & 1.107309\\\\\n",
       "\tFAM138A & 1.107309 & 1.107309 & 1.107309 & 1.107309 & 1.107309 & 1.107309 & 1.107309 & 1.107309 & 1.107309 & 1.107309 & 1.107309 & 1.107309\\\\\n",
       "\tOR4G4P & 1.107309 & 1.107309 & 1.107309 & 1.107309 & 1.107309 & 1.107309 & 1.107309 & 1.107309 & 1.107309 & 1.107309 & 1.107309 & 1.107309\\\\\n",
       "\tOR4G11P & 1.107309 & 1.107309 & 1.107309 & 1.107309 & 1.107309 & 1.107309 & 1.107309 & 1.107309 & 1.107309 & 1.107309 & 1.107309 & 1.107309\\\\\n",
       "\\end{tabular}\n"
      ],
      "text/markdown": [
       "\n",
       "A matrix: 6 × 12 of type dbl\n",
       "\n",
       "| <!--/--> | R-1090_ctr | R-1091_ctr | R-1092_CT913 | R-1093_CT913 | R-1094_CT_M1 | R-1095_CT_M1 | R-1096+BRCA1_ctr | R-1097+BRCA1_ctr | R-1098+BRCA1_CT913 | R-1099+BRCA1_CT913 | R-1100+BRCA1_CT_M1 | R-1101+BRCA1_CT_M1 |\n",
       "|---|---|---|---|---|---|---|---|---|---|---|---|---|\n",
       "| DDX11L1 | 1.107309 | 1.107309 | 1.107309 | 1.107309 | 1.107309 | 1.107309 | 1.107309 | 1.107309 | 1.107309 | 1.107309 | 1.107309 | 1.107309 |\n",
       "| WASH7P | 1.765705 | 1.784488 | 1.810820 | 1.802271 | 1.839136 | 1.775229 | 1.750889 | 1.730048 | 1.750889 | 1.823249 | 1.806573 | 1.939195 |\n",
       "| MIR1302-10 | 1.107309 | 1.107309 | 1.107309 | 1.107309 | 1.107309 | 1.107309 | 1.107309 | 1.107309 | 1.107309 | 1.107309 | 1.107309 | 1.107309 |\n",
       "| FAM138A | 1.107309 | 1.107309 | 1.107309 | 1.107309 | 1.107309 | 1.107309 | 1.107309 | 1.107309 | 1.107309 | 1.107309 | 1.107309 | 1.107309 |\n",
       "| OR4G4P | 1.107309 | 1.107309 | 1.107309 | 1.107309 | 1.107309 | 1.107309 | 1.107309 | 1.107309 | 1.107309 | 1.107309 | 1.107309 | 1.107309 |\n",
       "| OR4G11P | 1.107309 | 1.107309 | 1.107309 | 1.107309 | 1.107309 | 1.107309 | 1.107309 | 1.107309 | 1.107309 | 1.107309 | 1.107309 | 1.107309 |\n",
       "\n"
      ],
      "text/plain": [
       "           R-1090_ctr R-1091_ctr R-1092_CT913 R-1093_CT913 R-1094_CT_M1\n",
       "DDX11L1    1.107309   1.107309   1.107309     1.107309     1.107309    \n",
       "WASH7P     1.765705   1.784488   1.810820     1.802271     1.839136    \n",
       "MIR1302-10 1.107309   1.107309   1.107309     1.107309     1.107309    \n",
       "FAM138A    1.107309   1.107309   1.107309     1.107309     1.107309    \n",
       "OR4G4P     1.107309   1.107309   1.107309     1.107309     1.107309    \n",
       "OR4G11P    1.107309   1.107309   1.107309     1.107309     1.107309    \n",
       "           R-1095_CT_M1 R-1096+BRCA1_ctr R-1097+BRCA1_ctr R-1098+BRCA1_CT913\n",
       "DDX11L1    1.107309     1.107309         1.107309         1.107309          \n",
       "WASH7P     1.775229     1.750889         1.730048         1.750889          \n",
       "MIR1302-10 1.107309     1.107309         1.107309         1.107309          \n",
       "FAM138A    1.107309     1.107309         1.107309         1.107309          \n",
       "OR4G4P     1.107309     1.107309         1.107309         1.107309          \n",
       "OR4G11P    1.107309     1.107309         1.107309         1.107309          \n",
       "           R-1099+BRCA1_CT913 R-1100+BRCA1_CT_M1 R-1101+BRCA1_CT_M1\n",
       "DDX11L1    1.107309           1.107309           1.107309          \n",
       "WASH7P     1.823249           1.806573           1.939195          \n",
       "MIR1302-10 1.107309           1.107309           1.107309          \n",
       "FAM138A    1.107309           1.107309           1.107309          \n",
       "OR4G4P     1.107309           1.107309           1.107309          \n",
       "OR4G11P    1.107309           1.107309           1.107309          "
      ]
     },
     "metadata": {},
     "output_type": "display_data"
    },
    {
     "data": {
      "text/html": [
       "<style>\n",
       ".dl-inline {width: auto; margin:0; padding: 0}\n",
       ".dl-inline>dt, .dl-inline>dd {float: none; width: auto; display: inline-block}\n",
       ".dl-inline>dt::after {content: \":\\0020\"; padding-right: .5ex}\n",
       ".dl-inline>dt:not(:first-of-type) {padding-left: .5ex}\n",
       "</style><dl class=dl-inline><dt>DDX11L1</dt><dd>2.68929854052618e-32</dd><dt>WASH7P</dt><dd>0.00302924827854702</dd><dt>MIR1302-10</dt><dd>2.68929854052618e-32</dd><dt>FAM138A</dt><dd>2.68929854052618e-32</dd><dt>OR4G4P</dt><dd>2.68929854052618e-32</dd><dt>OR4G11P</dt><dd>2.68929854052618e-32</dd></dl>\n"
      ],
      "text/latex": [
       "\\begin{description*}\n",
       "\\item[DDX11L1] 2.68929854052618e-32\n",
       "\\item[WASH7P] 0.00302924827854702\n",
       "\\item[MIR1302-10] 2.68929854052618e-32\n",
       "\\item[FAM138A] 2.68929854052618e-32\n",
       "\\item[OR4G4P] 2.68929854052618e-32\n",
       "\\item[OR4G11P] 2.68929854052618e-32\n",
       "\\end{description*}\n"
      ],
      "text/markdown": [
       "DDX11L1\n",
       ":   2.68929854052618e-32WASH7P\n",
       ":   0.00302924827854702MIR1302-10\n",
       ":   2.68929854052618e-32FAM138A\n",
       ":   2.68929854052618e-32OR4G4P\n",
       ":   2.68929854052618e-32OR4G11P\n",
       ":   2.68929854052618e-32\n",
       "\n"
      ],
      "text/plain": [
       "     DDX11L1       WASH7P   MIR1302-10      FAM138A       OR4G4P      OR4G11P \n",
       "2.689299e-32 3.029248e-03 2.689299e-32 2.689299e-32 2.689299e-32 2.689299e-32 "
      ]
     },
     "metadata": {},
     "output_type": "display_data"
    },
    {
     "data": {
      "text/html": [
       "200"
      ],
      "text/latex": [
       "200"
      ],
      "text/markdown": [
       "200"
      ],
      "text/plain": [
       "[1] 200"
      ]
     },
     "metadata": {},
     "output_type": "display_data"
    },
    {
     "name": "stdout",
     "output_type": "stream",
     "text": [
      "writing clustering/geneHeatmap-topVariance-200genes.pdf \n"
     ]
    },
    {
     "data": {
      "text/html": [
       "<strong>png:</strong> 2"
      ],
      "text/latex": [
       "\\textbf{png:} 2"
      ],
      "text/markdown": [
       "**png:** 2"
      ],
      "text/plain": [
       "png \n",
       "  2 "
      ]
     },
     "metadata": {},
     "output_type": "display_data"
    },
    {
     "data": {
      "image/png": "[encoded data removed]",
      "text/plain": [
       "plot without title"
      ]
     },
     "metadata": {
      "image/png": {
       "height": 420,
       "width": 420
      }
     },
     "output_type": "display_data"
    }
   ],
   "source": [
    "print(\"top var genes...\")\n",
    "# Heatmap of top varying genes:\n",
    "# get top n genes with highest variance:\n",
    "rowVariances <- apply(TPMsRlog,1,var)\n",
    "head(TPMsRlog)\n",
    "head(rowVariances)\n",
    "\n",
    "topVarGenes <- head( order( rowVariances , decreasing=TRUE ), nbGenesForClustering )\n",
    "length(topVarGenes)\n",
    "topVarGeneSymbols <- names(rowVariances)[topVarGenes]\n",
    "\n",
    "outf <- paste(outDir,\"geneHeatmap-topVariance-\",nbGenesForClustering,\"genes.pdf\",sep=\"\")\n",
    "cat(\"writing\",outf,\"\\n\")\n",
    "\n",
    "ph = pheatmap(mat = TPMsRlog[ topVarGenes, ], main = paste(\"top\",nbGenesForClustering,\"varying genes - rlog(TPM)\"),\n",
    "         annotation_col = sampleAnnotForPlot,\n",
    "         show_rownames = ifelse(nbGenesForClustering<nbGeneNameShowCutoff,T,F))\n",
    "ph\n",
    "pdf(width = 4+ncol(TPMsRlog[ topVarGenes, ])/4.5,\n",
    "    height = 4 + max(100,nrow(TPMsRlog[ topVarGenes, ]))/120 + nameLabelHeight,\n",
    "     file=outf)\n",
    "par(oma=c(2,5,2,2))\n",
    "ph\n",
    "dev.off()"
   ]
  },
  {
   "cell_type": "markdown",
   "id": "c24218e2",
   "metadata": {},
   "source": [
    "### cluster by top robust varying genes"
   ]
  },
  {
   "cell_type": "code",
   "execution_count": null,
   "id": "3da6b557",
   "metadata": {},
   "outputs": [],
   "source": [
    "# Heatmap of top varying genes - robust:\n",
    "#  there may be few genes that are heavily expressed in single patients, which contribute to variance\n",
    "# more robust variance:\n",
    "# - sort expression value of each gene\n",
    "# - remove lowest and highest expr. value, re-calc variance"
   ]
  },
  {
   "cell_type": "code",
   "execution_count": 51,
   "id": "6a5e6c69",
   "metadata": {
    "scrolled": true
   },
   "outputs": [
    {
     "data": {
      "text/html": [
       "<style>\n",
       ".dl-inline {width: auto; margin:0; padding: 0}\n",
       ".dl-inline>dt, .dl-inline>dd {float: none; width: auto; display: inline-block}\n",
       ".dl-inline>dt::after {content: \":\\0020\"; padding-right: .5ex}\n",
       ".dl-inline>dt:not(:first-of-type) {padding-left: .5ex}\n",
       "</style><dl class=dl-inline><dt>DDX11L1</dt><dd>2.73910036535074e-32</dd><dt>WASH7P</dt><dd>0.00091868395427495</dd><dt>MIR1302-10</dt><dd>2.73910036535074e-32</dd><dt>FAM138A</dt><dd>2.73910036535074e-32</dd><dt>OR4G4P</dt><dd>2.73910036535074e-32</dd><dt>OR4G11P</dt><dd>2.73910036535074e-32</dd></dl>\n"
      ],
      "text/latex": [
       "\\begin{description*}\n",
       "\\item[DDX11L1] 2.73910036535074e-32\n",
       "\\item[WASH7P] 0.00091868395427495\n",
       "\\item[MIR1302-10] 2.73910036535074e-32\n",
       "\\item[FAM138A] 2.73910036535074e-32\n",
       "\\item[OR4G4P] 2.73910036535074e-32\n",
       "\\item[OR4G11P] 2.73910036535074e-32\n",
       "\\end{description*}\n"
      ],
      "text/markdown": [
       "DDX11L1\n",
       ":   2.73910036535074e-32WASH7P\n",
       ":   0.00091868395427495MIR1302-10\n",
       ":   2.73910036535074e-32FAM138A\n",
       ":   2.73910036535074e-32OR4G4P\n",
       ":   2.73910036535074e-32OR4G11P\n",
       ":   2.73910036535074e-32\n",
       "\n"
      ],
      "text/plain": [
       "    DDX11L1      WASH7P  MIR1302-10     FAM138A      OR4G4P     OR4G11P \n",
       "2.73910e-32 9.18684e-04 2.73910e-32 2.73910e-32 2.73910e-32 2.73910e-32 "
      ]
     },
     "metadata": {},
     "output_type": "display_data"
    },
    {
     "name": "stdout",
     "output_type": "stream",
     "text": [
      "writing clustering/geneHeatmap-robustVariance-200genes.pdf \n"
     ]
    },
    {
     "data": {
      "text/html": [
       "<strong>png:</strong> 2"
      ],
      "text/latex": [
       "\\textbf{png:} 2"
      ],
      "text/markdown": [
       "**png:** 2"
      ],
      "text/plain": [
       "png \n",
       "  2 "
      ]
     },
     "metadata": {},
     "output_type": "display_data"
    },
    {
     "data": {
      "image/png": "[encoded data removed]",
      "text/plain": [
       "plot without title"
      ]
     },
     "metadata": {
      "image/png": {
       "height": 420,
       "width": 420
      }
     },
     "output_type": "display_data"
    }
   ],
   "source": [
    "nbSamples <- ncol(TPMsRlog)\n",
    "robustVariances <- apply(TPMsRlog,1,function(x) var(sort(x)[2:(nbSamples-1)]))\n",
    "head(robustVariances)\n",
    "topRobustVarGenes <- head( order( robustVariances , decreasing=TRUE ), nbGenesForClustering )\n",
    "topRobustVarGeneSymbols <- names(robustVariances)[topRobustVarGenes]\n",
    "\n",
    "ph = pheatmap(mat = TPMsRlog[ topRobustVarGenes, ], \n",
    "          main = paste(\"top\",nbGenesForClustering,\"varying genes - rlog(TPM)\\nrobust against single sample outlier\"),\n",
    "         annotation_col = sampleAnnotForPlot,\n",
    "         show_rownames = ifelse(nbGenesForClustering<nbGeneNameShowCutoff,T,F))\n",
    "ph\n",
    "                         \n",
    "outf <- paste(outDir,\"geneHeatmap-robustVariance-\",nbGenesForClustering,\"genes.pdf\",sep=\"\")\n",
    "cat(\"writing\",outf,\"\\n\")\n",
    "\n",
    "pdf(width = 4+ncol(TPMsRlog[ topRobustVarGenes, ])/4.5,height = 4 + max(100,nrow(TPMsRlog[ topRobustVarGenes, ]))/120 + nameLabelHeight,\n",
    "   file=outf)\n",
    "par(oma=c(2,5,2,2))\n",
    "ph\n",
    "dev.off()"
   ]
  },
  {
   "cell_type": "markdown",
   "id": "1fff53c6",
   "metadata": {},
   "source": [
    "### top expressed genes:"
   ]
  },
  {
   "cell_type": "code",
   "execution_count": 52,
   "id": "e164c448",
   "metadata": {},
   "outputs": [
    {
     "data": {
      "text/html": [
       "<style>\n",
       ".dl-inline {width: auto; margin:0; padding: 0}\n",
       ".dl-inline>dt, .dl-inline>dd {float: none; width: auto; display: inline-block}\n",
       ".dl-inline>dt::after {content: \":\\0020\"; padding-right: .5ex}\n",
       ".dl-inline>dt:not(:first-of-type) {padding-left: .5ex}\n",
       "</style><dl class=dl-inline><dt>DDX11L1</dt><dd>13.2877115824353</dd><dt>WASH7P</dt><dd>21.5784940532252</dd><dt>MIR1302-10</dt><dd>13.2877115824353</dd><dt>FAM138A</dt><dd>13.2877115824353</dd><dt>OR4G4P</dt><dd>13.2877115824353</dd><dt>OR4G11P</dt><dd>13.2877115824353</dd></dl>\n"
      ],
      "text/latex": [
       "\\begin{description*}\n",
       "\\item[DDX11L1] 13.2877115824353\n",
       "\\item[WASH7P] 21.5784940532252\n",
       "\\item[MIR1302-10] 13.2877115824353\n",
       "\\item[FAM138A] 13.2877115824353\n",
       "\\item[OR4G4P] 13.2877115824353\n",
       "\\item[OR4G11P] 13.2877115824353\n",
       "\\end{description*}\n"
      ],
      "text/markdown": [
       "DDX11L1\n",
       ":   13.2877115824353WASH7P\n",
       ":   21.5784940532252MIR1302-10\n",
       ":   13.2877115824353FAM138A\n",
       ":   13.2877115824353OR4G4P\n",
       ":   13.2877115824353OR4G11P\n",
       ":   13.2877115824353\n",
       "\n"
      ],
      "text/plain": [
       "   DDX11L1     WASH7P MIR1302-10    FAM138A     OR4G4P    OR4G11P \n",
       "  13.28771   21.57849   13.28771   13.28771   13.28771   13.28771 "
      ]
     },
     "metadata": {},
     "output_type": "display_data"
    },
    {
     "name": "stdout",
     "output_type": "stream",
     "text": [
      "writing clustering/geneHeatmap-topExpressed-200genes.pdf \n"
     ]
    },
    {
     "data": {
      "text/html": [
       "<strong>png:</strong> 2"
      ],
      "text/latex": [
       "\\textbf{png:} 2"
      ],
      "text/markdown": [
       "**png:** 2"
      ],
      "text/plain": [
       "png \n",
       "  2 "
      ]
     },
     "metadata": {},
     "output_type": "display_data"
    },
    {
     "name": "stdout",
     "output_type": "stream",
     "text": [
      "[1] \"done\"\n"
     ]
    },
    {
     "data": {
      "image/png": "[encoded data removed]",
      "text/plain": [
       "plot without title"
      ]
     },
     "metadata": {
      "image/png": {
       "height": 420,
       "width": 420
      }
     },
     "output_type": "display_data"
    }
   ],
   "source": [
    "sumExpr <- apply(TPMsRlog,1,function(x) sum(x))\n",
    "head(sumExpr)\n",
    "topExprGenes <- head( order( sumExpr , decreasing=TRUE ), nbGenesForClustering )\n",
    "topExprGeneSymbols <- names(sumExpr)[topExprGenes]\n",
    "\n",
    "if (haveReducedList) {\n",
    "colTitle <- paste(nbGenesForClustering,\"genes - rlog(TPM)\")\n",
    "outf <- paste(outDir,\"geneHeatmap-\",nbGenesForClustering,\"genes.pdf\",sep=\"\")\n",
    "} else {\n",
    "colTitle <- paste(\"top\",nbGenesForClustering,\"expressed genes - rlog(TPM)\")\n",
    "outf <- paste(outDir,\"geneHeatmap-topExpressed-\",nbGenesForClustering,\"genes.pdf\",sep=\"\")\n",
    "}\n",
    "\n",
    "ph = pheatmap(mat = TPMsRlog[ topRobustVarGenes, ], \n",
    "          main = colTitle, annotation_col = sampleAnnotForPlot,\n",
    "         show_rownames = ifelse(nbGenesForClustering<nbGeneNameShowCutoff,T,F))\n",
    "ph\n",
    "cat(\"writing\",outf,\"\\n\")\n",
    "\n",
    "pdf(width = 4+ncol(TPMsRlog[ topExprGenes, ])/4.5,\n",
    "    height = 4 + max(100,nrow(TPMsRlog[ topExprGenes, ]))/120 + nameLabelHeight,\n",
    "file=outf)\n",
    "par(oma=c(2,5,2,2))\n",
    "ph\n",
    "dev.off()\n",
    "print(\"done\")"
   ]
  }
 ],
 "metadata": {
  "kernelspec": {
   "display_name": "R",
   "language": "R",
   "name": "ir"
  },
  "language_info": {
   "codemirror_mode": "r",
   "file_extension": ".r",
   "mimetype": "text/x-r-source",
   "name": "R",
   "pygments_lexer": "r",
   "version": "4.2.0"
  }
 },
 "nbformat": 4,
 "nbformat_minor": 5
}
